{
 "cells": [
  {
   "cell_type": "markdown",
   "id": "8bca5d3c",
   "metadata": {
    "papermill": {
     "duration": 0.029199,
     "end_time": "2022-09-22T00:22:13.014409",
     "exception": false,
     "start_time": "2022-09-22T00:22:12.985210",
     "status": "completed"
    },
    "tags": []
   },
   "source": [
    "## <b>Importing Libraries</b>"
   ]
  },
  {
   "cell_type": "code",
   "execution_count": 1,
   "id": "f6c3ac27",
   "metadata": {
    "execution": {
     "iopub.execute_input": "2022-09-22T00:22:13.071684Z",
     "iopub.status.busy": "2022-09-22T00:22:13.070933Z",
     "iopub.status.idle": "2022-09-22T00:22:14.274039Z",
     "shell.execute_reply": "2022-09-22T00:22:14.272579Z"
    },
    "papermill": {
     "duration": 1.235564,
     "end_time": "2022-09-22T00:22:14.277374",
     "exception": false,
     "start_time": "2022-09-22T00:22:13.041810",
     "status": "completed"
    },
    "tags": []
   },
   "outputs": [],
   "source": [
    "import pandas as pd\n",
    "import numpy as np\n",
    "import matplotlib.pyplot as plt\n",
    "import seaborn as sns\n",
    "sns.set_style(\"darkgrid\")\n",
    "from warnings import filterwarnings\n",
    "filterwarnings('ignore')"
   ]
  },
  {
   "cell_type": "markdown",
   "id": "8e4349e1",
   "metadata": {
    "papermill": {
     "duration": 0.028117,
     "end_time": "2022-09-22T00:22:14.333649",
     "exception": false,
     "start_time": "2022-09-22T00:22:14.305532",
     "status": "completed"
    },
    "tags": []
   },
   "source": [
    "### <b>Reading Dataset:</b>"
   ]
  },
  {
   "cell_type": "code",
   "execution_count": 2,
   "id": "198dba7b",
   "metadata": {
    "execution": {
     "iopub.execute_input": "2022-09-22T00:22:14.392108Z",
     "iopub.status.busy": "2022-09-22T00:22:14.390632Z",
     "iopub.status.idle": "2022-09-22T00:22:15.811726Z",
     "shell.execute_reply": "2022-09-22T00:22:15.810527Z"
    },
    "papermill": {
     "duration": 1.453097,
     "end_time": "2022-09-22T00:22:15.814691",
     "exception": false,
     "start_time": "2022-09-22T00:22:14.361594",
     "status": "completed"
    },
    "tags": []
   },
   "outputs": [],
   "source": [
    "match_data = pd.read_csv(\"../input/ipl-complete-dataset-20082020/IPL Matches 2008-2020.csv\")\n",
    "ball_data = pd.read_csv(\"../input/ipl-complete-dataset-20082020/IPL Ball-by-Ball 2008-2020.csv\")"
   ]
  },
  {
   "cell_type": "code",
   "execution_count": 3,
   "id": "b4ea3083",
   "metadata": {
    "execution": {
     "iopub.execute_input": "2022-09-22T00:22:15.871630Z",
     "iopub.status.busy": "2022-09-22T00:22:15.870071Z",
     "iopub.status.idle": "2022-09-22T00:22:15.903218Z",
     "shell.execute_reply": "2022-09-22T00:22:15.902020Z"
    },
    "papermill": {
     "duration": 0.065196,
     "end_time": "2022-09-22T00:22:15.906877",
     "exception": false,
     "start_time": "2022-09-22T00:22:15.841681",
     "status": "completed"
    },
    "tags": []
   },
   "outputs": [
    {
     "data": {
      "text/html": [
       "<div>\n",
       "<style scoped>\n",
       "    .dataframe tbody tr th:only-of-type {\n",
       "        vertical-align: middle;\n",
       "    }\n",
       "\n",
       "    .dataframe tbody tr th {\n",
       "        vertical-align: top;\n",
       "    }\n",
       "\n",
       "    .dataframe thead th {\n",
       "        text-align: right;\n",
       "    }\n",
       "</style>\n",
       "<table border=\"1\" class=\"dataframe\">\n",
       "  <thead>\n",
       "    <tr style=\"text-align: right;\">\n",
       "      <th></th>\n",
       "      <th>id</th>\n",
       "      <th>city</th>\n",
       "      <th>date</th>\n",
       "      <th>player_of_match</th>\n",
       "      <th>venue</th>\n",
       "      <th>neutral_venue</th>\n",
       "      <th>team1</th>\n",
       "      <th>team2</th>\n",
       "      <th>toss_winner</th>\n",
       "      <th>toss_decision</th>\n",
       "      <th>winner</th>\n",
       "      <th>result</th>\n",
       "      <th>result_margin</th>\n",
       "      <th>eliminator</th>\n",
       "      <th>method</th>\n",
       "      <th>umpire1</th>\n",
       "      <th>umpire2</th>\n",
       "    </tr>\n",
       "  </thead>\n",
       "  <tbody>\n",
       "    <tr>\n",
       "      <th>0</th>\n",
       "      <td>335982</td>\n",
       "      <td>Bangalore</td>\n",
       "      <td>2008-04-18</td>\n",
       "      <td>BB McCullum</td>\n",
       "      <td>M Chinnaswamy Stadium</td>\n",
       "      <td>0</td>\n",
       "      <td>Royal Challengers Bangalore</td>\n",
       "      <td>Kolkata Knight Riders</td>\n",
       "      <td>Royal Challengers Bangalore</td>\n",
       "      <td>field</td>\n",
       "      <td>Kolkata Knight Riders</td>\n",
       "      <td>runs</td>\n",
       "      <td>140.0</td>\n",
       "      <td>N</td>\n",
       "      <td>NaN</td>\n",
       "      <td>Asad Rauf</td>\n",
       "      <td>RE Koertzen</td>\n",
       "    </tr>\n",
       "    <tr>\n",
       "      <th>1</th>\n",
       "      <td>335983</td>\n",
       "      <td>Chandigarh</td>\n",
       "      <td>2008-04-19</td>\n",
       "      <td>MEK Hussey</td>\n",
       "      <td>Punjab Cricket Association Stadium, Mohali</td>\n",
       "      <td>0</td>\n",
       "      <td>Kings XI Punjab</td>\n",
       "      <td>Chennai Super Kings</td>\n",
       "      <td>Chennai Super Kings</td>\n",
       "      <td>bat</td>\n",
       "      <td>Chennai Super Kings</td>\n",
       "      <td>runs</td>\n",
       "      <td>33.0</td>\n",
       "      <td>N</td>\n",
       "      <td>NaN</td>\n",
       "      <td>MR Benson</td>\n",
       "      <td>SL Shastri</td>\n",
       "    </tr>\n",
       "    <tr>\n",
       "      <th>2</th>\n",
       "      <td>335984</td>\n",
       "      <td>Delhi</td>\n",
       "      <td>2008-04-19</td>\n",
       "      <td>MF Maharoof</td>\n",
       "      <td>Feroz Shah Kotla</td>\n",
       "      <td>0</td>\n",
       "      <td>Delhi Daredevils</td>\n",
       "      <td>Rajasthan Royals</td>\n",
       "      <td>Rajasthan Royals</td>\n",
       "      <td>bat</td>\n",
       "      <td>Delhi Daredevils</td>\n",
       "      <td>wickets</td>\n",
       "      <td>9.0</td>\n",
       "      <td>N</td>\n",
       "      <td>NaN</td>\n",
       "      <td>Aleem Dar</td>\n",
       "      <td>GA Pratapkumar</td>\n",
       "    </tr>\n",
       "    <tr>\n",
       "      <th>3</th>\n",
       "      <td>335985</td>\n",
       "      <td>Mumbai</td>\n",
       "      <td>2008-04-20</td>\n",
       "      <td>MV Boucher</td>\n",
       "      <td>Wankhede Stadium</td>\n",
       "      <td>0</td>\n",
       "      <td>Mumbai Indians</td>\n",
       "      <td>Royal Challengers Bangalore</td>\n",
       "      <td>Mumbai Indians</td>\n",
       "      <td>bat</td>\n",
       "      <td>Royal Challengers Bangalore</td>\n",
       "      <td>wickets</td>\n",
       "      <td>5.0</td>\n",
       "      <td>N</td>\n",
       "      <td>NaN</td>\n",
       "      <td>SJ Davis</td>\n",
       "      <td>DJ Harper</td>\n",
       "    </tr>\n",
       "    <tr>\n",
       "      <th>4</th>\n",
       "      <td>335986</td>\n",
       "      <td>Kolkata</td>\n",
       "      <td>2008-04-20</td>\n",
       "      <td>DJ Hussey</td>\n",
       "      <td>Eden Gardens</td>\n",
       "      <td>0</td>\n",
       "      <td>Kolkata Knight Riders</td>\n",
       "      <td>Deccan Chargers</td>\n",
       "      <td>Deccan Chargers</td>\n",
       "      <td>bat</td>\n",
       "      <td>Kolkata Knight Riders</td>\n",
       "      <td>wickets</td>\n",
       "      <td>5.0</td>\n",
       "      <td>N</td>\n",
       "      <td>NaN</td>\n",
       "      <td>BF Bowden</td>\n",
       "      <td>K Hariharan</td>\n",
       "    </tr>\n",
       "  </tbody>\n",
       "</table>\n",
       "</div>"
      ],
      "text/plain": [
       "       id        city        date player_of_match  \\\n",
       "0  335982   Bangalore  2008-04-18     BB McCullum   \n",
       "1  335983  Chandigarh  2008-04-19      MEK Hussey   \n",
       "2  335984       Delhi  2008-04-19     MF Maharoof   \n",
       "3  335985      Mumbai  2008-04-20      MV Boucher   \n",
       "4  335986     Kolkata  2008-04-20       DJ Hussey   \n",
       "\n",
       "                                        venue  neutral_venue  \\\n",
       "0                       M Chinnaswamy Stadium              0   \n",
       "1  Punjab Cricket Association Stadium, Mohali              0   \n",
       "2                            Feroz Shah Kotla              0   \n",
       "3                            Wankhede Stadium              0   \n",
       "4                                Eden Gardens              0   \n",
       "\n",
       "                         team1                        team2  \\\n",
       "0  Royal Challengers Bangalore        Kolkata Knight Riders   \n",
       "1              Kings XI Punjab          Chennai Super Kings   \n",
       "2             Delhi Daredevils             Rajasthan Royals   \n",
       "3               Mumbai Indians  Royal Challengers Bangalore   \n",
       "4        Kolkata Knight Riders              Deccan Chargers   \n",
       "\n",
       "                   toss_winner toss_decision                       winner  \\\n",
       "0  Royal Challengers Bangalore         field        Kolkata Knight Riders   \n",
       "1          Chennai Super Kings           bat          Chennai Super Kings   \n",
       "2             Rajasthan Royals           bat             Delhi Daredevils   \n",
       "3               Mumbai Indians           bat  Royal Challengers Bangalore   \n",
       "4              Deccan Chargers           bat        Kolkata Knight Riders   \n",
       "\n",
       "    result  result_margin eliminator method    umpire1         umpire2  \n",
       "0     runs          140.0          N    NaN  Asad Rauf     RE Koertzen  \n",
       "1     runs           33.0          N    NaN  MR Benson      SL Shastri  \n",
       "2  wickets            9.0          N    NaN  Aleem Dar  GA Pratapkumar  \n",
       "3  wickets            5.0          N    NaN   SJ Davis       DJ Harper  \n",
       "4  wickets            5.0          N    NaN  BF Bowden     K Hariharan  "
      ]
     },
     "execution_count": 3,
     "metadata": {},
     "output_type": "execute_result"
    }
   ],
   "source": [
    "match_data.head()"
   ]
  },
  {
   "cell_type": "code",
   "execution_count": 4,
   "id": "3fa51cb3",
   "metadata": {
    "execution": {
     "iopub.execute_input": "2022-09-22T00:22:15.964081Z",
     "iopub.status.busy": "2022-09-22T00:22:15.963569Z",
     "iopub.status.idle": "2022-09-22T00:22:15.984160Z",
     "shell.execute_reply": "2022-09-22T00:22:15.982856Z"
    },
    "papermill": {
     "duration": 0.052785,
     "end_time": "2022-09-22T00:22:15.986966",
     "exception": false,
     "start_time": "2022-09-22T00:22:15.934181",
     "status": "completed"
    },
    "tags": []
   },
   "outputs": [
    {
     "data": {
      "text/html": [
       "<div>\n",
       "<style scoped>\n",
       "    .dataframe tbody tr th:only-of-type {\n",
       "        vertical-align: middle;\n",
       "    }\n",
       "\n",
       "    .dataframe tbody tr th {\n",
       "        vertical-align: top;\n",
       "    }\n",
       "\n",
       "    .dataframe thead th {\n",
       "        text-align: right;\n",
       "    }\n",
       "</style>\n",
       "<table border=\"1\" class=\"dataframe\">\n",
       "  <thead>\n",
       "    <tr style=\"text-align: right;\">\n",
       "      <th></th>\n",
       "      <th>id</th>\n",
       "      <th>inning</th>\n",
       "      <th>over</th>\n",
       "      <th>ball</th>\n",
       "      <th>batsman</th>\n",
       "      <th>non_striker</th>\n",
       "      <th>bowler</th>\n",
       "      <th>batsman_runs</th>\n",
       "      <th>extra_runs</th>\n",
       "      <th>total_runs</th>\n",
       "      <th>non_boundary</th>\n",
       "      <th>is_wicket</th>\n",
       "      <th>dismissal_kind</th>\n",
       "      <th>player_dismissed</th>\n",
       "      <th>fielder</th>\n",
       "      <th>extras_type</th>\n",
       "      <th>batting_team</th>\n",
       "      <th>bowling_team</th>\n",
       "    </tr>\n",
       "  </thead>\n",
       "  <tbody>\n",
       "    <tr>\n",
       "      <th>0</th>\n",
       "      <td>335982</td>\n",
       "      <td>1</td>\n",
       "      <td>6</td>\n",
       "      <td>5</td>\n",
       "      <td>RT Ponting</td>\n",
       "      <td>BB McCullum</td>\n",
       "      <td>AA Noffke</td>\n",
       "      <td>1</td>\n",
       "      <td>0</td>\n",
       "      <td>1</td>\n",
       "      <td>0</td>\n",
       "      <td>0</td>\n",
       "      <td>NaN</td>\n",
       "      <td>NaN</td>\n",
       "      <td>NaN</td>\n",
       "      <td>NaN</td>\n",
       "      <td>Kolkata Knight Riders</td>\n",
       "      <td>Royal Challengers Bangalore</td>\n",
       "    </tr>\n",
       "    <tr>\n",
       "      <th>1</th>\n",
       "      <td>335982</td>\n",
       "      <td>1</td>\n",
       "      <td>6</td>\n",
       "      <td>6</td>\n",
       "      <td>BB McCullum</td>\n",
       "      <td>RT Ponting</td>\n",
       "      <td>AA Noffke</td>\n",
       "      <td>1</td>\n",
       "      <td>0</td>\n",
       "      <td>1</td>\n",
       "      <td>0</td>\n",
       "      <td>0</td>\n",
       "      <td>NaN</td>\n",
       "      <td>NaN</td>\n",
       "      <td>NaN</td>\n",
       "      <td>NaN</td>\n",
       "      <td>Kolkata Knight Riders</td>\n",
       "      <td>Royal Challengers Bangalore</td>\n",
       "    </tr>\n",
       "    <tr>\n",
       "      <th>2</th>\n",
       "      <td>335982</td>\n",
       "      <td>1</td>\n",
       "      <td>7</td>\n",
       "      <td>1</td>\n",
       "      <td>BB McCullum</td>\n",
       "      <td>RT Ponting</td>\n",
       "      <td>Z Khan</td>\n",
       "      <td>0</td>\n",
       "      <td>0</td>\n",
       "      <td>0</td>\n",
       "      <td>0</td>\n",
       "      <td>0</td>\n",
       "      <td>NaN</td>\n",
       "      <td>NaN</td>\n",
       "      <td>NaN</td>\n",
       "      <td>NaN</td>\n",
       "      <td>Kolkata Knight Riders</td>\n",
       "      <td>Royal Challengers Bangalore</td>\n",
       "    </tr>\n",
       "    <tr>\n",
       "      <th>3</th>\n",
       "      <td>335982</td>\n",
       "      <td>1</td>\n",
       "      <td>7</td>\n",
       "      <td>2</td>\n",
       "      <td>BB McCullum</td>\n",
       "      <td>RT Ponting</td>\n",
       "      <td>Z Khan</td>\n",
       "      <td>1</td>\n",
       "      <td>0</td>\n",
       "      <td>1</td>\n",
       "      <td>0</td>\n",
       "      <td>0</td>\n",
       "      <td>NaN</td>\n",
       "      <td>NaN</td>\n",
       "      <td>NaN</td>\n",
       "      <td>NaN</td>\n",
       "      <td>Kolkata Knight Riders</td>\n",
       "      <td>Royal Challengers Bangalore</td>\n",
       "    </tr>\n",
       "    <tr>\n",
       "      <th>4</th>\n",
       "      <td>335982</td>\n",
       "      <td>1</td>\n",
       "      <td>7</td>\n",
       "      <td>3</td>\n",
       "      <td>RT Ponting</td>\n",
       "      <td>BB McCullum</td>\n",
       "      <td>Z Khan</td>\n",
       "      <td>1</td>\n",
       "      <td>0</td>\n",
       "      <td>1</td>\n",
       "      <td>0</td>\n",
       "      <td>0</td>\n",
       "      <td>NaN</td>\n",
       "      <td>NaN</td>\n",
       "      <td>NaN</td>\n",
       "      <td>NaN</td>\n",
       "      <td>Kolkata Knight Riders</td>\n",
       "      <td>Royal Challengers Bangalore</td>\n",
       "    </tr>\n",
       "  </tbody>\n",
       "</table>\n",
       "</div>"
      ],
      "text/plain": [
       "       id  inning  over  ball      batsman  non_striker     bowler  \\\n",
       "0  335982       1     6     5   RT Ponting  BB McCullum  AA Noffke   \n",
       "1  335982       1     6     6  BB McCullum   RT Ponting  AA Noffke   \n",
       "2  335982       1     7     1  BB McCullum   RT Ponting     Z Khan   \n",
       "3  335982       1     7     2  BB McCullum   RT Ponting     Z Khan   \n",
       "4  335982       1     7     3   RT Ponting  BB McCullum     Z Khan   \n",
       "\n",
       "   batsman_runs  extra_runs  total_runs  non_boundary  is_wicket  \\\n",
       "0             1           0           1             0          0   \n",
       "1             1           0           1             0          0   \n",
       "2             0           0           0             0          0   \n",
       "3             1           0           1             0          0   \n",
       "4             1           0           1             0          0   \n",
       "\n",
       "  dismissal_kind player_dismissed fielder extras_type           batting_team  \\\n",
       "0            NaN              NaN     NaN         NaN  Kolkata Knight Riders   \n",
       "1            NaN              NaN     NaN         NaN  Kolkata Knight Riders   \n",
       "2            NaN              NaN     NaN         NaN  Kolkata Knight Riders   \n",
       "3            NaN              NaN     NaN         NaN  Kolkata Knight Riders   \n",
       "4            NaN              NaN     NaN         NaN  Kolkata Knight Riders   \n",
       "\n",
       "                  bowling_team  \n",
       "0  Royal Challengers Bangalore  \n",
       "1  Royal Challengers Bangalore  \n",
       "2  Royal Challengers Bangalore  \n",
       "3  Royal Challengers Bangalore  \n",
       "4  Royal Challengers Bangalore  "
      ]
     },
     "execution_count": 4,
     "metadata": {},
     "output_type": "execute_result"
    }
   ],
   "source": [
    "ball_data.head()"
   ]
  },
  {
   "cell_type": "code",
   "execution_count": 5,
   "id": "edd25ba8",
   "metadata": {
    "execution": {
     "iopub.execute_input": "2022-09-22T00:22:16.045326Z",
     "iopub.status.busy": "2022-09-22T00:22:16.043989Z",
     "iopub.status.idle": "2022-09-22T00:22:16.074724Z",
     "shell.execute_reply": "2022-09-22T00:22:16.073426Z"
    },
    "papermill": {
     "duration": 0.063391,
     "end_time": "2022-09-22T00:22:16.078100",
     "exception": false,
     "start_time": "2022-09-22T00:22:16.014709",
     "status": "completed"
    },
    "tags": []
   },
   "outputs": [
    {
     "name": "stdout",
     "output_type": "stream",
     "text": [
      "<class 'pandas.core.frame.DataFrame'>\n",
      "RangeIndex: 816 entries, 0 to 815\n",
      "Data columns (total 17 columns):\n",
      " #   Column           Non-Null Count  Dtype  \n",
      "---  ------           --------------  -----  \n",
      " 0   id               816 non-null    int64  \n",
      " 1   city             803 non-null    object \n",
      " 2   date             816 non-null    object \n",
      " 3   player_of_match  812 non-null    object \n",
      " 4   venue            816 non-null    object \n",
      " 5   neutral_venue    816 non-null    int64  \n",
      " 6   team1            816 non-null    object \n",
      " 7   team2            816 non-null    object \n",
      " 8   toss_winner      816 non-null    object \n",
      " 9   toss_decision    816 non-null    object \n",
      " 10  winner           812 non-null    object \n",
      " 11  result           812 non-null    object \n",
      " 12  result_margin    799 non-null    float64\n",
      " 13  eliminator       812 non-null    object \n",
      " 14  method           19 non-null     object \n",
      " 15  umpire1          816 non-null    object \n",
      " 16  umpire2          816 non-null    object \n",
      "dtypes: float64(1), int64(2), object(14)\n",
      "memory usage: 108.5+ KB\n"
     ]
    }
   ],
   "source": [
    "match_data.info()"
   ]
  },
  {
   "cell_type": "code",
   "execution_count": 6,
   "id": "20b36592",
   "metadata": {
    "execution": {
     "iopub.execute_input": "2022-09-22T00:22:16.136577Z",
     "iopub.status.busy": "2022-09-22T00:22:16.135751Z",
     "iopub.status.idle": "2022-09-22T00:22:16.160938Z",
     "shell.execute_reply": "2022-09-22T00:22:16.159688Z"
    },
    "papermill": {
     "duration": 0.057564,
     "end_time": "2022-09-22T00:22:16.163642",
     "exception": false,
     "start_time": "2022-09-22T00:22:16.106078",
     "status": "completed"
    },
    "tags": []
   },
   "outputs": [
    {
     "data": {
      "text/html": [
       "<div>\n",
       "<style scoped>\n",
       "    .dataframe tbody tr th:only-of-type {\n",
       "        vertical-align: middle;\n",
       "    }\n",
       "\n",
       "    .dataframe tbody tr th {\n",
       "        vertical-align: top;\n",
       "    }\n",
       "\n",
       "    .dataframe thead th {\n",
       "        text-align: right;\n",
       "    }\n",
       "</style>\n",
       "<table border=\"1\" class=\"dataframe\">\n",
       "  <thead>\n",
       "    <tr style=\"text-align: right;\">\n",
       "      <th></th>\n",
       "      <th>id</th>\n",
       "      <th>neutral_venue</th>\n",
       "      <th>result_margin</th>\n",
       "    </tr>\n",
       "  </thead>\n",
       "  <tbody>\n",
       "    <tr>\n",
       "      <th>count</th>\n",
       "      <td>8.160000e+02</td>\n",
       "      <td>816.000000</td>\n",
       "      <td>799.000000</td>\n",
       "    </tr>\n",
       "    <tr>\n",
       "      <th>mean</th>\n",
       "      <td>7.563496e+05</td>\n",
       "      <td>0.094363</td>\n",
       "      <td>17.321652</td>\n",
       "    </tr>\n",
       "    <tr>\n",
       "      <th>std</th>\n",
       "      <td>3.058943e+05</td>\n",
       "      <td>0.292512</td>\n",
       "      <td>22.068427</td>\n",
       "    </tr>\n",
       "    <tr>\n",
       "      <th>min</th>\n",
       "      <td>3.359820e+05</td>\n",
       "      <td>0.000000</td>\n",
       "      <td>1.000000</td>\n",
       "    </tr>\n",
       "    <tr>\n",
       "      <th>25%</th>\n",
       "      <td>5.012278e+05</td>\n",
       "      <td>0.000000</td>\n",
       "      <td>6.000000</td>\n",
       "    </tr>\n",
       "    <tr>\n",
       "      <th>50%</th>\n",
       "      <td>7.292980e+05</td>\n",
       "      <td>0.000000</td>\n",
       "      <td>8.000000</td>\n",
       "    </tr>\n",
       "    <tr>\n",
       "      <th>75%</th>\n",
       "      <td>1.082626e+06</td>\n",
       "      <td>0.000000</td>\n",
       "      <td>19.500000</td>\n",
       "    </tr>\n",
       "    <tr>\n",
       "      <th>max</th>\n",
       "      <td>1.237181e+06</td>\n",
       "      <td>1.000000</td>\n",
       "      <td>146.000000</td>\n",
       "    </tr>\n",
       "  </tbody>\n",
       "</table>\n",
       "</div>"
      ],
      "text/plain": [
       "                 id  neutral_venue  result_margin\n",
       "count  8.160000e+02     816.000000     799.000000\n",
       "mean   7.563496e+05       0.094363      17.321652\n",
       "std    3.058943e+05       0.292512      22.068427\n",
       "min    3.359820e+05       0.000000       1.000000\n",
       "25%    5.012278e+05       0.000000       6.000000\n",
       "50%    7.292980e+05       0.000000       8.000000\n",
       "75%    1.082626e+06       0.000000      19.500000\n",
       "max    1.237181e+06       1.000000     146.000000"
      ]
     },
     "execution_count": 6,
     "metadata": {},
     "output_type": "execute_result"
    }
   ],
   "source": [
    "match_data.describe()"
   ]
  },
  {
   "cell_type": "code",
   "execution_count": 7,
   "id": "111427e3",
   "metadata": {
    "execution": {
     "iopub.execute_input": "2022-09-22T00:22:16.222631Z",
     "iopub.status.busy": "2022-09-22T00:22:16.221700Z",
     "iopub.status.idle": "2022-09-22T00:22:16.232056Z",
     "shell.execute_reply": "2022-09-22T00:22:16.230684Z"
    },
    "papermill": {
     "duration": 0.042915,
     "end_time": "2022-09-22T00:22:16.234622",
     "exception": false,
     "start_time": "2022-09-22T00:22:16.191707",
     "status": "completed"
    },
    "tags": []
   },
   "outputs": [
    {
     "data": {
      "text/plain": [
       "object     14\n",
       "int64       2\n",
       "float64     1\n",
       "dtype: int64"
      ]
     },
     "execution_count": 7,
     "metadata": {},
     "output_type": "execute_result"
    }
   ],
   "source": [
    "match_data.dtypes.value_counts()"
   ]
  },
  {
   "cell_type": "markdown",
   "id": "d7e1da8e",
   "metadata": {
    "papermill": {
     "duration": 0.027935,
     "end_time": "2022-09-22T00:22:16.290853",
     "exception": false,
     "start_time": "2022-09-22T00:22:16.262918",
     "status": "completed"
    },
    "tags": []
   },
   "source": [
    "#### <b>Checking for Null values:</b>"
   ]
  },
  {
   "cell_type": "code",
   "execution_count": 8,
   "id": "27233b1e",
   "metadata": {
    "execution": {
     "iopub.execute_input": "2022-09-22T00:22:16.349369Z",
     "iopub.status.busy": "2022-09-22T00:22:16.348804Z",
     "iopub.status.idle": "2022-09-22T00:22:16.845895Z",
     "shell.execute_reply": "2022-09-22T00:22:16.844976Z"
    },
    "papermill": {
     "duration": 0.529292,
     "end_time": "2022-09-22T00:22:16.848260",
     "exception": false,
     "start_time": "2022-09-22T00:22:16.318968",
     "status": "completed"
    },
    "tags": []
   },
   "outputs": [
    {
     "data": {
      "image/png": "[encoded data removed]",
      "text/plain": [
       "<Figure size 432x288 with 2 Axes>"
      ]
     },
     "metadata": {},
     "output_type": "display_data"
    }
   ],
   "source": [
    "sns.heatmap(match_data.isnull(),cmap='Blues')\n",
    "plt.show()"
   ]
  },
  {
   "cell_type": "code",
   "execution_count": 9,
   "id": "be09119d",
   "metadata": {
    "execution": {
     "iopub.execute_input": "2022-09-22T00:22:16.908751Z",
     "iopub.status.busy": "2022-09-22T00:22:16.907567Z",
     "iopub.status.idle": "2022-09-22T00:22:16.919788Z",
     "shell.execute_reply": "2022-09-22T00:22:16.918554Z"
    },
    "papermill": {
     "duration": 0.045467,
     "end_time": "2022-09-22T00:22:16.922541",
     "exception": false,
     "start_time": "2022-09-22T00:22:16.877074",
     "status": "completed"
    },
    "tags": []
   },
   "outputs": [
    {
     "data": {
      "text/plain": [
       "id                   0\n",
       "city                13\n",
       "date                 0\n",
       "player_of_match      4\n",
       "venue                0\n",
       "neutral_venue        0\n",
       "team1                0\n",
       "team2                0\n",
       "toss_winner          0\n",
       "toss_decision        0\n",
       "winner               4\n",
       "result               4\n",
       "result_margin       17\n",
       "eliminator           4\n",
       "method             797\n",
       "umpire1              0\n",
       "umpire2              0\n",
       "dtype: int64"
      ]
     },
     "execution_count": 9,
     "metadata": {},
     "output_type": "execute_result"
    }
   ],
   "source": [
    "match_data.isnull().sum()"
   ]
  },
  {
   "cell_type": "code",
   "execution_count": 10,
   "id": "2060dc9d",
   "metadata": {
    "execution": {
     "iopub.execute_input": "2022-09-22T00:22:16.982518Z",
     "iopub.status.busy": "2022-09-22T00:22:16.982020Z",
     "iopub.status.idle": "2022-09-22T00:22:16.994617Z",
     "shell.execute_reply": "2022-09-22T00:22:16.993353Z"
    },
    "papermill": {
     "duration": 0.046045,
     "end_time": "2022-09-22T00:22:16.997603",
     "exception": false,
     "start_time": "2022-09-22T00:22:16.951558",
     "status": "completed"
    },
    "tags": []
   },
   "outputs": [
    {
     "name": "stdout",
     "output_type": "stream",
     "text": [
      "The percentage of null values in the columns consisting of null values:\n",
      "\n",
      "null rate of city column: 1.593%\n",
      "null rate of player_of_match column: 0.49%\n",
      "null rate of winner column: 0.49%\n",
      "null rate of result column: 0.49%\n",
      "null rate of result_margin column: 2.083%\n",
      "null rate of eliminator column: 0.49%\n",
      "null rate of method column: 97.672%\n"
     ]
    }
   ],
   "source": [
    "print(\"The percentage of null values in the columns consisting of null values:\\n\")\n",
    "for i in match_data.columns:\n",
    "    null_rate = match_data[i].isna().sum() / len(match_data) * 100 \n",
    "    if null_rate > 0 :\n",
    "        print(\"null rate of {} column: {}%\".format(i,round(null_rate,3)))"
   ]
  },
  {
   "cell_type": "markdown",
   "id": "6393f420",
   "metadata": {
    "papermill": {
     "duration": 0.028457,
     "end_time": "2022-09-22T00:22:17.055123",
     "exception": false,
     "start_time": "2022-09-22T00:22:17.026666",
     "status": "completed"
    },
    "tags": []
   },
   "source": [
    "#### <b>Number of unique values in each column:</b>"
   ]
  },
  {
   "cell_type": "code",
   "execution_count": 11,
   "id": "2ca43143",
   "metadata": {
    "execution": {
     "iopub.execute_input": "2022-09-22T00:22:17.115437Z",
     "iopub.status.busy": "2022-09-22T00:22:17.114948Z",
     "iopub.status.idle": "2022-09-22T00:22:17.130948Z",
     "shell.execute_reply": "2022-09-22T00:22:17.130036Z"
    },
    "papermill": {
     "duration": 0.048856,
     "end_time": "2022-09-22T00:22:17.133188",
     "exception": false,
     "start_time": "2022-09-22T00:22:17.084332",
     "status": "completed"
    },
    "tags": []
   },
   "outputs": [
    {
     "data": {
      "text/plain": [
       "id                 816\n",
       "city                32\n",
       "date               596\n",
       "player_of_match    233\n",
       "venue               36\n",
       "neutral_venue        2\n",
       "team1               15\n",
       "team2               15\n",
       "toss_winner         15\n",
       "toss_decision        2\n",
       "winner              15\n",
       "result               3\n",
       "result_margin       91\n",
       "eliminator           2\n",
       "method               1\n",
       "umpire1             48\n",
       "umpire2             47\n",
       "dtype: int64"
      ]
     },
     "execution_count": 11,
     "metadata": {},
     "output_type": "execute_result"
    }
   ],
   "source": [
    "match_data.nunique()"
   ]
  },
  {
   "cell_type": "code",
   "execution_count": 12,
   "id": "ef4cc572",
   "metadata": {
    "execution": {
     "iopub.execute_input": "2022-09-22T00:22:17.193393Z",
     "iopub.status.busy": "2022-09-22T00:22:17.192884Z",
     "iopub.status.idle": "2022-09-22T00:22:17.200487Z",
     "shell.execute_reply": "2022-09-22T00:22:17.199346Z"
    },
    "papermill": {
     "duration": 0.040755,
     "end_time": "2022-09-22T00:22:17.203111",
     "exception": false,
     "start_time": "2022-09-22T00:22:17.162356",
     "status": "completed"
    },
    "tags": []
   },
   "outputs": [
    {
     "data": {
      "text/plain": [
       "Index(['id', 'city', 'date', 'player_of_match', 'venue', 'neutral_venue',\n",
       "       'team1', 'team2', 'toss_winner', 'toss_decision', 'winner', 'result',\n",
       "       'result_margin', 'eliminator', 'method', 'umpire1', 'umpire2'],\n",
       "      dtype='object')"
      ]
     },
     "execution_count": 12,
     "metadata": {},
     "output_type": "execute_result"
    }
   ],
   "source": [
    "match_data.columns"
   ]
  },
  {
   "cell_type": "code",
   "execution_count": 13,
   "id": "3e546c7a",
   "metadata": {
    "execution": {
     "iopub.execute_input": "2022-09-22T00:22:17.264969Z",
     "iopub.status.busy": "2022-09-22T00:22:17.264080Z",
     "iopub.status.idle": "2022-09-22T00:22:17.271748Z",
     "shell.execute_reply": "2022-09-22T00:22:17.270521Z"
    },
    "papermill": {
     "duration": 0.041279,
     "end_time": "2022-09-22T00:22:17.274411",
     "exception": false,
     "start_time": "2022-09-22T00:22:17.233132",
     "status": "completed"
    },
    "tags": []
   },
   "outputs": [
    {
     "data": {
      "text/plain": [
       "(816, 17)"
      ]
     },
     "execution_count": 13,
     "metadata": {},
     "output_type": "execute_result"
    }
   ],
   "source": [
    "match_data.shape"
   ]
  },
  {
   "cell_type": "markdown",
   "id": "94f7b50c",
   "metadata": {
    "papermill": {
     "duration": 0.028806,
     "end_time": "2022-09-22T00:22:17.332636",
     "exception": false,
     "start_time": "2022-09-22T00:22:17.303830",
     "status": "completed"
    },
    "tags": []
   },
   "source": [
    "## <b>Data preprocessing:</b>"
   ]
  },
  {
   "cell_type": "markdown",
   "id": "3a49e9b6",
   "metadata": {
    "papermill": {
     "duration": 0.028793,
     "end_time": "2022-09-22T00:22:17.390466",
     "exception": false,
     "start_time": "2022-09-22T00:22:17.361673",
     "status": "completed"
    },
    "tags": []
   },
   "source": [
    "### <b>City:</b>"
   ]
  },
  {
   "cell_type": "code",
   "execution_count": 14,
   "id": "79994b33",
   "metadata": {
    "execution": {
     "iopub.execute_input": "2022-09-22T00:22:17.450835Z",
     "iopub.status.busy": "2022-09-22T00:22:17.450358Z",
     "iopub.status.idle": "2022-09-22T00:22:17.477803Z",
     "shell.execute_reply": "2022-09-22T00:22:17.476628Z"
    },
    "papermill": {
     "duration": 0.060575,
     "end_time": "2022-09-22T00:22:17.480209",
     "exception": false,
     "start_time": "2022-09-22T00:22:17.419634",
     "status": "completed"
    },
    "tags": []
   },
   "outputs": [
    {
     "data": {
      "text/html": [
       "<div>\n",
       "<style scoped>\n",
       "    .dataframe tbody tr th:only-of-type {\n",
       "        vertical-align: middle;\n",
       "    }\n",
       "\n",
       "    .dataframe tbody tr th {\n",
       "        vertical-align: top;\n",
       "    }\n",
       "\n",
       "    .dataframe thead th {\n",
       "        text-align: right;\n",
       "    }\n",
       "</style>\n",
       "<table border=\"1\" class=\"dataframe\">\n",
       "  <thead>\n",
       "    <tr style=\"text-align: right;\">\n",
       "      <th></th>\n",
       "      <th>id</th>\n",
       "      <th>city</th>\n",
       "      <th>date</th>\n",
       "      <th>player_of_match</th>\n",
       "      <th>venue</th>\n",
       "      <th>neutral_venue</th>\n",
       "      <th>team1</th>\n",
       "      <th>team2</th>\n",
       "      <th>toss_winner</th>\n",
       "      <th>toss_decision</th>\n",
       "      <th>winner</th>\n",
       "      <th>result</th>\n",
       "      <th>result_margin</th>\n",
       "      <th>eliminator</th>\n",
       "      <th>method</th>\n",
       "      <th>umpire1</th>\n",
       "      <th>umpire2</th>\n",
       "    </tr>\n",
       "  </thead>\n",
       "  <tbody>\n",
       "    <tr>\n",
       "      <th>399</th>\n",
       "      <td>729281</td>\n",
       "      <td>NaN</td>\n",
       "      <td>2014-04-17</td>\n",
       "      <td>YS Chahal</td>\n",
       "      <td>Sharjah Cricket Stadium</td>\n",
       "      <td>1</td>\n",
       "      <td>Delhi Daredevils</td>\n",
       "      <td>Royal Challengers Bangalore</td>\n",
       "      <td>Royal Challengers Bangalore</td>\n",
       "      <td>field</td>\n",
       "      <td>Royal Challengers Bangalore</td>\n",
       "      <td>wickets</td>\n",
       "      <td>8.0</td>\n",
       "      <td>N</td>\n",
       "      <td>NaN</td>\n",
       "      <td>Aleem Dar</td>\n",
       "      <td>S Ravi</td>\n",
       "    </tr>\n",
       "    <tr>\n",
       "      <th>402</th>\n",
       "      <td>729287</td>\n",
       "      <td>NaN</td>\n",
       "      <td>2014-04-19</td>\n",
       "      <td>PA Patel</td>\n",
       "      <td>Dubai International Cricket Stadium</td>\n",
       "      <td>1</td>\n",
       "      <td>Royal Challengers Bangalore</td>\n",
       "      <td>Mumbai Indians</td>\n",
       "      <td>Royal Challengers Bangalore</td>\n",
       "      <td>field</td>\n",
       "      <td>Royal Challengers Bangalore</td>\n",
       "      <td>wickets</td>\n",
       "      <td>7.0</td>\n",
       "      <td>N</td>\n",
       "      <td>NaN</td>\n",
       "      <td>Aleem Dar</td>\n",
       "      <td>AK Chaudhary</td>\n",
       "    </tr>\n",
       "    <tr>\n",
       "      <th>403</th>\n",
       "      <td>729289</td>\n",
       "      <td>NaN</td>\n",
       "      <td>2014-04-19</td>\n",
       "      <td>JP Duminy</td>\n",
       "      <td>Dubai International Cricket Stadium</td>\n",
       "      <td>1</td>\n",
       "      <td>Kolkata Knight Riders</td>\n",
       "      <td>Delhi Daredevils</td>\n",
       "      <td>Kolkata Knight Riders</td>\n",
       "      <td>bat</td>\n",
       "      <td>Delhi Daredevils</td>\n",
       "      <td>wickets</td>\n",
       "      <td>4.0</td>\n",
       "      <td>N</td>\n",
       "      <td>NaN</td>\n",
       "      <td>Aleem Dar</td>\n",
       "      <td>VA Kulkarni</td>\n",
       "    </tr>\n",
       "    <tr>\n",
       "      <th>404</th>\n",
       "      <td>729291</td>\n",
       "      <td>NaN</td>\n",
       "      <td>2014-04-20</td>\n",
       "      <td>GJ Maxwell</td>\n",
       "      <td>Sharjah Cricket Stadium</td>\n",
       "      <td>1</td>\n",
       "      <td>Rajasthan Royals</td>\n",
       "      <td>Kings XI Punjab</td>\n",
       "      <td>Kings XI Punjab</td>\n",
       "      <td>field</td>\n",
       "      <td>Kings XI Punjab</td>\n",
       "      <td>wickets</td>\n",
       "      <td>7.0</td>\n",
       "      <td>N</td>\n",
       "      <td>NaN</td>\n",
       "      <td>BF Bowden</td>\n",
       "      <td>M Erasmus</td>\n",
       "    </tr>\n",
       "    <tr>\n",
       "      <th>406</th>\n",
       "      <td>729295</td>\n",
       "      <td>NaN</td>\n",
       "      <td>2014-04-22</td>\n",
       "      <td>GJ Maxwell</td>\n",
       "      <td>Sharjah Cricket Stadium</td>\n",
       "      <td>1</td>\n",
       "      <td>Kings XI Punjab</td>\n",
       "      <td>Sunrisers Hyderabad</td>\n",
       "      <td>Sunrisers Hyderabad</td>\n",
       "      <td>field</td>\n",
       "      <td>Kings XI Punjab</td>\n",
       "      <td>runs</td>\n",
       "      <td>72.0</td>\n",
       "      <td>N</td>\n",
       "      <td>NaN</td>\n",
       "      <td>M Erasmus</td>\n",
       "      <td>S Ravi</td>\n",
       "    </tr>\n",
       "    <tr>\n",
       "      <th>407</th>\n",
       "      <td>729297</td>\n",
       "      <td>NaN</td>\n",
       "      <td>2014-04-23</td>\n",
       "      <td>RA Jadeja</td>\n",
       "      <td>Dubai International Cricket Stadium</td>\n",
       "      <td>1</td>\n",
       "      <td>Rajasthan Royals</td>\n",
       "      <td>Chennai Super Kings</td>\n",
       "      <td>Rajasthan Royals</td>\n",
       "      <td>field</td>\n",
       "      <td>Chennai Super Kings</td>\n",
       "      <td>runs</td>\n",
       "      <td>7.0</td>\n",
       "      <td>N</td>\n",
       "      <td>NaN</td>\n",
       "      <td>HDPK Dharmasena</td>\n",
       "      <td>RK Illingworth</td>\n",
       "    </tr>\n",
       "    <tr>\n",
       "      <th>408</th>\n",
       "      <td>729299</td>\n",
       "      <td>NaN</td>\n",
       "      <td>2014-04-24</td>\n",
       "      <td>CA Lynn</td>\n",
       "      <td>Sharjah Cricket Stadium</td>\n",
       "      <td>1</td>\n",
       "      <td>Royal Challengers Bangalore</td>\n",
       "      <td>Kolkata Knight Riders</td>\n",
       "      <td>Royal Challengers Bangalore</td>\n",
       "      <td>field</td>\n",
       "      <td>Kolkata Knight Riders</td>\n",
       "      <td>runs</td>\n",
       "      <td>2.0</td>\n",
       "      <td>N</td>\n",
       "      <td>NaN</td>\n",
       "      <td>Aleem Dar</td>\n",
       "      <td>VA Kulkarni</td>\n",
       "    </tr>\n",
       "    <tr>\n",
       "      <th>409</th>\n",
       "      <td>729301</td>\n",
       "      <td>NaN</td>\n",
       "      <td>2014-04-25</td>\n",
       "      <td>AJ Finch</td>\n",
       "      <td>Dubai International Cricket Stadium</td>\n",
       "      <td>1</td>\n",
       "      <td>Sunrisers Hyderabad</td>\n",
       "      <td>Delhi Daredevils</td>\n",
       "      <td>Sunrisers Hyderabad</td>\n",
       "      <td>bat</td>\n",
       "      <td>Sunrisers Hyderabad</td>\n",
       "      <td>runs</td>\n",
       "      <td>4.0</td>\n",
       "      <td>N</td>\n",
       "      <td>NaN</td>\n",
       "      <td>M Erasmus</td>\n",
       "      <td>S Ravi</td>\n",
       "    </tr>\n",
       "    <tr>\n",
       "      <th>410</th>\n",
       "      <td>729303</td>\n",
       "      <td>NaN</td>\n",
       "      <td>2014-04-25</td>\n",
       "      <td>MM Sharma</td>\n",
       "      <td>Dubai International Cricket Stadium</td>\n",
       "      <td>1</td>\n",
       "      <td>Chennai Super Kings</td>\n",
       "      <td>Mumbai Indians</td>\n",
       "      <td>Mumbai Indians</td>\n",
       "      <td>bat</td>\n",
       "      <td>Chennai Super Kings</td>\n",
       "      <td>wickets</td>\n",
       "      <td>7.0</td>\n",
       "      <td>N</td>\n",
       "      <td>NaN</td>\n",
       "      <td>BF Bowden</td>\n",
       "      <td>M Erasmus</td>\n",
       "    </tr>\n",
       "    <tr>\n",
       "      <th>413</th>\n",
       "      <td>729309</td>\n",
       "      <td>NaN</td>\n",
       "      <td>2014-04-27</td>\n",
       "      <td>M Vijay</td>\n",
       "      <td>Sharjah Cricket Stadium</td>\n",
       "      <td>1</td>\n",
       "      <td>Delhi Daredevils</td>\n",
       "      <td>Mumbai Indians</td>\n",
       "      <td>Mumbai Indians</td>\n",
       "      <td>bat</td>\n",
       "      <td>Delhi Daredevils</td>\n",
       "      <td>wickets</td>\n",
       "      <td>6.0</td>\n",
       "      <td>N</td>\n",
       "      <td>NaN</td>\n",
       "      <td>Aleem Dar</td>\n",
       "      <td>VA Kulkarni</td>\n",
       "    </tr>\n",
       "    <tr>\n",
       "      <th>414</th>\n",
       "      <td>729311</td>\n",
       "      <td>NaN</td>\n",
       "      <td>2014-04-27</td>\n",
       "      <td>DR Smith</td>\n",
       "      <td>Sharjah Cricket Stadium</td>\n",
       "      <td>1</td>\n",
       "      <td>Sunrisers Hyderabad</td>\n",
       "      <td>Chennai Super Kings</td>\n",
       "      <td>Sunrisers Hyderabad</td>\n",
       "      <td>bat</td>\n",
       "      <td>Chennai Super Kings</td>\n",
       "      <td>wickets</td>\n",
       "      <td>5.0</td>\n",
       "      <td>N</td>\n",
       "      <td>NaN</td>\n",
       "      <td>AK Chaudhary</td>\n",
       "      <td>VA Kulkarni</td>\n",
       "    </tr>\n",
       "    <tr>\n",
       "      <th>415</th>\n",
       "      <td>729313</td>\n",
       "      <td>NaN</td>\n",
       "      <td>2014-04-28</td>\n",
       "      <td>Sandeep Sharma</td>\n",
       "      <td>Dubai International Cricket Stadium</td>\n",
       "      <td>1</td>\n",
       "      <td>Kings XI Punjab</td>\n",
       "      <td>Royal Challengers Bangalore</td>\n",
       "      <td>Kings XI Punjab</td>\n",
       "      <td>field</td>\n",
       "      <td>Kings XI Punjab</td>\n",
       "      <td>wickets</td>\n",
       "      <td>5.0</td>\n",
       "      <td>N</td>\n",
       "      <td>NaN</td>\n",
       "      <td>BF Bowden</td>\n",
       "      <td>S Ravi</td>\n",
       "    </tr>\n",
       "    <tr>\n",
       "      <th>417</th>\n",
       "      <td>729317</td>\n",
       "      <td>NaN</td>\n",
       "      <td>2014-04-30</td>\n",
       "      <td>B Kumar</td>\n",
       "      <td>Dubai International Cricket Stadium</td>\n",
       "      <td>1</td>\n",
       "      <td>Mumbai Indians</td>\n",
       "      <td>Sunrisers Hyderabad</td>\n",
       "      <td>Mumbai Indians</td>\n",
       "      <td>field</td>\n",
       "      <td>Sunrisers Hyderabad</td>\n",
       "      <td>runs</td>\n",
       "      <td>15.0</td>\n",
       "      <td>N</td>\n",
       "      <td>NaN</td>\n",
       "      <td>HDPK Dharmasena</td>\n",
       "      <td>M Erasmus</td>\n",
       "    </tr>\n",
       "  </tbody>\n",
       "</table>\n",
       "</div>"
      ],
      "text/plain": [
       "         id city        date player_of_match  \\\n",
       "399  729281  NaN  2014-04-17       YS Chahal   \n",
       "402  729287  NaN  2014-04-19        PA Patel   \n",
       "403  729289  NaN  2014-04-19       JP Duminy   \n",
       "404  729291  NaN  2014-04-20      GJ Maxwell   \n",
       "406  729295  NaN  2014-04-22      GJ Maxwell   \n",
       "407  729297  NaN  2014-04-23       RA Jadeja   \n",
       "408  729299  NaN  2014-04-24         CA Lynn   \n",
       "409  729301  NaN  2014-04-25        AJ Finch   \n",
       "410  729303  NaN  2014-04-25       MM Sharma   \n",
       "413  729309  NaN  2014-04-27         M Vijay   \n",
       "414  729311  NaN  2014-04-27        DR Smith   \n",
       "415  729313  NaN  2014-04-28  Sandeep Sharma   \n",
       "417  729317  NaN  2014-04-30         B Kumar   \n",
       "\n",
       "                                   venue  neutral_venue  \\\n",
       "399              Sharjah Cricket Stadium              1   \n",
       "402  Dubai International Cricket Stadium              1   \n",
       "403  Dubai International Cricket Stadium              1   \n",
       "404              Sharjah Cricket Stadium              1   \n",
       "406              Sharjah Cricket Stadium              1   \n",
       "407  Dubai International Cricket Stadium              1   \n",
       "408              Sharjah Cricket Stadium              1   \n",
       "409  Dubai International Cricket Stadium              1   \n",
       "410  Dubai International Cricket Stadium              1   \n",
       "413              Sharjah Cricket Stadium              1   \n",
       "414              Sharjah Cricket Stadium              1   \n",
       "415  Dubai International Cricket Stadium              1   \n",
       "417  Dubai International Cricket Stadium              1   \n",
       "\n",
       "                           team1                        team2  \\\n",
       "399             Delhi Daredevils  Royal Challengers Bangalore   \n",
       "402  Royal Challengers Bangalore               Mumbai Indians   \n",
       "403        Kolkata Knight Riders             Delhi Daredevils   \n",
       "404             Rajasthan Royals              Kings XI Punjab   \n",
       "406              Kings XI Punjab          Sunrisers Hyderabad   \n",
       "407             Rajasthan Royals          Chennai Super Kings   \n",
       "408  Royal Challengers Bangalore        Kolkata Knight Riders   \n",
       "409          Sunrisers Hyderabad             Delhi Daredevils   \n",
       "410          Chennai Super Kings               Mumbai Indians   \n",
       "413             Delhi Daredevils               Mumbai Indians   \n",
       "414          Sunrisers Hyderabad          Chennai Super Kings   \n",
       "415              Kings XI Punjab  Royal Challengers Bangalore   \n",
       "417               Mumbai Indians          Sunrisers Hyderabad   \n",
       "\n",
       "                     toss_winner toss_decision                       winner  \\\n",
       "399  Royal Challengers Bangalore         field  Royal Challengers Bangalore   \n",
       "402  Royal Challengers Bangalore         field  Royal Challengers Bangalore   \n",
       "403        Kolkata Knight Riders           bat             Delhi Daredevils   \n",
       "404              Kings XI Punjab         field              Kings XI Punjab   \n",
       "406          Sunrisers Hyderabad         field              Kings XI Punjab   \n",
       "407             Rajasthan Royals         field          Chennai Super Kings   \n",
       "408  Royal Challengers Bangalore         field        Kolkata Knight Riders   \n",
       "409          Sunrisers Hyderabad           bat          Sunrisers Hyderabad   \n",
       "410               Mumbai Indians           bat          Chennai Super Kings   \n",
       "413               Mumbai Indians           bat             Delhi Daredevils   \n",
       "414          Sunrisers Hyderabad           bat          Chennai Super Kings   \n",
       "415              Kings XI Punjab         field              Kings XI Punjab   \n",
       "417               Mumbai Indians         field          Sunrisers Hyderabad   \n",
       "\n",
       "      result  result_margin eliminator method          umpire1         umpire2  \n",
       "399  wickets            8.0          N    NaN        Aleem Dar          S Ravi  \n",
       "402  wickets            7.0          N    NaN        Aleem Dar    AK Chaudhary  \n",
       "403  wickets            4.0          N    NaN        Aleem Dar     VA Kulkarni  \n",
       "404  wickets            7.0          N    NaN        BF Bowden       M Erasmus  \n",
       "406     runs           72.0          N    NaN        M Erasmus          S Ravi  \n",
       "407     runs            7.0          N    NaN  HDPK Dharmasena  RK Illingworth  \n",
       "408     runs            2.0          N    NaN        Aleem Dar     VA Kulkarni  \n",
       "409     runs            4.0          N    NaN        M Erasmus          S Ravi  \n",
       "410  wickets            7.0          N    NaN        BF Bowden       M Erasmus  \n",
       "413  wickets            6.0          N    NaN        Aleem Dar     VA Kulkarni  \n",
       "414  wickets            5.0          N    NaN     AK Chaudhary     VA Kulkarni  \n",
       "415  wickets            5.0          N    NaN        BF Bowden          S Ravi  \n",
       "417     runs           15.0          N    NaN  HDPK Dharmasena       M Erasmus  "
      ]
     },
     "execution_count": 14,
     "metadata": {},
     "output_type": "execute_result"
    }
   ],
   "source": [
    "match_data[match_data['city'].isnull()]"
   ]
  },
  {
   "cell_type": "markdown",
   "id": "f39d816a",
   "metadata": {
    "papermill": {
     "duration": 0.029273,
     "end_time": "2022-09-22T00:22:17.539807",
     "exception": false,
     "start_time": "2022-09-22T00:22:17.510534",
     "status": "completed"
    },
    "tags": []
   },
   "source": [
    "- From the given table consisting of **null value present in \"city\" column** we are able to infer that\n",
    "    - Rows consisting of **Sharjah or Dubai stadium** only have their \"city\" values missing\n",
    "    \n",
    "Hence we would be filling the null values accordingly"
   ]
  },
  {
   "cell_type": "code",
   "execution_count": 15,
   "id": "4c6e4a6f",
   "metadata": {
    "execution": {
     "iopub.execute_input": "2022-09-22T00:22:17.600716Z",
     "iopub.status.busy": "2022-09-22T00:22:17.600238Z",
     "iopub.status.idle": "2022-09-22T00:22:17.613149Z",
     "shell.execute_reply": "2022-09-22T00:22:17.611947Z"
    },
    "papermill": {
     "duration": 0.046364,
     "end_time": "2022-09-22T00:22:17.615596",
     "exception": false,
     "start_time": "2022-09-22T00:22:17.569232",
     "status": "completed"
    },
    "tags": []
   },
   "outputs": [],
   "source": [
    "for idx in match_data[match_data['city'].isna()].index:\n",
    "        match_data.loc[idx, 'city'] = 'Sharjah' if match_data.loc[idx, 'venue'] == 'Sharjah Cricket Stadium' else 'Dubai'"
   ]
  },
  {
   "cell_type": "markdown",
   "id": "16721c64",
   "metadata": {
    "papermill": {
     "duration": 0.029122,
     "end_time": "2022-09-22T00:22:17.674477",
     "exception": false,
     "start_time": "2022-09-22T00:22:17.645355",
     "status": "completed"
    },
    "tags": []
   },
   "source": [
    "Let us take an look at the unique values present in the city column"
   ]
  },
  {
   "cell_type": "code",
   "execution_count": 16,
   "id": "a1c7b1cf",
   "metadata": {
    "execution": {
     "iopub.execute_input": "2022-09-22T00:22:17.735461Z",
     "iopub.status.busy": "2022-09-22T00:22:17.734965Z",
     "iopub.status.idle": "2022-09-22T00:22:17.743129Z",
     "shell.execute_reply": "2022-09-22T00:22:17.742241Z"
    },
    "papermill": {
     "duration": 0.041302,
     "end_time": "2022-09-22T00:22:17.745260",
     "exception": false,
     "start_time": "2022-09-22T00:22:17.703958",
     "status": "completed"
    },
    "tags": []
   },
   "outputs": [
    {
     "data": {
      "text/plain": [
       "array(['Bangalore', 'Chandigarh', 'Delhi', 'Mumbai', 'Kolkata', 'Jaipur',\n",
       "       'Hyderabad', 'Chennai', 'Cape Town', 'Port Elizabeth', 'Durban',\n",
       "       'Centurion', 'East London', 'Johannesburg', 'Kimberley',\n",
       "       'Bloemfontein', 'Ahmedabad', 'Cuttack', 'Nagpur', 'Dharamsala',\n",
       "       'Kochi', 'Indore', 'Visakhapatnam', 'Pune', 'Raipur', 'Ranchi',\n",
       "       'Abu Dhabi', 'Sharjah', 'Dubai', 'Rajkot', 'Kanpur', 'Bengaluru'],\n",
       "      dtype=object)"
      ]
     },
     "execution_count": 16,
     "metadata": {},
     "output_type": "execute_result"
    }
   ],
   "source": [
    "match_data['city'].unique()"
   ]
  },
  {
   "cell_type": "markdown",
   "id": "cdcc296a",
   "metadata": {
    "papermill": {
     "duration": 0.029622,
     "end_time": "2022-09-22T00:22:17.804616",
     "exception": false,
     "start_time": "2022-09-22T00:22:17.774994",
     "status": "completed"
    },
    "tags": []
   },
   "source": [
    "- We get to see **Bangalore** as well as **Bengaluru** , hence we will replace it appropriately"
   ]
  },
  {
   "cell_type": "code",
   "execution_count": 17,
   "id": "2b0f1a8f",
   "metadata": {
    "execution": {
     "iopub.execute_input": "2022-09-22T00:22:17.865792Z",
     "iopub.status.busy": "2022-09-22T00:22:17.865294Z",
     "iopub.status.idle": "2022-09-22T00:22:17.872026Z",
     "shell.execute_reply": "2022-09-22T00:22:17.870809Z"
    },
    "papermill": {
     "duration": 0.04039,
     "end_time": "2022-09-22T00:22:17.874549",
     "exception": false,
     "start_time": "2022-09-22T00:22:17.834159",
     "status": "completed"
    },
    "tags": []
   },
   "outputs": [],
   "source": [
    "match_data['city'].replace('Bengaluru', 'Bangalore', inplace=True)"
   ]
  },
  {
   "cell_type": "markdown",
   "id": "34b2b38a",
   "metadata": {
    "papermill": {
     "duration": 0.029469,
     "end_time": "2022-09-22T00:22:17.933664",
     "exception": false,
     "start_time": "2022-09-22T00:22:17.904195",
     "status": "completed"
    },
    "tags": []
   },
   "source": [
    "### <b>Player of the match,Winner,Result,Result Margin:</b>"
   ]
  },
  {
   "cell_type": "code",
   "execution_count": 18,
   "id": "af4db1d6",
   "metadata": {
    "execution": {
     "iopub.execute_input": "2022-09-22T00:22:17.995382Z",
     "iopub.status.busy": "2022-09-22T00:22:17.994816Z",
     "iopub.status.idle": "2022-09-22T00:22:18.018947Z",
     "shell.execute_reply": "2022-09-22T00:22:18.017523Z"
    },
    "papermill": {
     "duration": 0.058241,
     "end_time": "2022-09-22T00:22:18.021452",
     "exception": false,
     "start_time": "2022-09-22T00:22:17.963211",
     "status": "completed"
    },
    "tags": []
   },
   "outputs": [
    {
     "data": {
      "text/html": [
       "<div>\n",
       "<style scoped>\n",
       "    .dataframe tbody tr th:only-of-type {\n",
       "        vertical-align: middle;\n",
       "    }\n",
       "\n",
       "    .dataframe tbody tr th {\n",
       "        vertical-align: top;\n",
       "    }\n",
       "\n",
       "    .dataframe thead th {\n",
       "        text-align: right;\n",
       "    }\n",
       "</style>\n",
       "<table border=\"1\" class=\"dataframe\">\n",
       "  <thead>\n",
       "    <tr style=\"text-align: right;\">\n",
       "      <th></th>\n",
       "      <th>id</th>\n",
       "      <th>city</th>\n",
       "      <th>date</th>\n",
       "      <th>player_of_match</th>\n",
       "      <th>venue</th>\n",
       "      <th>neutral_venue</th>\n",
       "      <th>team1</th>\n",
       "      <th>team2</th>\n",
       "      <th>toss_winner</th>\n",
       "      <th>toss_decision</th>\n",
       "      <th>winner</th>\n",
       "      <th>result</th>\n",
       "      <th>result_margin</th>\n",
       "      <th>eliminator</th>\n",
       "      <th>method</th>\n",
       "      <th>umpire1</th>\n",
       "      <th>umpire2</th>\n",
       "    </tr>\n",
       "  </thead>\n",
       "  <tbody>\n",
       "    <tr>\n",
       "      <th>241</th>\n",
       "      <td>501265</td>\n",
       "      <td>Delhi</td>\n",
       "      <td>2011-05-21</td>\n",
       "      <td>NaN</td>\n",
       "      <td>Feroz Shah Kotla</td>\n",
       "      <td>0</td>\n",
       "      <td>Delhi Daredevils</td>\n",
       "      <td>Pune Warriors</td>\n",
       "      <td>Delhi Daredevils</td>\n",
       "      <td>bat</td>\n",
       "      <td>NaN</td>\n",
       "      <td>NaN</td>\n",
       "      <td>NaN</td>\n",
       "      <td>NaN</td>\n",
       "      <td>NaN</td>\n",
       "      <td>SS Hazare</td>\n",
       "      <td>RJ Tucker</td>\n",
       "    </tr>\n",
       "    <tr>\n",
       "      <th>486</th>\n",
       "      <td>829763</td>\n",
       "      <td>Bangalore</td>\n",
       "      <td>2015-04-29</td>\n",
       "      <td>NaN</td>\n",
       "      <td>M Chinnaswamy Stadium</td>\n",
       "      <td>0</td>\n",
       "      <td>Royal Challengers Bangalore</td>\n",
       "      <td>Rajasthan Royals</td>\n",
       "      <td>Rajasthan Royals</td>\n",
       "      <td>field</td>\n",
       "      <td>NaN</td>\n",
       "      <td>NaN</td>\n",
       "      <td>NaN</td>\n",
       "      <td>NaN</td>\n",
       "      <td>NaN</td>\n",
       "      <td>JD Cloete</td>\n",
       "      <td>PG Pathak</td>\n",
       "    </tr>\n",
       "    <tr>\n",
       "      <th>511</th>\n",
       "      <td>829813</td>\n",
       "      <td>Bangalore</td>\n",
       "      <td>2015-05-17</td>\n",
       "      <td>NaN</td>\n",
       "      <td>M Chinnaswamy Stadium</td>\n",
       "      <td>0</td>\n",
       "      <td>Royal Challengers Bangalore</td>\n",
       "      <td>Delhi Daredevils</td>\n",
       "      <td>Royal Challengers Bangalore</td>\n",
       "      <td>field</td>\n",
       "      <td>NaN</td>\n",
       "      <td>NaN</td>\n",
       "      <td>NaN</td>\n",
       "      <td>NaN</td>\n",
       "      <td>NaN</td>\n",
       "      <td>HDPK Dharmasena</td>\n",
       "      <td>K Srinivasan</td>\n",
       "    </tr>\n",
       "    <tr>\n",
       "      <th>744</th>\n",
       "      <td>1178424</td>\n",
       "      <td>Bangalore</td>\n",
       "      <td>2019-04-30</td>\n",
       "      <td>NaN</td>\n",
       "      <td>M.Chinnaswamy Stadium</td>\n",
       "      <td>0</td>\n",
       "      <td>Royal Challengers Bangalore</td>\n",
       "      <td>Rajasthan Royals</td>\n",
       "      <td>Rajasthan Royals</td>\n",
       "      <td>field</td>\n",
       "      <td>NaN</td>\n",
       "      <td>NaN</td>\n",
       "      <td>NaN</td>\n",
       "      <td>NaN</td>\n",
       "      <td>NaN</td>\n",
       "      <td>UV Gandhe</td>\n",
       "      <td>NJ Llong</td>\n",
       "    </tr>\n",
       "  </tbody>\n",
       "</table>\n",
       "</div>"
      ],
      "text/plain": [
       "          id       city        date player_of_match                  venue  \\\n",
       "241   501265      Delhi  2011-05-21             NaN       Feroz Shah Kotla   \n",
       "486   829763  Bangalore  2015-04-29             NaN  M Chinnaswamy Stadium   \n",
       "511   829813  Bangalore  2015-05-17             NaN  M Chinnaswamy Stadium   \n",
       "744  1178424  Bangalore  2019-04-30             NaN  M.Chinnaswamy Stadium   \n",
       "\n",
       "     neutral_venue                        team1             team2  \\\n",
       "241              0             Delhi Daredevils     Pune Warriors   \n",
       "486              0  Royal Challengers Bangalore  Rajasthan Royals   \n",
       "511              0  Royal Challengers Bangalore  Delhi Daredevils   \n",
       "744              0  Royal Challengers Bangalore  Rajasthan Royals   \n",
       "\n",
       "                     toss_winner toss_decision winner result  result_margin  \\\n",
       "241             Delhi Daredevils           bat    NaN    NaN            NaN   \n",
       "486             Rajasthan Royals         field    NaN    NaN            NaN   \n",
       "511  Royal Challengers Bangalore         field    NaN    NaN            NaN   \n",
       "744             Rajasthan Royals         field    NaN    NaN            NaN   \n",
       "\n",
       "    eliminator method          umpire1       umpire2  \n",
       "241        NaN    NaN        SS Hazare     RJ Tucker  \n",
       "486        NaN    NaN        JD Cloete     PG Pathak  \n",
       "511        NaN    NaN  HDPK Dharmasena  K Srinivasan  \n",
       "744        NaN    NaN        UV Gandhe      NJ Llong  "
      ]
     },
     "execution_count": 18,
     "metadata": {},
     "output_type": "execute_result"
    }
   ],
   "source": [
    "match_data[match_data['player_of_match'].isnull()]"
   ]
  },
  {
   "cell_type": "markdown",
   "id": "3371a613",
   "metadata": {
    "papermill": {
     "duration": 0.029897,
     "end_time": "2022-09-22T00:22:18.081793",
     "exception": false,
     "start_time": "2022-09-22T00:22:18.051896",
     "status": "completed"
    },
    "tags": []
   },
   "source": [
    "- From the above cell we are able to see that we dont have any values not only for the <b>Player of the match</b> field but also for **winner, result , result_margin ,eliminator** fields\n",
    "- All these values remain missing cause the matches were washed away due to rain.\n",
    "- Hence we will fill these columns values with \"no result\""
   ]
  },
  {
   "cell_type": "code",
   "execution_count": 19,
   "id": "fea09f04",
   "metadata": {
    "execution": {
     "iopub.execute_input": "2022-09-22T00:22:18.145315Z",
     "iopub.status.busy": "2022-09-22T00:22:18.143891Z",
     "iopub.status.idle": "2022-09-22T00:22:18.156080Z",
     "shell.execute_reply": "2022-09-22T00:22:18.154930Z"
    },
    "papermill": {
     "duration": 0.047205,
     "end_time": "2022-09-22T00:22:18.159062",
     "exception": false,
     "start_time": "2022-09-22T00:22:18.111857",
     "status": "completed"
    },
    "tags": []
   },
   "outputs": [],
   "source": [
    "def no_result(df): #passing the dataframe as the parameter\n",
    "    for idx in match_data.loc[match_data['result'].isna()].index:\n",
    "        match_data.loc[idx,'winner']=\"No result\"\n",
    "        match_data.loc[idx,'result']=\"No result\"\n",
    "        match_data.loc[idx,'result_margin']=\"No result\"\n",
    "no_result(match_data)"
   ]
  },
  {
   "cell_type": "markdown",
   "id": "4a1d5857",
   "metadata": {
    "papermill": {
     "duration": 0.029775,
     "end_time": "2022-09-22T00:22:18.218948",
     "exception": false,
     "start_time": "2022-09-22T00:22:18.189173",
     "status": "completed"
    },
    "tags": []
   },
   "source": [
    "### <b>Method:</b>"
   ]
  },
  {
   "cell_type": "code",
   "execution_count": 20,
   "id": "262a242c",
   "metadata": {
    "execution": {
     "iopub.execute_input": "2022-09-22T00:22:18.282598Z",
     "iopub.status.busy": "2022-09-22T00:22:18.281238Z",
     "iopub.status.idle": "2022-09-22T00:22:18.305036Z",
     "shell.execute_reply": "2022-09-22T00:22:18.303853Z"
    },
    "papermill": {
     "duration": 0.057851,
     "end_time": "2022-09-22T00:22:18.307508",
     "exception": false,
     "start_time": "2022-09-22T00:22:18.249657",
     "status": "completed"
    },
    "tags": []
   },
   "outputs": [
    {
     "data": {
      "text/html": [
       "<div>\n",
       "<style scoped>\n",
       "    .dataframe tbody tr th:only-of-type {\n",
       "        vertical-align: middle;\n",
       "    }\n",
       "\n",
       "    .dataframe tbody tr th {\n",
       "        vertical-align: top;\n",
       "    }\n",
       "\n",
       "    .dataframe thead th {\n",
       "        text-align: right;\n",
       "    }\n",
       "</style>\n",
       "<table border=\"1\" class=\"dataframe\">\n",
       "  <thead>\n",
       "    <tr style=\"text-align: right;\">\n",
       "      <th></th>\n",
       "      <th>id</th>\n",
       "      <th>city</th>\n",
       "      <th>date</th>\n",
       "      <th>player_of_match</th>\n",
       "      <th>venue</th>\n",
       "      <th>neutral_venue</th>\n",
       "      <th>team1</th>\n",
       "      <th>team2</th>\n",
       "      <th>toss_winner</th>\n",
       "      <th>toss_decision</th>\n",
       "      <th>winner</th>\n",
       "      <th>result</th>\n",
       "      <th>result_margin</th>\n",
       "      <th>eliminator</th>\n",
       "      <th>method</th>\n",
       "      <th>umpire1</th>\n",
       "      <th>umpire2</th>\n",
       "    </tr>\n",
       "  </thead>\n",
       "  <tbody>\n",
       "    <tr>\n",
       "      <th>40</th>\n",
       "      <td>336022</td>\n",
       "      <td>Delhi</td>\n",
       "      <td>2008-05-17</td>\n",
       "      <td>DPMD Jayawardene</td>\n",
       "      <td>Feroz Shah Kotla</td>\n",
       "      <td>0</td>\n",
       "      <td>Delhi Daredevils</td>\n",
       "      <td>Kings XI Punjab</td>\n",
       "      <td>Delhi Daredevils</td>\n",
       "      <td>bat</td>\n",
       "      <td>Kings XI Punjab</td>\n",
       "      <td>runs</td>\n",
       "      <td>6.0</td>\n",
       "      <td>N</td>\n",
       "      <td>D/L</td>\n",
       "      <td>AV Jayaprakash</td>\n",
       "      <td>RE Koertzen</td>\n",
       "    </tr>\n",
       "    <tr>\n",
       "      <th>43</th>\n",
       "      <td>336025</td>\n",
       "      <td>Kolkata</td>\n",
       "      <td>2008-05-18</td>\n",
       "      <td>M Ntini</td>\n",
       "      <td>Eden Gardens</td>\n",
       "      <td>0</td>\n",
       "      <td>Kolkata Knight Riders</td>\n",
       "      <td>Chennai Super Kings</td>\n",
       "      <td>Kolkata Knight Riders</td>\n",
       "      <td>bat</td>\n",
       "      <td>Chennai Super Kings</td>\n",
       "      <td>runs</td>\n",
       "      <td>3.0</td>\n",
       "      <td>N</td>\n",
       "      <td>D/L</td>\n",
       "      <td>Asad Rauf</td>\n",
       "      <td>K Hariharan</td>\n",
       "    </tr>\n",
       "    <tr>\n",
       "      <th>60</th>\n",
       "      <td>392183</td>\n",
       "      <td>Cape Town</td>\n",
       "      <td>2009-04-19</td>\n",
       "      <td>DL Vettori</td>\n",
       "      <td>Newlands</td>\n",
       "      <td>1</td>\n",
       "      <td>Delhi Daredevils</td>\n",
       "      <td>Kings XI Punjab</td>\n",
       "      <td>Delhi Daredevils</td>\n",
       "      <td>field</td>\n",
       "      <td>Delhi Daredevils</td>\n",
       "      <td>wickets</td>\n",
       "      <td>10.0</td>\n",
       "      <td>N</td>\n",
       "      <td>D/L</td>\n",
       "      <td>MR Benson</td>\n",
       "      <td>SD Ranade</td>\n",
       "    </tr>\n",
       "    <tr>\n",
       "      <th>63</th>\n",
       "      <td>392186</td>\n",
       "      <td>Durban</td>\n",
       "      <td>2009-04-21</td>\n",
       "      <td>CH Gayle</td>\n",
       "      <td>Kingsmead</td>\n",
       "      <td>1</td>\n",
       "      <td>Kings XI Punjab</td>\n",
       "      <td>Kolkata Knight Riders</td>\n",
       "      <td>Kolkata Knight Riders</td>\n",
       "      <td>field</td>\n",
       "      <td>Kolkata Knight Riders</td>\n",
       "      <td>runs</td>\n",
       "      <td>11.0</td>\n",
       "      <td>N</td>\n",
       "      <td>D/L</td>\n",
       "      <td>DJ Harper</td>\n",
       "      <td>SD Ranade</td>\n",
       "    </tr>\n",
       "    <tr>\n",
       "      <th>89</th>\n",
       "      <td>392214</td>\n",
       "      <td>Centurion</td>\n",
       "      <td>2009-05-07</td>\n",
       "      <td>ML Hayden</td>\n",
       "      <td>SuperSport Park</td>\n",
       "      <td>1</td>\n",
       "      <td>Chennai Super Kings</td>\n",
       "      <td>Kings XI Punjab</td>\n",
       "      <td>Chennai Super Kings</td>\n",
       "      <td>bat</td>\n",
       "      <td>Chennai Super Kings</td>\n",
       "      <td>runs</td>\n",
       "      <td>12.0</td>\n",
       "      <td>N</td>\n",
       "      <td>D/L</td>\n",
       "      <td>DJ Harper</td>\n",
       "      <td>TH Wijewardene</td>\n",
       "    </tr>\n",
       "  </tbody>\n",
       "</table>\n",
       "</div>"
      ],
      "text/plain": [
       "        id       city        date   player_of_match             venue  \\\n",
       "40  336022      Delhi  2008-05-17  DPMD Jayawardene  Feroz Shah Kotla   \n",
       "43  336025    Kolkata  2008-05-18           M Ntini      Eden Gardens   \n",
       "60  392183  Cape Town  2009-04-19        DL Vettori          Newlands   \n",
       "63  392186     Durban  2009-04-21          CH Gayle         Kingsmead   \n",
       "89  392214  Centurion  2009-05-07         ML Hayden   SuperSport Park   \n",
       "\n",
       "    neutral_venue                  team1                  team2  \\\n",
       "40              0       Delhi Daredevils        Kings XI Punjab   \n",
       "43              0  Kolkata Knight Riders    Chennai Super Kings   \n",
       "60              1       Delhi Daredevils        Kings XI Punjab   \n",
       "63              1        Kings XI Punjab  Kolkata Knight Riders   \n",
       "89              1    Chennai Super Kings        Kings XI Punjab   \n",
       "\n",
       "              toss_winner toss_decision                 winner   result  \\\n",
       "40       Delhi Daredevils           bat        Kings XI Punjab     runs   \n",
       "43  Kolkata Knight Riders           bat    Chennai Super Kings     runs   \n",
       "60       Delhi Daredevils         field       Delhi Daredevils  wickets   \n",
       "63  Kolkata Knight Riders         field  Kolkata Knight Riders     runs   \n",
       "89    Chennai Super Kings           bat    Chennai Super Kings     runs   \n",
       "\n",
       "   result_margin eliminator method         umpire1         umpire2  \n",
       "40           6.0          N    D/L  AV Jayaprakash     RE Koertzen  \n",
       "43           3.0          N    D/L       Asad Rauf     K Hariharan  \n",
       "60          10.0          N    D/L       MR Benson       SD Ranade  \n",
       "63          11.0          N    D/L       DJ Harper       SD Ranade  \n",
       "89          12.0          N    D/L       DJ Harper  TH Wijewardene  "
      ]
     },
     "execution_count": 20,
     "metadata": {},
     "output_type": "execute_result"
    }
   ],
   "source": [
    "match_data.loc[-match_data.method.isna()].head()"
   ]
  },
  {
   "cell_type": "code",
   "execution_count": 21,
   "id": "99e3783e",
   "metadata": {
    "execution": {
     "iopub.execute_input": "2022-09-22T00:22:18.371450Z",
     "iopub.status.busy": "2022-09-22T00:22:18.370955Z",
     "iopub.status.idle": "2022-09-22T00:22:18.387040Z",
     "shell.execute_reply": "2022-09-22T00:22:18.385956Z"
    },
    "papermill": {
     "duration": 0.050986,
     "end_time": "2022-09-22T00:22:18.389329",
     "exception": false,
     "start_time": "2022-09-22T00:22:18.338343",
     "status": "completed"
    },
    "tags": []
   },
   "outputs": [
    {
     "data": {
      "text/plain": [
       "19"
      ]
     },
     "execution_count": 21,
     "metadata": {},
     "output_type": "execute_result"
    }
   ],
   "source": [
    "match_data.loc[-match_data.method.isna()].value_counts().sum()"
   ]
  },
  {
   "cell_type": "markdown",
   "id": "c17743b7",
   "metadata": {
    "papermill": {
     "duration": 0.03009,
     "end_time": "2022-09-22T00:22:18.449784",
     "exception": false,
     "start_time": "2022-09-22T00:22:18.419694",
     "status": "completed"
    },
    "tags": []
   },
   "source": [
    "- The **method** column consists of only 19 values with **\"D/L\"** being the only value present.\n",
    "- Hence no need to temper with this column"
   ]
  },
  {
   "cell_type": "markdown",
   "id": "77fd8083",
   "metadata": {
    "papermill": {
     "duration": 0.030299,
     "end_time": "2022-09-22T00:22:18.510391",
     "exception": false,
     "start_time": "2022-09-22T00:22:18.480092",
     "status": "completed"
    },
    "tags": []
   },
   "source": [
    "### <b>Neutral Venue:</b>"
   ]
  },
  {
   "cell_type": "markdown",
   "id": "43dd3b6d",
   "metadata": {
    "papermill": {
     "duration": 0.030138,
     "end_time": "2022-09-22T00:22:18.570928",
     "exception": false,
     "start_time": "2022-09-22T00:22:18.540790",
     "status": "completed"
    },
    "tags": []
   },
   "source": [
    "- Would like to thank https://www.kaggle.com/harshdhamecha for giving this insight.\n",
    "- The link to his notebook:\n",
    "  https://www.kaggle.com/code/harshdhamecha/feature-engineering/notebook\n",
    "  "
   ]
  },
  {
   "cell_type": "code",
   "execution_count": 22,
   "id": "2492a1c8",
   "metadata": {
    "execution": {
     "iopub.execute_input": "2022-09-22T00:22:18.636605Z",
     "iopub.status.busy": "2022-09-22T00:22:18.635360Z",
     "iopub.status.idle": "2022-09-22T00:22:18.675396Z",
     "shell.execute_reply": "2022-09-22T00:22:18.674234Z"
    },
    "papermill": {
     "duration": 0.076774,
     "end_time": "2022-09-22T00:22:18.678155",
     "exception": false,
     "start_time": "2022-09-22T00:22:18.601381",
     "status": "completed"
    },
    "scrolled": true,
    "tags": []
   },
   "outputs": [],
   "source": [
    "playoff_ids = [336038, 336039, 336040, 392237, 392238, 392239, 419162, 419163, 419165, 501268, 501269, 501270, 501271, 548378, 548379, 548380, 548381, 598070, 598071, 598072, \n",
    "               598073, 734043, 734045, 734047, 734049, 829817, 829819, 829821, 829823, 981013, 981015, 981017, 981019, 1082647, 1082648, 1082649, 1082650, 1136617, \n",
    "               1136618, 1136619, 1136620, 1181764, 1181766, 1181767, 1181768, 1237177, 1237178, 1237180, 1237181]\n",
    "# ids of all qualifier matches\n",
    "qualifier_ids = [336038, 336039, 392237, 392238, 419162, 419163, 501268, 501270, 548378, 548380, 598070, 598072, 734043, 734047, \n",
    "                 829817, 829821, 981013, 981017, 1082647, 1082649, 1136617, 1136619, 1181764, 1181767, 1237177, 1237180]\n",
    "\n",
    "# ids of all eliminator matches\n",
    "eliminator_ids = [501269, 548379, 598071, 734045, 829819, 981015, 1082648, 1136618, 1181766, 1237178]\n",
    "\n",
    "# ids of all final matches\n",
    "final_ids = [336040, 392239, 419165, 501271, 548381, 598073, 734049, 829823, 981019, 1082650, 1136620, 1181768, 1237181]\n",
    "\n",
    "# ids of all playoff matches when matches played in team2's home ground\n",
    "team2_home_ids = [419163, 548380, 548381, 734043, 829817, 981013, 1181764]\n",
    "\n",
    "# ids of all playoff matches when matches played at neutral venues \n",
    "change_neutral_venue_ids = [336038, 336039, 336040, 419162, 419165, 501268, 501270, 548378, 548379, 598070, 598071, 598072, 598073, 734045, \n",
    "                    734047, 734049, 829819, 829821, 829823, 981015, 981017, 1082648, 1082649, 1082650, 1136617, 1136620, 1181766, 1181767, 1181768]\n",
    "\n",
    "def change_neutral_venue(df, change_neutral_venue_ids):\n",
    "    for idx in match_data.index:\n",
    "        if idx in change_neutral_venue_ids:\n",
    "            match_data.loc[idx, 'neutral_venue'] = 1 \n",
    "        if match_data.loc[idx, 'date'][0:4] == '2020':\n",
    "            match_data.loc[idx, 'neutral_venue'] = 1\n",
    "change_neutral_venue(match_data, change_neutral_venue_ids)"
   ]
  },
  {
   "cell_type": "markdown",
   "id": "972c063d",
   "metadata": {
    "papermill": {
     "duration": 0.029916,
     "end_time": "2022-09-22T00:22:18.738587",
     "exception": false,
     "start_time": "2022-09-22T00:22:18.708671",
     "status": "completed"
    },
    "tags": []
   },
   "source": [
    "### <b>Teams:</b>"
   ]
  },
  {
   "cell_type": "code",
   "execution_count": 23,
   "id": "f8a0fc2b",
   "metadata": {
    "execution": {
     "iopub.execute_input": "2022-09-22T00:22:18.801144Z",
     "iopub.status.busy": "2022-09-22T00:22:18.800674Z",
     "iopub.status.idle": "2022-09-22T00:22:19.498540Z",
     "shell.execute_reply": "2022-09-22T00:22:19.497320Z"
    },
    "papermill": {
     "duration": 0.732477,
     "end_time": "2022-09-22T00:22:19.501317",
     "exception": false,
     "start_time": "2022-09-22T00:22:18.768840",
     "status": "completed"
    },
    "tags": []
   },
   "outputs": [
    {
     "data": {
      "text/html": [
       "<div>\n",
       "<style scoped>\n",
       "    .dataframe tbody tr th:only-of-type {\n",
       "        vertical-align: middle;\n",
       "    }\n",
       "\n",
       "    .dataframe tbody tr th {\n",
       "        vertical-align: top;\n",
       "    }\n",
       "\n",
       "    .dataframe thead th {\n",
       "        text-align: right;\n",
       "    }\n",
       "</style>\n",
       "<table border=\"1\" class=\"dataframe\">\n",
       "  <thead>\n",
       "    <tr style=\"text-align: right;\">\n",
       "      <th></th>\n",
       "      <th>id</th>\n",
       "      <th>city</th>\n",
       "      <th>date</th>\n",
       "      <th>player_of_match</th>\n",
       "      <th>venue</th>\n",
       "      <th>neutral_venue</th>\n",
       "      <th>team1</th>\n",
       "      <th>team2</th>\n",
       "      <th>toss_winner</th>\n",
       "      <th>toss_decision</th>\n",
       "      <th>winner</th>\n",
       "      <th>result</th>\n",
       "      <th>result_margin</th>\n",
       "      <th>eliminator</th>\n",
       "      <th>method</th>\n",
       "      <th>umpire1</th>\n",
       "      <th>umpire2</th>\n",
       "    </tr>\n",
       "  </thead>\n",
       "  <tbody>\n",
       "    <tr>\n",
       "      <th>0</th>\n",
       "      <td>335982</td>\n",
       "      <td>Bangalore</td>\n",
       "      <td>2008-04-18</td>\n",
       "      <td>BB McCullum</td>\n",
       "      <td>M Chinnaswamy Stadium</td>\n",
       "      <td>0</td>\n",
       "      <td>RCB</td>\n",
       "      <td>KKR</td>\n",
       "      <td>RCB</td>\n",
       "      <td>field</td>\n",
       "      <td>KKR</td>\n",
       "      <td>runs</td>\n",
       "      <td>140.0</td>\n",
       "      <td>N</td>\n",
       "      <td>NaN</td>\n",
       "      <td>Asad Rauf</td>\n",
       "      <td>RE Koertzen</td>\n",
       "    </tr>\n",
       "    <tr>\n",
       "      <th>1</th>\n",
       "      <td>335983</td>\n",
       "      <td>Chandigarh</td>\n",
       "      <td>2008-04-19</td>\n",
       "      <td>MEK Hussey</td>\n",
       "      <td>Punjab Cricket Association Stadium, Mohali</td>\n",
       "      <td>0</td>\n",
       "      <td>KXIP</td>\n",
       "      <td>CSK</td>\n",
       "      <td>CSK</td>\n",
       "      <td>bat</td>\n",
       "      <td>CSK</td>\n",
       "      <td>runs</td>\n",
       "      <td>33.0</td>\n",
       "      <td>N</td>\n",
       "      <td>NaN</td>\n",
       "      <td>MR Benson</td>\n",
       "      <td>SL Shastri</td>\n",
       "    </tr>\n",
       "    <tr>\n",
       "      <th>2</th>\n",
       "      <td>335984</td>\n",
       "      <td>Delhi</td>\n",
       "      <td>2008-04-19</td>\n",
       "      <td>MF Maharoof</td>\n",
       "      <td>Feroz Shah Kotla</td>\n",
       "      <td>0</td>\n",
       "      <td>DC</td>\n",
       "      <td>RR</td>\n",
       "      <td>RR</td>\n",
       "      <td>bat</td>\n",
       "      <td>DC</td>\n",
       "      <td>wickets</td>\n",
       "      <td>9.0</td>\n",
       "      <td>N</td>\n",
       "      <td>NaN</td>\n",
       "      <td>Aleem Dar</td>\n",
       "      <td>GA Pratapkumar</td>\n",
       "    </tr>\n",
       "    <tr>\n",
       "      <th>3</th>\n",
       "      <td>335985</td>\n",
       "      <td>Mumbai</td>\n",
       "      <td>2008-04-20</td>\n",
       "      <td>MV Boucher</td>\n",
       "      <td>Wankhede Stadium</td>\n",
       "      <td>0</td>\n",
       "      <td>MI</td>\n",
       "      <td>RCB</td>\n",
       "      <td>MI</td>\n",
       "      <td>bat</td>\n",
       "      <td>RCB</td>\n",
       "      <td>wickets</td>\n",
       "      <td>5.0</td>\n",
       "      <td>N</td>\n",
       "      <td>NaN</td>\n",
       "      <td>SJ Davis</td>\n",
       "      <td>DJ Harper</td>\n",
       "    </tr>\n",
       "    <tr>\n",
       "      <th>4</th>\n",
       "      <td>335986</td>\n",
       "      <td>Kolkata</td>\n",
       "      <td>2008-04-20</td>\n",
       "      <td>DJ Hussey</td>\n",
       "      <td>Eden Gardens</td>\n",
       "      <td>0</td>\n",
       "      <td>KKR</td>\n",
       "      <td>SRH</td>\n",
       "      <td>SRH</td>\n",
       "      <td>bat</td>\n",
       "      <td>KKR</td>\n",
       "      <td>wickets</td>\n",
       "      <td>5.0</td>\n",
       "      <td>N</td>\n",
       "      <td>NaN</td>\n",
       "      <td>BF Bowden</td>\n",
       "      <td>K Hariharan</td>\n",
       "    </tr>\n",
       "  </tbody>\n",
       "</table>\n",
       "</div>"
      ],
      "text/plain": [
       "       id        city        date player_of_match  \\\n",
       "0  335982   Bangalore  2008-04-18     BB McCullum   \n",
       "1  335983  Chandigarh  2008-04-19      MEK Hussey   \n",
       "2  335984       Delhi  2008-04-19     MF Maharoof   \n",
       "3  335985      Mumbai  2008-04-20      MV Boucher   \n",
       "4  335986     Kolkata  2008-04-20       DJ Hussey   \n",
       "\n",
       "                                        venue  neutral_venue team1 team2  \\\n",
       "0                       M Chinnaswamy Stadium              0   RCB   KKR   \n",
       "1  Punjab Cricket Association Stadium, Mohali              0  KXIP   CSK   \n",
       "2                            Feroz Shah Kotla              0    DC    RR   \n",
       "3                            Wankhede Stadium              0    MI   RCB   \n",
       "4                                Eden Gardens              0   KKR   SRH   \n",
       "\n",
       "  toss_winner toss_decision winner   result result_margin eliminator method  \\\n",
       "0         RCB         field    KKR     runs         140.0          N    NaN   \n",
       "1         CSK           bat    CSK     runs          33.0          N    NaN   \n",
       "2          RR           bat     DC  wickets           9.0          N    NaN   \n",
       "3          MI           bat    RCB  wickets           5.0          N    NaN   \n",
       "4         SRH           bat    KKR  wickets           5.0          N    NaN   \n",
       "\n",
       "     umpire1         umpire2  \n",
       "0  Asad Rauf     RE Koertzen  \n",
       "1  MR Benson      SL Shastri  \n",
       "2  Aleem Dar  GA Pratapkumar  \n",
       "3   SJ Davis       DJ Harper  \n",
       "4  BF Bowden     K Hariharan  "
      ]
     },
     "execution_count": 23,
     "metadata": {},
     "output_type": "execute_result"
    }
   ],
   "source": [
    "x=['Sunrisers Hyderabad', 'Mumbai Indians', 'Gujarat Lions',\n",
    "    'Rising Pune Supergiant', 'Royal Challengers Bangalore',\n",
    "    'Kolkata Knight Riders', 'Delhi Daredevils', 'Kings XI Punjab',\n",
    "    'Chennai Super Kings', 'Rajasthan Royals', 'Deccan Chargers',\n",
    "    'Kochi Tuskers Kerala', 'Pune Warriors', 'Rising Pune Supergiants', 'Delhi Capitals']\n",
    "\n",
    "y = ['SRH','MI','GL','RPS','RCB','KKR','DC','KXIP','CSK','RR','SRH','KTK','PW','RPS','DC']\n",
    "\n",
    "match_data.replace(x,y,inplace = True)\n",
    "ball_data.replace(x,y,inplace=True)\n",
    "match_data.head()"
   ]
  },
  {
   "cell_type": "code",
   "execution_count": 24,
   "id": "eb8294d4",
   "metadata": {
    "execution": {
     "iopub.execute_input": "2022-09-22T00:22:19.566178Z",
     "iopub.status.busy": "2022-09-22T00:22:19.565406Z",
     "iopub.status.idle": "2022-09-22T00:22:19.573011Z",
     "shell.execute_reply": "2022-09-22T00:22:19.571807Z"
    },
    "papermill": {
     "duration": 0.043186,
     "end_time": "2022-09-22T00:22:19.575353",
     "exception": false,
     "start_time": "2022-09-22T00:22:19.532167",
     "status": "completed"
    },
    "tags": []
   },
   "outputs": [
    {
     "data": {
      "text/plain": [
       "(816, 17)"
      ]
     },
     "execution_count": 24,
     "metadata": {},
     "output_type": "execute_result"
    }
   ],
   "source": [
    "match_data.shape"
   ]
  },
  {
   "cell_type": "markdown",
   "id": "285f9f5b",
   "metadata": {
    "papermill": {
     "duration": 0.030615,
     "end_time": "2022-09-22T00:22:19.636926",
     "exception": false,
     "start_time": "2022-09-22T00:22:19.606311",
     "status": "completed"
    },
    "tags": []
   },
   "source": [
    "## <b>Exploratory Data Analysis:</b>"
   ]
  },
  {
   "cell_type": "code",
   "execution_count": 25,
   "id": "4eec0aae",
   "metadata": {
    "execution": {
     "iopub.execute_input": "2022-09-22T00:22:19.701683Z",
     "iopub.status.busy": "2022-09-22T00:22:19.700886Z",
     "iopub.status.idle": "2022-09-22T00:22:19.707384Z",
     "shell.execute_reply": "2022-09-22T00:22:19.706483Z"
    },
    "papermill": {
     "duration": 0.04145,
     "end_time": "2022-09-22T00:22:19.709756",
     "exception": false,
     "start_time": "2022-09-22T00:22:19.668306",
     "status": "completed"
    },
    "tags": []
   },
   "outputs": [],
   "source": [
    "def cols(df):\n",
    "    cv= df.dtypes=='object'\n",
    "    lcv=list(cv[cv].index)\n",
    "    nv = df.dtypes!='object'\n",
    "    ncv = list(nv[nv].index)\n",
    "    print(\"Catesnsrical Features:\\n\",lcv)\n",
    "    print(\"Numerical Features:\\n\",ncv)"
   ]
  },
  {
   "cell_type": "code",
   "execution_count": 26,
   "id": "25ca673f",
   "metadata": {
    "execution": {
     "iopub.execute_input": "2022-09-22T00:22:19.774563Z",
     "iopub.status.busy": "2022-09-22T00:22:19.773782Z",
     "iopub.status.idle": "2022-09-22T00:22:19.781790Z",
     "shell.execute_reply": "2022-09-22T00:22:19.780129Z"
    },
    "papermill": {
     "duration": 0.043223,
     "end_time": "2022-09-22T00:22:19.784161",
     "exception": false,
     "start_time": "2022-09-22T00:22:19.740938",
     "status": "completed"
    },
    "tags": []
   },
   "outputs": [
    {
     "name": "stdout",
     "output_type": "stream",
     "text": [
      "Catesnsrical Features:\n",
      " ['city', 'date', 'player_of_match', 'venue', 'team1', 'team2', 'toss_winner', 'toss_decision', 'winner', 'result', 'result_margin', 'eliminator', 'method', 'umpire1', 'umpire2']\n",
      "Numerical Features:\n",
      " ['id', 'neutral_venue']\n"
     ]
    }
   ],
   "source": [
    "cols(match_data)"
   ]
  },
  {
   "cell_type": "markdown",
   "id": "62ca36ca",
   "metadata": {
    "papermill": {
     "duration": 0.031539,
     "end_time": "2022-09-22T00:22:19.848901",
     "exception": false,
     "start_time": "2022-09-22T00:22:19.817362",
     "status": "completed"
    },
    "tags": []
   },
   "source": [
    "## <b>Univariate Analysis:</b>"
   ]
  },
  {
   "cell_type": "markdown",
   "id": "daf47818",
   "metadata": {
    "papermill": {
     "duration": 0.031312,
     "end_time": "2022-09-22T00:22:19.911973",
     "exception": false,
     "start_time": "2022-09-22T00:22:19.880661",
     "status": "completed"
    },
    "tags": []
   },
   "source": [
    "### <b>City:</b>"
   ]
  },
  {
   "cell_type": "code",
   "execution_count": 27,
   "id": "d79953fc",
   "metadata": {
    "execution": {
     "iopub.execute_input": "2022-09-22T00:22:19.976769Z",
     "iopub.status.busy": "2022-09-22T00:22:19.975808Z",
     "iopub.status.idle": "2022-09-22T00:22:19.986641Z",
     "shell.execute_reply": "2022-09-22T00:22:19.985359Z"
    },
    "papermill": {
     "duration": 0.046461,
     "end_time": "2022-09-22T00:22:19.989517",
     "exception": false,
     "start_time": "2022-09-22T00:22:19.943056",
     "status": "completed"
    },
    "tags": []
   },
   "outputs": [
    {
     "data": {
      "text/plain": [
       "Mumbai        101\n",
       "Bangalore      80\n",
       "Kolkata        77\n",
       "Delhi          74\n",
       "Hyderabad      64\n",
       "Chennai        57\n",
       "Chandigarh     56\n",
       "Jaipur         47\n",
       "Pune           38\n",
       "Dubai          33\n",
       "Name: city, dtype: int64"
      ]
     },
     "execution_count": 27,
     "metadata": {},
     "output_type": "execute_result"
    }
   ],
   "source": [
    "cities = match_data['city'].value_counts().head(10)\n",
    "cities"
   ]
  },
  {
   "cell_type": "code",
   "execution_count": 28,
   "id": "609d3b28",
   "metadata": {
    "execution": {
     "iopub.execute_input": "2022-09-22T00:22:20.056243Z",
     "iopub.status.busy": "2022-09-22T00:22:20.055797Z",
     "iopub.status.idle": "2022-09-22T00:22:20.393913Z",
     "shell.execute_reply": "2022-09-22T00:22:20.392860Z"
    },
    "papermill": {
     "duration": 0.374695,
     "end_time": "2022-09-22T00:22:20.396542",
     "exception": false,
     "start_time": "2022-09-22T00:22:20.021847",
     "status": "completed"
    },
    "tags": []
   },
   "outputs": [
    {
     "data": {
      "image/png": "[encoded data removed]",
      "text/plain": [
       "<Figure size 864x864 with 1 Axes>"
      ]
     },
     "metadata": {},
     "output_type": "display_data"
    }
   ],
   "source": [
    "plt.figure(figsize=(12,12))\n",
    "c1 = sns.countplot(y= 'city',order=match_data['city'].value_counts().iloc[:10].index,data = match_data,palette = 'mako')\n",
    "c1.bar_label(c1.containers[0],size = 15)\n",
    "plt.ylabel('Cities',fontsize=12)\n",
    "plt.xlabel('No: of matches',fontsize=12)\n",
    "plt.title('Top 10 Cities in which matches where held ',fontsize=15)\n",
    "plt.show()"
   ]
  },
  {
   "cell_type": "markdown",
   "id": "d037b274",
   "metadata": {
    "papermill": {
     "duration": 0.030915,
     "end_time": "2022-09-22T00:22:20.459135",
     "exception": false,
     "start_time": "2022-09-22T00:22:20.428220",
     "status": "completed"
    },
    "tags": []
   },
   "source": [
    "- 101 Matches were held in Mumbai and is the highest match held city closely followed by Bangalore and Kolkata"
   ]
  },
  {
   "cell_type": "markdown",
   "id": "cb66c1ff",
   "metadata": {
    "papermill": {
     "duration": 0.031214,
     "end_time": "2022-09-22T00:22:20.521992",
     "exception": false,
     "start_time": "2022-09-22T00:22:20.490778",
     "status": "completed"
    },
    "tags": []
   },
   "source": [
    "### <b>Matches Played in Each Season:</b>"
   ]
  },
  {
   "cell_type": "code",
   "execution_count": 29,
   "id": "7883a73b",
   "metadata": {
    "execution": {
     "iopub.execute_input": "2022-09-22T00:22:20.587487Z",
     "iopub.status.busy": "2022-09-22T00:22:20.586323Z",
     "iopub.status.idle": "2022-09-22T00:22:20.602114Z",
     "shell.execute_reply": "2022-09-22T00:22:20.600868Z"
    },
    "papermill": {
     "duration": 0.051249,
     "end_time": "2022-09-22T00:22:20.604610",
     "exception": false,
     "start_time": "2022-09-22T00:22:20.553361",
     "status": "completed"
    },
    "tags": []
   },
   "outputs": [
    {
     "data": {
      "text/html": [
       "<div>\n",
       "<style scoped>\n",
       "    .dataframe tbody tr th:only-of-type {\n",
       "        vertical-align: middle;\n",
       "    }\n",
       "\n",
       "    .dataframe tbody tr th {\n",
       "        vertical-align: top;\n",
       "    }\n",
       "\n",
       "    .dataframe thead th {\n",
       "        text-align: right;\n",
       "    }\n",
       "</style>\n",
       "<table border=\"1\" class=\"dataframe\">\n",
       "  <thead>\n",
       "    <tr style=\"text-align: right;\">\n",
       "      <th></th>\n",
       "      <th>Year</th>\n",
       "      <th>Total Matches</th>\n",
       "    </tr>\n",
       "  </thead>\n",
       "  <tbody>\n",
       "    <tr>\n",
       "      <th>0</th>\n",
       "      <td>2013</td>\n",
       "      <td>76</td>\n",
       "    </tr>\n",
       "    <tr>\n",
       "      <th>1</th>\n",
       "      <td>2012</td>\n",
       "      <td>74</td>\n",
       "    </tr>\n",
       "    <tr>\n",
       "      <th>2</th>\n",
       "      <td>2011</td>\n",
       "      <td>73</td>\n",
       "    </tr>\n",
       "    <tr>\n",
       "      <th>3</th>\n",
       "      <td>2010</td>\n",
       "      <td>60</td>\n",
       "    </tr>\n",
       "    <tr>\n",
       "      <th>4</th>\n",
       "      <td>2014</td>\n",
       "      <td>60</td>\n",
       "    </tr>\n",
       "    <tr>\n",
       "      <th>5</th>\n",
       "      <td>2016</td>\n",
       "      <td>60</td>\n",
       "    </tr>\n",
       "    <tr>\n",
       "      <th>6</th>\n",
       "      <td>2018</td>\n",
       "      <td>60</td>\n",
       "    </tr>\n",
       "    <tr>\n",
       "      <th>7</th>\n",
       "      <td>2019</td>\n",
       "      <td>60</td>\n",
       "    </tr>\n",
       "    <tr>\n",
       "      <th>8</th>\n",
       "      <td>2020</td>\n",
       "      <td>60</td>\n",
       "    </tr>\n",
       "    <tr>\n",
       "      <th>9</th>\n",
       "      <td>2015</td>\n",
       "      <td>59</td>\n",
       "    </tr>\n",
       "    <tr>\n",
       "      <th>10</th>\n",
       "      <td>2017</td>\n",
       "      <td>59</td>\n",
       "    </tr>\n",
       "    <tr>\n",
       "      <th>11</th>\n",
       "      <td>2008</td>\n",
       "      <td>58</td>\n",
       "    </tr>\n",
       "    <tr>\n",
       "      <th>12</th>\n",
       "      <td>2009</td>\n",
       "      <td>57</td>\n",
       "    </tr>\n",
       "  </tbody>\n",
       "</table>\n",
       "</div>"
      ],
      "text/plain": [
       "    Year  Total Matches\n",
       "0   2013             76\n",
       "1   2012             74\n",
       "2   2011             73\n",
       "3   2010             60\n",
       "4   2014             60\n",
       "5   2016             60\n",
       "6   2018             60\n",
       "7   2019             60\n",
       "8   2020             60\n",
       "9   2015             59\n",
       "10  2017             59\n",
       "11  2008             58\n",
       "12  2009             57"
      ]
     },
     "execution_count": 29,
     "metadata": {},
     "output_type": "execute_result"
    }
   ],
   "source": [
    "match_data['date']=match_data['date'].str[:4].astype(int)\n",
    "season = match_data['date'].value_counts().reset_index()\n",
    "season.columns=['Year','Total Matches']\n",
    "season"
   ]
  },
  {
   "cell_type": "markdown",
   "id": "24b50705",
   "metadata": {
    "papermill": {
     "duration": 0.031277,
     "end_time": "2022-09-22T00:22:20.667719",
     "exception": false,
     "start_time": "2022-09-22T00:22:20.636442",
     "status": "completed"
    },
    "tags": []
   },
   "source": [
    "- More than 70 matches were played during 2012 and 2013 due to the presence of two additional teams namely (KTK and PW)"
   ]
  },
  {
   "cell_type": "markdown",
   "id": "3e30f02d",
   "metadata": {
    "papermill": {
     "duration": 0.031198,
     "end_time": "2022-09-22T00:22:20.730678",
     "exception": false,
     "start_time": "2022-09-22T00:22:20.699480",
     "status": "completed"
    },
    "tags": []
   },
   "source": [
    "### <b>Player of match:</b>"
   ]
  },
  {
   "cell_type": "code",
   "execution_count": 30,
   "id": "67cff8d9",
   "metadata": {
    "execution": {
     "iopub.execute_input": "2022-09-22T00:22:20.796648Z",
     "iopub.status.busy": "2022-09-22T00:22:20.795862Z",
     "iopub.status.idle": "2022-09-22T00:22:21.121009Z",
     "shell.execute_reply": "2022-09-22T00:22:21.119918Z"
    },
    "papermill": {
     "duration": 0.36145,
     "end_time": "2022-09-22T00:22:21.123896",
     "exception": false,
     "start_time": "2022-09-22T00:22:20.762446",
     "status": "completed"
    },
    "tags": []
   },
   "outputs": [
    {
     "data": {
      "image/png": "[encoded data removed]",
      "text/plain": [
       "<Figure size 864x864 with 1 Axes>"
      ]
     },
     "metadata": {},
     "output_type": "display_data"
    }
   ],
   "source": [
    "pom = match_data['player_of_match'].value_counts().iloc[:10]\n",
    "plt.figure(figsize=(12,12))\n",
    "c1 = sns.countplot(y= 'player_of_match',order=pom.index,data = match_data,palette = 'mako')\n",
    "c1.bar_label(c1.containers[0],size = 15)\n",
    "plt.ylabel('Player',fontsize=12)\n",
    "plt.xlabel('No: of matches',fontsize=12)\n",
    "plt.title('Top 10 Players who received POM',fontsize=15)\n",
    "plt.show()"
   ]
  },
  {
   "cell_type": "markdown",
   "id": "bdfb1665",
   "metadata": {
    "papermill": {
     "duration": 0.032249,
     "end_time": "2022-09-22T00:22:21.188902",
     "exception": false,
     "start_time": "2022-09-22T00:22:21.156653",
     "status": "completed"
    },
    "tags": []
   },
   "source": [
    "- AB de Villiers has received 23 player of the match awards over his entire IPL playing career.\n",
    "- Chris Gayle and Rohit Sharma closely follow him with 22 and 18 POM's."
   ]
  },
  {
   "cell_type": "markdown",
   "id": "47ac33b6",
   "metadata": {
    "papermill": {
     "duration": 0.033336,
     "end_time": "2022-09-22T00:22:21.255463",
     "exception": false,
     "start_time": "2022-09-22T00:22:21.222127",
     "status": "completed"
    },
    "tags": []
   },
   "source": [
    "### <b>Venue:</b>"
   ]
  },
  {
   "cell_type": "code",
   "execution_count": 31,
   "id": "2b480505",
   "metadata": {
    "execution": {
     "iopub.execute_input": "2022-09-22T00:22:21.322679Z",
     "iopub.status.busy": "2022-09-22T00:22:21.321930Z",
     "iopub.status.idle": "2022-09-22T00:22:21.699518Z",
     "shell.execute_reply": "2022-09-22T00:22:21.698521Z"
    },
    "papermill": {
     "duration": 0.414148,
     "end_time": "2022-09-22T00:22:21.701999",
     "exception": false,
     "start_time": "2022-09-22T00:22:21.287851",
     "status": "completed"
    },
    "tags": []
   },
   "outputs": [
    {
     "data": {
      "image/png": "[encoded data removed]",
      "text/plain": [
       "<Figure size 864x864 with 1 Axes>"
      ]
     },
     "metadata": {},
     "output_type": "display_data"
    }
   ],
   "source": [
    "venues = match_data['venue'].value_counts().head(10)\n",
    "plt.figure(figsize=(12,12))\n",
    "c1 = sns.countplot(y='venue',order=venues.index,data = match_data,palette = 'mako')\n",
    "c1.bar_label(c1.containers[0],size = 15)\n",
    "plt.ylabel('Venues',fontsize=12)\n",
    "plt.xlabel('No: of matches',fontsize=12)\n",
    "plt.title('Top 10 Venues where matches were held',fontsize=15)\n",
    "plt.show()"
   ]
  },
  {
   "cell_type": "markdown",
   "id": "089e107c",
   "metadata": {
    "papermill": {
     "duration": 0.034169,
     "end_time": "2022-09-22T00:22:21.771891",
     "exception": false,
     "start_time": "2022-09-22T00:22:21.737722",
     "status": "completed"
    },
    "tags": []
   },
   "source": [
    "- Eden gardens situated in Kolkata has hosted the highest number of matches.\n",
    "- Despite the fact that more matches were held in Mumbai , Feroz Shah Kotla Stadium in Delhi has hosted 74 matches and is the second highest host stadium.\n",
    "- These 3 stadiums has hosted the highest number of matches as the Finals , Eliminator matches were held here."
   ]
  },
  {
   "cell_type": "markdown",
   "id": "2f0d67d9",
   "metadata": {
    "papermill": {
     "duration": 0.03403,
     "end_time": "2022-09-22T00:22:21.839257",
     "exception": false,
     "start_time": "2022-09-22T00:22:21.805227",
     "status": "completed"
    },
    "tags": []
   },
   "source": [
    "### <b>Teams:</b>"
   ]
  },
  {
   "cell_type": "code",
   "execution_count": 32,
   "id": "a8f32fec",
   "metadata": {
    "execution": {
     "iopub.execute_input": "2022-09-22T00:22:21.908360Z",
     "iopub.status.busy": "2022-09-22T00:22:21.907603Z",
     "iopub.status.idle": "2022-09-22T00:22:21.922221Z",
     "shell.execute_reply": "2022-09-22T00:22:21.921067Z"
    },
    "papermill": {
     "duration": 0.05224,
     "end_time": "2022-09-22T00:22:21.924865",
     "exception": false,
     "start_time": "2022-09-22T00:22:21.872625",
     "status": "completed"
    },
    "tags": []
   },
   "outputs": [
    {
     "data": {
      "text/html": [
       "<div>\n",
       "<style scoped>\n",
       "    .dataframe tbody tr th:only-of-type {\n",
       "        vertical-align: middle;\n",
       "    }\n",
       "\n",
       "    .dataframe tbody tr th {\n",
       "        vertical-align: top;\n",
       "    }\n",
       "\n",
       "    .dataframe thead th {\n",
       "        text-align: right;\n",
       "    }\n",
       "</style>\n",
       "<table border=\"1\" class=\"dataframe\">\n",
       "  <thead>\n",
       "    <tr style=\"text-align: right;\">\n",
       "      <th></th>\n",
       "      <th>Team</th>\n",
       "      <th>Total Matches</th>\n",
       "    </tr>\n",
       "  </thead>\n",
       "  <tbody>\n",
       "    <tr>\n",
       "      <th>0</th>\n",
       "      <td>MI</td>\n",
       "      <td>203</td>\n",
       "    </tr>\n",
       "    <tr>\n",
       "      <th>1</th>\n",
       "      <td>SRH</td>\n",
       "      <td>199</td>\n",
       "    </tr>\n",
       "    <tr>\n",
       "      <th>2</th>\n",
       "      <td>RCB</td>\n",
       "      <td>195</td>\n",
       "    </tr>\n",
       "    <tr>\n",
       "      <th>3</th>\n",
       "      <td>DC</td>\n",
       "      <td>194</td>\n",
       "    </tr>\n",
       "    <tr>\n",
       "      <th>4</th>\n",
       "      <td>KKR</td>\n",
       "      <td>192</td>\n",
       "    </tr>\n",
       "    <tr>\n",
       "      <th>5</th>\n",
       "      <td>KXIP</td>\n",
       "      <td>190</td>\n",
       "    </tr>\n",
       "    <tr>\n",
       "      <th>6</th>\n",
       "      <td>CSK</td>\n",
       "      <td>178</td>\n",
       "    </tr>\n",
       "    <tr>\n",
       "      <th>7</th>\n",
       "      <td>RR</td>\n",
       "      <td>161</td>\n",
       "    </tr>\n",
       "    <tr>\n",
       "      <th>8</th>\n",
       "      <td>PW</td>\n",
       "      <td>46</td>\n",
       "    </tr>\n",
       "    <tr>\n",
       "      <th>9</th>\n",
       "      <td>GL</td>\n",
       "      <td>30</td>\n",
       "    </tr>\n",
       "    <tr>\n",
       "      <th>10</th>\n",
       "      <td>RPS</td>\n",
       "      <td>30</td>\n",
       "    </tr>\n",
       "    <tr>\n",
       "      <th>11</th>\n",
       "      <td>KTK</td>\n",
       "      <td>14</td>\n",
       "    </tr>\n",
       "  </tbody>\n",
       "</table>\n",
       "</div>"
      ],
      "text/plain": [
       "    Team  Total Matches\n",
       "0     MI            203\n",
       "1    SRH            199\n",
       "2    RCB            195\n",
       "3     DC            194\n",
       "4    KKR            192\n",
       "5   KXIP            190\n",
       "6    CSK            178\n",
       "7     RR            161\n",
       "8     PW             46\n",
       "9     GL             30\n",
       "10   RPS             30\n",
       "11   KTK             14"
      ]
     },
     "execution_count": 32,
     "metadata": {},
     "output_type": "execute_result"
    }
   ],
   "source": [
    "match_app=pd.concat([match_data['team1'],match_data['team2']])\n",
    "match_app=match_app.value_counts().reset_index()\n",
    "match_app.columns=['Team','Total Matches']\n",
    "match_app"
   ]
  },
  {
   "cell_type": "markdown",
   "id": "f0d50e06",
   "metadata": {
    "papermill": {
     "duration": 0.033194,
     "end_time": "2022-09-22T00:22:21.991680",
     "exception": false,
     "start_time": "2022-09-22T00:22:21.958486",
     "status": "completed"
    },
    "tags": []
   },
   "source": [
    "- Teams RPS and GL were present for only two seasons.\n",
    "- KTK AND PW were present for two seasons after which they were ousted from the league."
   ]
  },
  {
   "cell_type": "markdown",
   "id": "95a4f94c",
   "metadata": {
    "papermill": {
     "duration": 0.033653,
     "end_time": "2022-09-22T00:22:22.059149",
     "exception": false,
     "start_time": "2022-09-22T00:22:22.025496",
     "status": "completed"
    },
    "tags": []
   },
   "source": [
    "### <b>Toss Winner:</b>"
   ]
  },
  {
   "cell_type": "code",
   "execution_count": 33,
   "id": "9ffc215e",
   "metadata": {
    "execution": {
     "iopub.execute_input": "2022-09-22T00:22:22.130017Z",
     "iopub.status.busy": "2022-09-22T00:22:22.129076Z",
     "iopub.status.idle": "2022-09-22T00:22:22.478339Z",
     "shell.execute_reply": "2022-09-22T00:22:22.477114Z"
    },
    "papermill": {
     "duration": 0.387129,
     "end_time": "2022-09-22T00:22:22.480841",
     "exception": false,
     "start_time": "2022-09-22T00:22:22.093712",
     "status": "completed"
    },
    "tags": []
   },
   "outputs": [
    {
     "data": {
      "image/png": "[encoded data removed]",
      "text/plain": [
       "<Figure size 864x864 with 1 Axes>"
      ]
     },
     "metadata": {},
     "output_type": "display_data"
    }
   ],
   "source": [
    "toss_wins = match_data['toss_winner'].value_counts()\n",
    "plt.figure(figsize=(12,12))\n",
    "c1 = sns.countplot(y='toss_winner',order=toss_wins.index,data = match_data,palette = 'mako')\n",
    "c1.bar_label(c1.containers[0],size = 15)\n",
    "plt.ylabel('Venues',fontsize=12)\n",
    "plt.xlabel('No: of tosses won',fontsize=12)\n",
    "plt.title('Teams ranked on basis of winning toss',fontsize=15)\n",
    "plt.show()"
   ]
  },
  {
   "cell_type": "markdown",
   "id": "4604fb02",
   "metadata": {
    "papermill": {
     "duration": 0.033573,
     "end_time": "2022-09-22T00:22:22.548418",
     "exception": false,
     "start_time": "2022-09-22T00:22:22.514845",
     "status": "completed"
    },
    "tags": []
   },
   "source": [
    "- Mumbai Indians have won the highest number of tosses closely followed by Sunrises Hyderbad and Delhi Capitals"
   ]
  },
  {
   "cell_type": "markdown",
   "id": "9233e4ac",
   "metadata": {
    "papermill": {
     "duration": 0.03358,
     "end_time": "2022-09-22T00:22:22.616089",
     "exception": false,
     "start_time": "2022-09-22T00:22:22.582509",
     "status": "completed"
    },
    "tags": []
   },
   "source": [
    "### <b>Toss Decision:</b>"
   ]
  },
  {
   "cell_type": "code",
   "execution_count": 34,
   "id": "fe233b6e",
   "metadata": {
    "execution": {
     "iopub.execute_input": "2022-09-22T00:22:22.686494Z",
     "iopub.status.busy": "2022-09-22T00:22:22.685969Z",
     "iopub.status.idle": "2022-09-22T00:22:22.811911Z",
     "shell.execute_reply": "2022-09-22T00:22:22.810871Z"
    },
    "papermill": {
     "duration": 0.164261,
     "end_time": "2022-09-22T00:22:22.814428",
     "exception": false,
     "start_time": "2022-09-22T00:22:22.650167",
     "status": "completed"
    },
    "tags": []
   },
   "outputs": [
    {
     "data": {
      "image/png": "[encoded data removed]",
      "text/plain": [
       "<Figure size 432x288 with 1 Axes>"
      ]
     },
     "metadata": {},
     "output_type": "display_data"
    }
   ],
   "source": [
    "labels = match_data['toss_decision'].unique()\n",
    "sizes =  match_data['toss_decision'].value_counts()\n",
    "\n",
    "colors = ['#66b3ff','#205bc0','#94b5ef']\n",
    " \n",
    "fig1, ax1 = plt.subplots()\n",
    "ax1.pie(sizes, colors = colors, labels=labels, autopct='%1.1f%%', startangle=90)\n",
    "plt.title(\"Percentage of the Types of Drive Wheels present in Cars\",fontsize=15)\n",
    "centre_circle = plt.Circle((0,0),0.70,fc='white')\n",
    "fig = plt.gcf()\n",
    "fig.gca().add_artist(centre_circle)\n",
    "ax1.axis('equal')  \n",
    "plt.tight_layout()\n",
    "plt.show()"
   ]
  },
  {
   "cell_type": "markdown",
   "id": "cff78deb",
   "metadata": {
    "papermill": {
     "duration": 0.034706,
     "end_time": "2022-09-22T00:22:22.884940",
     "exception": false,
     "start_time": "2022-09-22T00:22:22.850234",
     "status": "completed"
    },
    "tags": []
   },
   "source": [
    "- Most of the teams which tends to win the toss opted to <b>Field</b> first.(60.8 percent)"
   ]
  },
  {
   "cell_type": "markdown",
   "id": "e3c6ffde",
   "metadata": {
    "papermill": {
     "duration": 0.034704,
     "end_time": "2022-09-22T00:22:22.954298",
     "exception": false,
     "start_time": "2022-09-22T00:22:22.919594",
     "status": "completed"
    },
    "tags": []
   },
   "source": [
    "### <b>Winner:</b>"
   ]
  },
  {
   "cell_type": "code",
   "execution_count": 35,
   "id": "a3d42ee1",
   "metadata": {
    "execution": {
     "iopub.execute_input": "2022-09-22T00:22:23.026613Z",
     "iopub.status.busy": "2022-09-22T00:22:23.025497Z",
     "iopub.status.idle": "2022-09-22T00:22:23.389055Z",
     "shell.execute_reply": "2022-09-22T00:22:23.387866Z"
    },
    "papermill": {
     "duration": 0.402862,
     "end_time": "2022-09-22T00:22:23.391702",
     "exception": false,
     "start_time": "2022-09-22T00:22:22.988840",
     "status": "completed"
    },
    "tags": []
   },
   "outputs": [
    {
     "data": {
      "image/png": "[encoded data removed]",
      "text/plain": [
       "<Figure size 864x864 with 1 Axes>"
      ]
     },
     "metadata": {},
     "output_type": "display_data"
    }
   ],
   "source": [
    "wins = match_data['winner'].value_counts()\n",
    "plt.figure(figsize=(12,12))\n",
    "c1 = sns.countplot(y='winner',order=wins.index,data = match_data,palette = 'mako')\n",
    "c1.bar_label(c1.containers[0],size = 15)\n",
    "plt.ylabel('Venues',fontsize=12)\n",
    "plt.xlabel('No: of matches won',fontsize=12)\n",
    "plt.title('Teams ranked on basis of winning matches',fontsize=15)\n",
    "plt.show()"
   ]
  },
  {
   "cell_type": "markdown",
   "id": "3b76c4e7",
   "metadata": {
    "papermill": {
     "duration": 0.034883,
     "end_time": "2022-09-22T00:22:23.462811",
     "exception": false,
     "start_time": "2022-09-22T00:22:23.427928",
     "status": "completed"
    },
    "tags": []
   },
   "source": [
    "From the plot it is quite evident:\n",
    "- <b> Mumbai Indians and Chennai Super Kings have won the highest number of matches</b>\n",
    "- <b> The two teams have respectively have won the highest number of IPL trophies</b>"
   ]
  },
  {
   "cell_type": "markdown",
   "id": "e98d4632",
   "metadata": {
    "papermill": {
     "duration": 0.034491,
     "end_time": "2022-09-22T00:22:23.533002",
     "exception": false,
     "start_time": "2022-09-22T00:22:23.498511",
     "status": "completed"
    },
    "tags": []
   },
   "source": [
    "### <b>Result:</b>"
   ]
  },
  {
   "cell_type": "code",
   "execution_count": 36,
   "id": "1ce649ef",
   "metadata": {
    "execution": {
     "iopub.execute_input": "2022-09-22T00:22:23.605404Z",
     "iopub.status.busy": "2022-09-22T00:22:23.604864Z",
     "iopub.status.idle": "2022-09-22T00:22:23.832675Z",
     "shell.execute_reply": "2022-09-22T00:22:23.831720Z"
    },
    "papermill": {
     "duration": 0.266868,
     "end_time": "2022-09-22T00:22:23.835073",
     "exception": false,
     "start_time": "2022-09-22T00:22:23.568205",
     "status": "completed"
    },
    "tags": []
   },
   "outputs": [
    {
     "data": {
      "image/png": "[encoded data removed]",
      "text/plain": [
       "<Figure size 720x720 with 1 Axes>"
      ]
     },
     "metadata": {},
     "output_type": "display_data"
    }
   ],
   "source": [
    "res = match_data['result'].value_counts()\n",
    "plt.figure(figsize=(10,10))\n",
    "c1 = sns.countplot(x='result',order=res.index,data = match_data,palette = 'mako')\n",
    "c1.bar_label(c1.containers[0],size = 15)\n",
    "plt.ylabel('No of matches won',fontsize=12)\n",
    "plt.xlabel('Results',fontsize=12)\n",
    "plt.title('Results of the matches played',fontsize=15)\n",
    "plt.show()"
   ]
  },
  {
   "cell_type": "markdown",
   "id": "02e8b9bb",
   "metadata": {
    "papermill": {
     "duration": 0.03518,
     "end_time": "2022-09-22T00:22:23.906835",
     "exception": false,
     "start_time": "2022-09-22T00:22:23.871655",
     "status": "completed"
    },
    "tags": []
   },
   "source": [
    "- **Most of the matches played in IPL are won by teams which tends to chase rather than bat first** ."
   ]
  },
  {
   "cell_type": "markdown",
   "id": "5d48e76d",
   "metadata": {
    "papermill": {
     "duration": 0.034991,
     "end_time": "2022-09-22T00:22:23.977352",
     "exception": false,
     "start_time": "2022-09-22T00:22:23.942361",
     "status": "completed"
    },
    "tags": []
   },
   "source": [
    "### <b>Result Margin:</b>"
   ]
  },
  {
   "cell_type": "code",
   "execution_count": 37,
   "id": "487b6c44",
   "metadata": {
    "execution": {
     "iopub.execute_input": "2022-09-22T00:22:24.051391Z",
     "iopub.status.busy": "2022-09-22T00:22:24.050578Z",
     "iopub.status.idle": "2022-09-22T00:22:24.374609Z",
     "shell.execute_reply": "2022-09-22T00:22:24.372917Z"
    },
    "papermill": {
     "duration": 0.364614,
     "end_time": "2022-09-22T00:22:24.377421",
     "exception": false,
     "start_time": "2022-09-22T00:22:24.012807",
     "status": "completed"
    },
    "tags": []
   },
   "outputs": [
    {
     "data": {
      "image/png": "[encoded data removed]",
      "text/plain": [
       "<Figure size 720x720 with 1 Axes>"
      ]
     },
     "metadata": {},
     "output_type": "display_data"
    }
   ],
   "source": [
    "res_mar = match_data['result_margin'].value_counts().head(10)\n",
    "plt.figure(figsize=(10,10))\n",
    "c1 = sns.countplot(y='result_margin',order=res_mar.index,data = match_data,palette = 'mako')\n",
    "c1.bar_label(c1.containers[0],size = 15)\n",
    "plt.ylabel('Margin',fontsize=12)\n",
    "plt.xlabel('No of matches won',fontsize=12)\n",
    "plt.title('Result margin by which the teams have won',fontsize=15)\n",
    "plt.show()"
   ]
  },
  {
   "cell_type": "markdown",
   "id": "d381cc1e",
   "metadata": {
    "papermill": {
     "duration": 0.036024,
     "end_time": "2022-09-22T00:22:24.450370",
     "exception": false,
     "start_time": "2022-09-22T00:22:24.414346",
     "status": "completed"
    },
    "tags": []
   },
   "source": [
    "From the given plot we can infer that:\n",
    "- **Most of the matches played in IPL are won by teams with very low margins.**\n",
    "- Every match boils down until the last minute!"
   ]
  },
  {
   "cell_type": "markdown",
   "id": "3d93cf9b",
   "metadata": {
    "papermill": {
     "duration": 0.036081,
     "end_time": "2022-09-22T00:22:24.522553",
     "exception": false,
     "start_time": "2022-09-22T00:22:24.486472",
     "status": "completed"
    },
    "tags": []
   },
   "source": [
    "### <b>Umpires:</b>"
   ]
  },
  {
   "cell_type": "code",
   "execution_count": 38,
   "id": "da74139d",
   "metadata": {
    "execution": {
     "iopub.execute_input": "2022-09-22T00:22:24.599374Z",
     "iopub.status.busy": "2022-09-22T00:22:24.598034Z",
     "iopub.status.idle": "2022-09-22T00:22:24.614595Z",
     "shell.execute_reply": "2022-09-22T00:22:24.613256Z"
    },
    "papermill": {
     "duration": 0.058508,
     "end_time": "2022-09-22T00:22:24.617366",
     "exception": false,
     "start_time": "2022-09-22T00:22:24.558858",
     "status": "completed"
    },
    "tags": []
   },
   "outputs": [
    {
     "data": {
      "text/html": [
       "<div>\n",
       "<style scoped>\n",
       "    .dataframe tbody tr th:only-of-type {\n",
       "        vertical-align: middle;\n",
       "    }\n",
       "\n",
       "    .dataframe tbody tr th {\n",
       "        vertical-align: top;\n",
       "    }\n",
       "\n",
       "    .dataframe thead th {\n",
       "        text-align: right;\n",
       "    }\n",
       "</style>\n",
       "<table border=\"1\" class=\"dataframe\">\n",
       "  <thead>\n",
       "    <tr style=\"text-align: right;\">\n",
       "      <th></th>\n",
       "      <th>Umpire</th>\n",
       "      <th>Total Matches</th>\n",
       "    </tr>\n",
       "  </thead>\n",
       "  <tbody>\n",
       "    <tr>\n",
       "      <th>0</th>\n",
       "      <td>S Ravi</td>\n",
       "      <td>121</td>\n",
       "    </tr>\n",
       "    <tr>\n",
       "      <th>1</th>\n",
       "      <td>HDPK Dharmasena</td>\n",
       "      <td>94</td>\n",
       "    </tr>\n",
       "    <tr>\n",
       "      <th>2</th>\n",
       "      <td>AK Chaudhary</td>\n",
       "      <td>87</td>\n",
       "    </tr>\n",
       "    <tr>\n",
       "      <th>3</th>\n",
       "      <td>C Shamshuddin</td>\n",
       "      <td>82</td>\n",
       "    </tr>\n",
       "    <tr>\n",
       "      <th>4</th>\n",
       "      <td>M Erasmus</td>\n",
       "      <td>65</td>\n",
       "    </tr>\n",
       "    <tr>\n",
       "      <th>5</th>\n",
       "      <td>CK Nandan</td>\n",
       "      <td>57</td>\n",
       "    </tr>\n",
       "    <tr>\n",
       "      <th>6</th>\n",
       "      <td>Nitin Menon</td>\n",
       "      <td>57</td>\n",
       "    </tr>\n",
       "    <tr>\n",
       "      <th>7</th>\n",
       "      <td>SJA Taufel</td>\n",
       "      <td>55</td>\n",
       "    </tr>\n",
       "    <tr>\n",
       "      <th>8</th>\n",
       "      <td>Asad Rauf</td>\n",
       "      <td>51</td>\n",
       "    </tr>\n",
       "    <tr>\n",
       "      <th>9</th>\n",
       "      <td>VA Kulkarni</td>\n",
       "      <td>50</td>\n",
       "    </tr>\n",
       "  </tbody>\n",
       "</table>\n",
       "</div>"
      ],
      "text/plain": [
       "            Umpire  Total Matches\n",
       "0           S Ravi            121\n",
       "1  HDPK Dharmasena             94\n",
       "2     AK Chaudhary             87\n",
       "3    C Shamshuddin             82\n",
       "4        M Erasmus             65\n",
       "5        CK Nandan             57\n",
       "6      Nitin Menon             57\n",
       "7       SJA Taufel             55\n",
       "8        Asad Rauf             51\n",
       "9      VA Kulkarni             50"
      ]
     },
     "execution_count": 38,
     "metadata": {},
     "output_type": "execute_result"
    }
   ],
   "source": [
    "ump=pd.concat([match_data['umpire1'],match_data['umpire2']])\n",
    "ump=ump.value_counts().reset_index()\n",
    "ump.columns=['Umpire','Total Matches']\n",
    "ump.head(10)"
   ]
  },
  {
   "cell_type": "markdown",
   "id": "ad38e866",
   "metadata": {
    "papermill": {
     "duration": 0.03693,
     "end_time": "2022-09-22T00:22:24.691644",
     "exception": false,
     "start_time": "2022-09-22T00:22:24.654714",
     "status": "completed"
    },
    "tags": []
   },
   "source": [
    "## <b>Multivariate Analysis:</b>"
   ]
  },
  {
   "cell_type": "markdown",
   "id": "27da1ce0",
   "metadata": {
    "papermill": {
     "duration": 0.042496,
     "end_time": "2022-09-22T00:22:24.770823",
     "exception": false,
     "start_time": "2022-09-22T00:22:24.728327",
     "status": "completed"
    },
    "tags": []
   },
   "source": [
    "### **1.Average Runs scored:**"
   ]
  },
  {
   "cell_type": "code",
   "execution_count": 39,
   "id": "f009af6e",
   "metadata": {
    "execution": {
     "iopub.execute_input": "2022-09-22T00:22:24.863396Z",
     "iopub.status.busy": "2022-09-22T00:22:24.862641Z",
     "iopub.status.idle": "2022-09-22T00:22:25.473887Z",
     "shell.execute_reply": "2022-09-22T00:22:25.472574Z"
    },
    "papermill": {
     "duration": 0.658929,
     "end_time": "2022-09-22T00:22:25.476970",
     "exception": false,
     "start_time": "2022-09-22T00:22:24.818041",
     "status": "completed"
    },
    "tags": []
   },
   "outputs": [
    {
     "data": {
      "image/png": "[encoded data removed]",
      "text/plain": [
       "<Figure size 576x576 with 1 Axes>"
      ]
     },
     "metadata": {},
     "output_type": "display_data"
    }
   ],
   "source": [
    "batsmen = match_data[['id','date']].merge(ball_data, left_on = 'id', right_on = 'id', how = 'left').drop('id', axis = 1)\n",
    "season=batsmen.groupby(['date'])['total_runs'].sum().reset_index()\n",
    "\n",
    "avgruns_yr=match_data.groupby(['date']).count().id.reset_index()\n",
    "avgruns_yr.rename(columns={'id':'matches'},inplace=1)\n",
    "avgruns_yr['total_runs']=season['total_runs']\n",
    "avgruns_yr['average_runs_per_match']=avgruns_yr['total_runs']/avgruns_yr['matches']\n",
    "\n",
    "avgruns_yr.plot(title=\"Average Runs scored over the seasons\",x='date',y='total_runs',figsize=(8,8))\n",
    "plt.show()"
   ]
  },
  {
   "cell_type": "markdown",
   "id": "eb035ceb",
   "metadata": {
    "papermill": {
     "duration": 0.036689,
     "end_time": "2022-09-22T00:22:25.551201",
     "exception": false,
     "start_time": "2022-09-22T00:22:25.514512",
     "status": "completed"
    },
    "tags": []
   },
   "source": [
    "- **The number of runs scored in 2012 and 2013 is higher compared to other years as the number of matches played is higher!**"
   ]
  },
  {
   "cell_type": "markdown",
   "id": "c71b15f8",
   "metadata": {
    "papermill": {
     "duration": 0.036406,
     "end_time": "2022-09-22T00:22:25.624992",
     "exception": false,
     "start_time": "2022-09-22T00:22:25.588586",
     "status": "completed"
    },
    "tags": []
   },
   "source": [
    "### <b>Distribution of Runs scored over the years:</b>"
   ]
  },
  {
   "cell_type": "code",
   "execution_count": 40,
   "id": "61dca3b5",
   "metadata": {
    "execution": {
     "iopub.execute_input": "2022-09-22T00:22:25.700853Z",
     "iopub.status.busy": "2022-09-22T00:22:25.700046Z",
     "iopub.status.idle": "2022-09-22T00:22:25.751101Z",
     "shell.execute_reply": "2022-09-22T00:22:25.749669Z"
    },
    "papermill": {
     "duration": 0.092335,
     "end_time": "2022-09-22T00:22:25.754022",
     "exception": false,
     "start_time": "2022-09-22T00:22:25.661687",
     "status": "completed"
    },
    "tags": []
   },
   "outputs": [
    {
     "data": {
      "text/html": [
       "<div>\n",
       "<style scoped>\n",
       "    .dataframe tbody tr th:only-of-type {\n",
       "        vertical-align: middle;\n",
       "    }\n",
       "\n",
       "    .dataframe tbody tr th {\n",
       "        vertical-align: top;\n",
       "    }\n",
       "\n",
       "    .dataframe thead th {\n",
       "        text-align: right;\n",
       "    }\n",
       "</style>\n",
       "<table border=\"1\" class=\"dataframe\">\n",
       "  <thead>\n",
       "    <tr style=\"text-align: right;\">\n",
       "      <th></th>\n",
       "      <th>date</th>\n",
       "      <th>6's</th>\n",
       "      <th>4's</th>\n",
       "    </tr>\n",
       "  </thead>\n",
       "  <tbody>\n",
       "    <tr>\n",
       "      <th>0</th>\n",
       "      <td>2008</td>\n",
       "      <td>623</td>\n",
       "      <td>1703</td>\n",
       "    </tr>\n",
       "    <tr>\n",
       "      <th>1</th>\n",
       "      <td>2009</td>\n",
       "      <td>506</td>\n",
       "      <td>1317</td>\n",
       "    </tr>\n",
       "    <tr>\n",
       "      <th>2</th>\n",
       "      <td>2010</td>\n",
       "      <td>585</td>\n",
       "      <td>1708</td>\n",
       "    </tr>\n",
       "    <tr>\n",
       "      <th>3</th>\n",
       "      <td>2011</td>\n",
       "      <td>639</td>\n",
       "      <td>1916</td>\n",
       "    </tr>\n",
       "    <tr>\n",
       "      <th>4</th>\n",
       "      <td>2012</td>\n",
       "      <td>733</td>\n",
       "      <td>1911</td>\n",
       "    </tr>\n",
       "    <tr>\n",
       "      <th>5</th>\n",
       "      <td>2013</td>\n",
       "      <td>675</td>\n",
       "      <td>2052</td>\n",
       "    </tr>\n",
       "    <tr>\n",
       "      <th>6</th>\n",
       "      <td>2014</td>\n",
       "      <td>714</td>\n",
       "      <td>1562</td>\n",
       "    </tr>\n",
       "    <tr>\n",
       "      <th>7</th>\n",
       "      <td>2015</td>\n",
       "      <td>692</td>\n",
       "      <td>1607</td>\n",
       "    </tr>\n",
       "    <tr>\n",
       "      <th>8</th>\n",
       "      <td>2016</td>\n",
       "      <td>639</td>\n",
       "      <td>1633</td>\n",
       "    </tr>\n",
       "    <tr>\n",
       "      <th>9</th>\n",
       "      <td>2017</td>\n",
       "      <td>705</td>\n",
       "      <td>1611</td>\n",
       "    </tr>\n",
       "    <tr>\n",
       "      <th>10</th>\n",
       "      <td>2018</td>\n",
       "      <td>872</td>\n",
       "      <td>1652</td>\n",
       "    </tr>\n",
       "    <tr>\n",
       "      <th>11</th>\n",
       "      <td>2019</td>\n",
       "      <td>784</td>\n",
       "      <td>1653</td>\n",
       "    </tr>\n",
       "    <tr>\n",
       "      <th>12</th>\n",
       "      <td>2020</td>\n",
       "      <td>735</td>\n",
       "      <td>1583</td>\n",
       "    </tr>\n",
       "  </tbody>\n",
       "</table>\n",
       "</div>"
      ],
      "text/plain": [
       "    date  6's   4's\n",
       "0   2008  623  1703\n",
       "1   2009  506  1317\n",
       "2   2010  585  1708\n",
       "3   2011  639  1916\n",
       "4   2012  733  1911\n",
       "5   2013  675  2052\n",
       "6   2014  714  1562\n",
       "7   2015  692  1607\n",
       "8   2016  639  1633\n",
       "9   2017  705  1611\n",
       "10  2018  872  1652\n",
       "11  2019  784  1653\n",
       "12  2020  735  1583"
      ]
     },
     "execution_count": 40,
     "metadata": {},
     "output_type": "execute_result"
    }
   ],
   "source": [
    "runs_dist=batsmen.groupby(\"date\")[\"batsman_runs\"].agg(lambda x: (x==6).sum()).reset_index()\n",
    "fours=batsmen.groupby(\"date\")[\"batsman_runs\"].agg(lambda x: (x==4).sum()).reset_index()\n",
    "runs_dist=runs_dist.merge(fours,left_on='date',right_on='date',how='left')\n",
    "runs_dist=runs_dist.rename(columns={'batsman_runs_x':\"6's\",'batsman_runs_y':\"4's\"})\n",
    "runs_dist"
   ]
  },
  {
   "cell_type": "code",
   "execution_count": 41,
   "id": "089086b5",
   "metadata": {
    "execution": {
     "iopub.execute_input": "2022-09-22T00:22:25.830173Z",
     "iopub.status.busy": "2022-09-22T00:22:25.829381Z",
     "iopub.status.idle": "2022-09-22T00:22:25.844519Z",
     "shell.execute_reply": "2022-09-22T00:22:25.843223Z"
    },
    "papermill": {
     "duration": 0.05697,
     "end_time": "2022-09-22T00:22:25.847918",
     "exception": false,
     "start_time": "2022-09-22T00:22:25.790948",
     "status": "completed"
    },
    "tags": []
   },
   "outputs": [
    {
     "data": {
      "text/html": [
       "<div>\n",
       "<style scoped>\n",
       "    .dataframe tbody tr th:only-of-type {\n",
       "        vertical-align: middle;\n",
       "    }\n",
       "\n",
       "    .dataframe tbody tr th {\n",
       "        vertical-align: top;\n",
       "    }\n",
       "\n",
       "    .dataframe thead th {\n",
       "        text-align: right;\n",
       "    }\n",
       "</style>\n",
       "<table border=\"1\" class=\"dataframe\">\n",
       "  <thead>\n",
       "    <tr style=\"text-align: right;\">\n",
       "      <th></th>\n",
       "      <th>date</th>\n",
       "      <th>6's</th>\n",
       "      <th>4's</th>\n",
       "      <th>Remaining_runs</th>\n",
       "    </tr>\n",
       "  </thead>\n",
       "  <tbody>\n",
       "    <tr>\n",
       "      <th>0</th>\n",
       "      <td>2008</td>\n",
       "      <td>3738</td>\n",
       "      <td>6812</td>\n",
       "      <td>7387</td>\n",
       "    </tr>\n",
       "    <tr>\n",
       "      <th>1</th>\n",
       "      <td>2009</td>\n",
       "      <td>3036</td>\n",
       "      <td>5268</td>\n",
       "      <td>8016</td>\n",
       "    </tr>\n",
       "    <tr>\n",
       "      <th>2</th>\n",
       "      <td>2010</td>\n",
       "      <td>3510</td>\n",
       "      <td>6832</td>\n",
       "      <td>8522</td>\n",
       "    </tr>\n",
       "    <tr>\n",
       "      <th>3</th>\n",
       "      <td>2011</td>\n",
       "      <td>3834</td>\n",
       "      <td>7664</td>\n",
       "      <td>9656</td>\n",
       "    </tr>\n",
       "    <tr>\n",
       "      <th>4</th>\n",
       "      <td>2012</td>\n",
       "      <td>4398</td>\n",
       "      <td>7644</td>\n",
       "      <td>10411</td>\n",
       "    </tr>\n",
       "    <tr>\n",
       "      <th>5</th>\n",
       "      <td>2013</td>\n",
       "      <td>4050</td>\n",
       "      <td>8208</td>\n",
       "      <td>10283</td>\n",
       "    </tr>\n",
       "    <tr>\n",
       "      <th>6</th>\n",
       "      <td>2014</td>\n",
       "      <td>4284</td>\n",
       "      <td>6248</td>\n",
       "      <td>8377</td>\n",
       "    </tr>\n",
       "    <tr>\n",
       "      <th>7</th>\n",
       "      <td>2015</td>\n",
       "      <td>4152</td>\n",
       "      <td>6428</td>\n",
       "      <td>7752</td>\n",
       "    </tr>\n",
       "    <tr>\n",
       "      <th>8</th>\n",
       "      <td>2016</td>\n",
       "      <td>3834</td>\n",
       "      <td>6532</td>\n",
       "      <td>8496</td>\n",
       "    </tr>\n",
       "    <tr>\n",
       "      <th>9</th>\n",
       "      <td>2017</td>\n",
       "      <td>4230</td>\n",
       "      <td>6444</td>\n",
       "      <td>8095</td>\n",
       "    </tr>\n",
       "    <tr>\n",
       "      <th>10</th>\n",
       "      <td>2018</td>\n",
       "      <td>5232</td>\n",
       "      <td>6608</td>\n",
       "      <td>8061</td>\n",
       "    </tr>\n",
       "    <tr>\n",
       "      <th>11</th>\n",
       "      <td>2019</td>\n",
       "      <td>4704</td>\n",
       "      <td>6612</td>\n",
       "      <td>8084</td>\n",
       "    </tr>\n",
       "    <tr>\n",
       "      <th>12</th>\n",
       "      <td>2020</td>\n",
       "      <td>4410</td>\n",
       "      <td>6332</td>\n",
       "      <td>8610</td>\n",
       "    </tr>\n",
       "  </tbody>\n",
       "</table>\n",
       "</div>"
      ],
      "text/plain": [
       "    date   6's   4's  Remaining_runs\n",
       "0   2008  3738  6812            7387\n",
       "1   2009  3036  5268            8016\n",
       "2   2010  3510  6832            8522\n",
       "3   2011  3834  7664            9656\n",
       "4   2012  4398  7644           10411\n",
       "5   2013  4050  8208           10283\n",
       "6   2014  4284  6248            8377\n",
       "7   2015  4152  6428            7752\n",
       "8   2016  3834  6532            8496\n",
       "9   2017  4230  6444            8095\n",
       "10  2018  5232  6608            8061\n",
       "11  2019  4704  6612            8084\n",
       "12  2020  4410  6332            8610"
      ]
     },
     "execution_count": 41,
     "metadata": {},
     "output_type": "execute_result"
    }
   ],
   "source": [
    "runs_dist[\"6's\"] = runs_dist[\"6's\"]*6\n",
    "runs_dist[\"4's\"] = runs_dist[\"4's\"]*4\n",
    "runs_dist['Remaining_runs'] = season['total_runs']-(runs_dist[\"6's\"]+runs_dist[\"4's\"])\n",
    "runs_dist"
   ]
  },
  {
   "cell_type": "code",
   "execution_count": 42,
   "id": "1e112a6b",
   "metadata": {
    "execution": {
     "iopub.execute_input": "2022-09-22T00:22:25.925797Z",
     "iopub.status.busy": "2022-09-22T00:22:25.925303Z",
     "iopub.status.idle": "2022-09-22T00:22:26.324054Z",
     "shell.execute_reply": "2022-09-22T00:22:26.322752Z"
    },
    "papermill": {
     "duration": 0.440573,
     "end_time": "2022-09-22T00:22:26.327191",
     "exception": false,
     "start_time": "2022-09-22T00:22:25.886618",
     "status": "completed"
    },
    "tags": []
   },
   "outputs": [
    {
     "data": {
      "image/png": "[encoded data removed]",
      "text/plain": [
       "<Figure size 864x576 with 1 Axes>"
      ]
     },
     "metadata": {},
     "output_type": "display_data"
    }
   ],
   "source": [
    "c1 = runs_dist.set_index('date').plot(kind='bar', stacked=True, color=['blue', 'skyblue', 'green'],figsize=(12,8))\n",
    "plt.title('Distribution of Runs for every season', fontsize=16)\n",
    "plt.xlabel('Season')\n",
    "plt.ylabel('Total Runs scored')\n",
    "plt.show()"
   ]
  },
  {
   "cell_type": "markdown",
   "id": "7fed1f5f",
   "metadata": {
    "papermill": {
     "duration": 0.037079,
     "end_time": "2022-09-22T00:22:26.403359",
     "exception": false,
     "start_time": "2022-09-22T00:22:26.366280",
     "status": "completed"
    },
    "tags": []
   },
   "source": [
    "### <b>Top 10 High scoring matches:</b>"
   ]
  },
  {
   "cell_type": "code",
   "execution_count": 43,
   "id": "5adb4d22",
   "metadata": {
    "execution": {
     "iopub.execute_input": "2022-09-22T00:22:26.480448Z",
     "iopub.status.busy": "2022-09-22T00:22:26.479936Z",
     "iopub.status.idle": "2022-09-22T00:22:26.539417Z",
     "shell.execute_reply": "2022-09-22T00:22:26.538496Z"
    },
    "papermill": {
     "duration": 0.100872,
     "end_time": "2022-09-22T00:22:26.541763",
     "exception": false,
     "start_time": "2022-09-22T00:22:26.440891",
     "status": "completed"
    },
    "tags": []
   },
   "outputs": [
    {
     "data": {
      "text/html": [
       "<div>\n",
       "<style scoped>\n",
       "    .dataframe tbody tr th:only-of-type {\n",
       "        vertical-align: middle;\n",
       "    }\n",
       "\n",
       "    .dataframe tbody tr th {\n",
       "        vertical-align: top;\n",
       "    }\n",
       "\n",
       "    .dataframe thead th {\n",
       "        text-align: right;\n",
       "    }\n",
       "</style>\n",
       "<table border=\"1\" class=\"dataframe\">\n",
       "  <thead>\n",
       "    <tr style=\"text-align: right;\">\n",
       "      <th></th>\n",
       "      <th>id</th>\n",
       "      <th>inning</th>\n",
       "      <th>batting_team</th>\n",
       "      <th>bowling_team</th>\n",
       "      <th>total_runs</th>\n",
       "    </tr>\n",
       "  </thead>\n",
       "  <tbody>\n",
       "    <tr>\n",
       "      <th>0</th>\n",
       "      <td>335982</td>\n",
       "      <td>1</td>\n",
       "      <td>KKR</td>\n",
       "      <td>RCB</td>\n",
       "      <td>222</td>\n",
       "    </tr>\n",
       "    <tr>\n",
       "      <th>2</th>\n",
       "      <td>335983</td>\n",
       "      <td>1</td>\n",
       "      <td>CSK</td>\n",
       "      <td>KXIP</td>\n",
       "      <td>240</td>\n",
       "    </tr>\n",
       "    <tr>\n",
       "      <th>3</th>\n",
       "      <td>335983</td>\n",
       "      <td>2</td>\n",
       "      <td>KXIP</td>\n",
       "      <td>CSK</td>\n",
       "      <td>207</td>\n",
       "    </tr>\n",
       "    <tr>\n",
       "      <th>14</th>\n",
       "      <td>335989</td>\n",
       "      <td>1</td>\n",
       "      <td>CSK</td>\n",
       "      <td>MI</td>\n",
       "      <td>208</td>\n",
       "    </tr>\n",
       "    <tr>\n",
       "      <th>15</th>\n",
       "      <td>335989</td>\n",
       "      <td>2</td>\n",
       "      <td>MI</td>\n",
       "      <td>CSK</td>\n",
       "      <td>202</td>\n",
       "    </tr>\n",
       "    <tr>\n",
       "      <th>...</th>\n",
       "      <td>...</td>\n",
       "      <td>...</td>\n",
       "      <td>...</td>\n",
       "      <td>...</td>\n",
       "      <td>...</td>\n",
       "    </tr>\n",
       "    <tr>\n",
       "      <th>1600</th>\n",
       "      <td>1216538</td>\n",
       "      <td>1</td>\n",
       "      <td>MI</td>\n",
       "      <td>SRH</td>\n",
       "      <td>208</td>\n",
       "    </tr>\n",
       "    <tr>\n",
       "      <th>1608</th>\n",
       "      <td>1216542</td>\n",
       "      <td>1</td>\n",
       "      <td>SRH</td>\n",
       "      <td>KXIP</td>\n",
       "      <td>201</td>\n",
       "    </tr>\n",
       "    <tr>\n",
       "      <th>1618</th>\n",
       "      <td>1216547</td>\n",
       "      <td>1</td>\n",
       "      <td>RCB</td>\n",
       "      <td>MI</td>\n",
       "      <td>201</td>\n",
       "    </tr>\n",
       "    <tr>\n",
       "      <th>1619</th>\n",
       "      <td>1216547</td>\n",
       "      <td>2</td>\n",
       "      <td>MI</td>\n",
       "      <td>RCB</td>\n",
       "      <td>201</td>\n",
       "    </tr>\n",
       "    <tr>\n",
       "      <th>1620</th>\n",
       "      <td>1237177</td>\n",
       "      <td>1</td>\n",
       "      <td>MI</td>\n",
       "      <td>DC</td>\n",
       "      <td>200</td>\n",
       "    </tr>\n",
       "  </tbody>\n",
       "</table>\n",
       "<p>105 rows × 5 columns</p>\n",
       "</div>"
      ],
      "text/plain": [
       "           id  inning batting_team bowling_team  total_runs\n",
       "0      335982       1          KKR          RCB         222\n",
       "2      335983       1          CSK         KXIP         240\n",
       "3      335983       2         KXIP          CSK         207\n",
       "14     335989       1          CSK           MI         208\n",
       "15     335989       2           MI          CSK         202\n",
       "...       ...     ...          ...          ...         ...\n",
       "1600  1216538       1           MI          SRH         208\n",
       "1608  1216542       1          SRH         KXIP         201\n",
       "1618  1216547       1          RCB           MI         201\n",
       "1619  1216547       2           MI          RCB         201\n",
       "1620  1237177       1           MI           DC         200\n",
       "\n",
       "[105 rows x 5 columns]"
      ]
     },
     "execution_count": 43,
     "metadata": {},
     "output_type": "execute_result"
    }
   ],
   "source": [
    "runs_high=ball_data.groupby(['id', 'inning','batting_team','bowling_team'])['total_runs'].sum().reset_index() \n",
    "runs_high=runs_high[runs_high['total_runs']>=200]\n",
    "runs_high"
   ]
  },
  {
   "cell_type": "markdown",
   "id": "79eca10e",
   "metadata": {
    "papermill": {
     "duration": 0.037576,
     "end_time": "2022-09-22T00:22:26.617336",
     "exception": false,
     "start_time": "2022-09-22T00:22:26.579760",
     "status": "completed"
    },
    "tags": []
   },
   "source": [
    "- A total of **105 matches** in which teams have scored more than 200."
   ]
  },
  {
   "cell_type": "code",
   "execution_count": 44,
   "id": "eece0e36",
   "metadata": {
    "execution": {
     "iopub.execute_input": "2022-09-22T00:22:26.781597Z",
     "iopub.status.busy": "2022-09-22T00:22:26.780848Z",
     "iopub.status.idle": "2022-09-22T00:22:26.797554Z",
     "shell.execute_reply": "2022-09-22T00:22:26.796312Z"
    },
    "papermill": {
     "duration": 0.144845,
     "end_time": "2022-09-22T00:22:26.800203",
     "exception": false,
     "start_time": "2022-09-22T00:22:26.655358",
     "status": "completed"
    },
    "tags": []
   },
   "outputs": [
    {
     "data": {
      "text/html": [
       "<div>\n",
       "<style scoped>\n",
       "    .dataframe tbody tr th:only-of-type {\n",
       "        vertical-align: middle;\n",
       "    }\n",
       "\n",
       "    .dataframe tbody tr th {\n",
       "        vertical-align: top;\n",
       "    }\n",
       "\n",
       "    .dataframe thead th {\n",
       "        text-align: right;\n",
       "    }\n",
       "</style>\n",
       "<table border=\"1\" class=\"dataframe\">\n",
       "  <thead>\n",
       "    <tr style=\"text-align: right;\">\n",
       "      <th></th>\n",
       "      <th>id</th>\n",
       "      <th>inning</th>\n",
       "      <th>batting_team</th>\n",
       "      <th>bowling_team</th>\n",
       "      <th>total_runs</th>\n",
       "    </tr>\n",
       "  </thead>\n",
       "  <tbody>\n",
       "    <tr>\n",
       "      <th>700</th>\n",
       "      <td>598027</td>\n",
       "      <td>1</td>\n",
       "      <td>RCB</td>\n",
       "      <td>PW</td>\n",
       "      <td>263</td>\n",
       "    </tr>\n",
       "    <tr>\n",
       "      <th>1116</th>\n",
       "      <td>980987</td>\n",
       "      <td>1</td>\n",
       "      <td>RCB</td>\n",
       "      <td>GL</td>\n",
       "      <td>248</td>\n",
       "    </tr>\n",
       "    <tr>\n",
       "      <th>292</th>\n",
       "      <td>419137</td>\n",
       "      <td>1</td>\n",
       "      <td>CSK</td>\n",
       "      <td>RR</td>\n",
       "      <td>246</td>\n",
       "    </tr>\n",
       "    <tr>\n",
       "      <th>1354</th>\n",
       "      <td>1136604</td>\n",
       "      <td>1</td>\n",
       "      <td>KKR</td>\n",
       "      <td>KXIP</td>\n",
       "      <td>245</td>\n",
       "    </tr>\n",
       "    <tr>\n",
       "      <th>2</th>\n",
       "      <td>335983</td>\n",
       "      <td>1</td>\n",
       "      <td>CSK</td>\n",
       "      <td>KXIP</td>\n",
       "      <td>240</td>\n",
       "    </tr>\n",
       "    <tr>\n",
       "      <th>1000</th>\n",
       "      <td>829795</td>\n",
       "      <td>1</td>\n",
       "      <td>RCB</td>\n",
       "      <td>MI</td>\n",
       "      <td>235</td>\n",
       "    </tr>\n",
       "    <tr>\n",
       "      <th>472</th>\n",
       "      <td>501260</td>\n",
       "      <td>1</td>\n",
       "      <td>KXIP</td>\n",
       "      <td>RCB</td>\n",
       "      <td>232</td>\n",
       "    </tr>\n",
       "    <tr>\n",
       "      <th>1480</th>\n",
       "      <td>1178422</td>\n",
       "      <td>1</td>\n",
       "      <td>KKR</td>\n",
       "      <td>MI</td>\n",
       "      <td>232</td>\n",
       "    </tr>\n",
       "    <tr>\n",
       "      <th>398</th>\n",
       "      <td>501223</td>\n",
       "      <td>1</td>\n",
       "      <td>DC</td>\n",
       "      <td>KXIP</td>\n",
       "      <td>231</td>\n",
       "    </tr>\n",
       "    <tr>\n",
       "      <th>850</th>\n",
       "      <td>733987</td>\n",
       "      <td>1</td>\n",
       "      <td>KXIP</td>\n",
       "      <td>CSK</td>\n",
       "      <td>231</td>\n",
       "    </tr>\n",
       "  </tbody>\n",
       "</table>\n",
       "</div>"
      ],
      "text/plain": [
       "           id  inning batting_team bowling_team  total_runs\n",
       "700    598027       1          RCB           PW         263\n",
       "1116   980987       1          RCB           GL         248\n",
       "292    419137       1          CSK           RR         246\n",
       "1354  1136604       1          KKR         KXIP         245\n",
       "2      335983       1          CSK         KXIP         240\n",
       "1000   829795       1          RCB           MI         235\n",
       "472    501260       1         KXIP          RCB         232\n",
       "1480  1178422       1          KKR           MI         232\n",
       "398    501223       1           DC         KXIP         231\n",
       "850    733987       1         KXIP          CSK         231"
      ]
     },
     "execution_count": 44,
     "metadata": {},
     "output_type": "execute_result"
    }
   ],
   "source": [
    "df= runs_high.nlargest(10,'total_runs')\n",
    "df"
   ]
  },
  {
   "cell_type": "markdown",
   "id": "81a5e475",
   "metadata": {
    "papermill": {
     "duration": 0.039248,
     "end_time": "2022-09-22T00:22:26.878804",
     "exception": false,
     "start_time": "2022-09-22T00:22:26.839556",
     "status": "completed"
    },
    "tags": []
   },
   "source": [
    "- **The highest ever runs scored by a team in a match belongs to Royal Challengers Bangalore against Pune Warriors.**"
   ]
  },
  {
   "cell_type": "markdown",
   "id": "0621b683",
   "metadata": {
    "papermill": {
     "duration": 0.039892,
     "end_time": "2022-09-22T00:22:26.958359",
     "exception": false,
     "start_time": "2022-09-22T00:22:26.918467",
     "status": "completed"
    },
    "tags": []
   },
   "source": [
    "### <b>Successfull chase of 200+ targets:</b>"
   ]
  },
  {
   "cell_type": "code",
   "execution_count": 45,
   "id": "8919040a",
   "metadata": {
    "execution": {
     "iopub.execute_input": "2022-09-22T00:22:27.041419Z",
     "iopub.status.busy": "2022-09-22T00:22:27.040469Z",
     "iopub.status.idle": "2022-09-22T00:22:27.105850Z",
     "shell.execute_reply": "2022-09-22T00:22:27.104636Z"
    },
    "papermill": {
     "duration": 0.109303,
     "end_time": "2022-09-22T00:22:27.108457",
     "exception": false,
     "start_time": "2022-09-22T00:22:26.999154",
     "status": "completed"
    },
    "tags": []
   },
   "outputs": [
    {
     "data": {
      "text/plain": [
       "no     65\n",
       "yes    12\n",
       "Name: is_score_chased, dtype: int64"
      ]
     },
     "execution_count": 45,
     "metadata": {},
     "output_type": "execute_result"
    }
   ],
   "source": [
    "runs_high=ball_data.groupby(['id', 'inning','batting_team','bowling_team'])['total_runs'].sum().reset_index()\n",
    "runs_high1=runs_high[runs_high['inning']==1]\n",
    "runs_high2=runs_high[runs_high['inning']==2]\n",
    "runs_high1=runs_high1.merge(runs_high2[['id','inning', 'total_runs']], on='id')\n",
    "runs_high1.rename(columns={'inning_x':'inning_1','inning_y':'inning_2','total_runs_x':'inning1_runs','total_runs_y':'inning2_runs'},inplace=True)\n",
    "runs_high1=runs_high1[runs_high1['inning1_runs']>=200]\n",
    "runs_high1['is_score_chased']=1\n",
    "runs_high1['is_score_chased'] = np.where(runs_high1['inning1_runs']<=runs_high1['inning2_runs'], 'yes', 'no')\n",
    "runs_high1['is_score_chased'].value_counts()"
   ]
  },
  {
   "cell_type": "markdown",
   "id": "4c6c9ca5",
   "metadata": {
    "papermill": {
     "duration": 0.0383,
     "end_time": "2022-09-22T00:22:27.185644",
     "exception": false,
     "start_time": "2022-09-22T00:22:27.147344",
     "status": "completed"
    },
    "tags": []
   },
   "source": [
    "- **Only 12 matches have had teams succesfully chased down 200 plus targets!**"
   ]
  },
  {
   "cell_type": "markdown",
   "id": "41277b7a",
   "metadata": {
    "papermill": {
     "duration": 0.039099,
     "end_time": "2022-09-22T00:22:27.263719",
     "exception": false,
     "start_time": "2022-09-22T00:22:27.224620",
     "status": "completed"
    },
    "tags": []
   },
   "source": [
    "### <b>Runs scored per over:</b>"
   ]
  },
  {
   "cell_type": "code",
   "execution_count": 46,
   "id": "bd17a0ed",
   "metadata": {
    "execution": {
     "iopub.execute_input": "2022-09-22T00:22:27.344453Z",
     "iopub.status.busy": "2022-09-22T00:22:27.343147Z",
     "iopub.status.idle": "2022-09-22T00:22:27.404019Z",
     "shell.execute_reply": "2022-09-22T00:22:27.403025Z"
    },
    "papermill": {
     "duration": 0.103816,
     "end_time": "2022-09-22T00:22:27.406618",
     "exception": false,
     "start_time": "2022-09-22T00:22:27.302802",
     "status": "completed"
    },
    "tags": []
   },
   "outputs": [
    {
     "data": {
      "text/html": [
       "<div>\n",
       "<style scoped>\n",
       "    .dataframe tbody tr th:only-of-type {\n",
       "        vertical-align: middle;\n",
       "    }\n",
       "\n",
       "    .dataframe tbody tr th {\n",
       "        vertical-align: top;\n",
       "    }\n",
       "\n",
       "    .dataframe thead th {\n",
       "        text-align: right;\n",
       "    }\n",
       "</style>\n",
       "<table border=\"1\" class=\"dataframe\">\n",
       "  <thead>\n",
       "    <tr style=\"text-align: right;\">\n",
       "      <th>batting_team</th>\n",
       "      <th>over</th>\n",
       "      <th>CSK</th>\n",
       "      <th>DC</th>\n",
       "      <th>KKR</th>\n",
       "      <th>KXIP</th>\n",
       "      <th>MI</th>\n",
       "      <th>RCB</th>\n",
       "      <th>RR</th>\n",
       "      <th>SRH</th>\n",
       "    </tr>\n",
       "  </thead>\n",
       "  <tbody>\n",
       "    <tr>\n",
       "      <th>0</th>\n",
       "      <td>0</td>\n",
       "      <td>902</td>\n",
       "      <td>1183</td>\n",
       "      <td>1273</td>\n",
       "      <td>1153</td>\n",
       "      <td>1169</td>\n",
       "      <td>1172</td>\n",
       "      <td>991</td>\n",
       "      <td>1228</td>\n",
       "    </tr>\n",
       "    <tr>\n",
       "      <th>1</th>\n",
       "      <td>1</td>\n",
       "      <td>1190</td>\n",
       "      <td>1489</td>\n",
       "      <td>1419</td>\n",
       "      <td>1336</td>\n",
       "      <td>1351</td>\n",
       "      <td>1362</td>\n",
       "      <td>1072</td>\n",
       "      <td>1600</td>\n",
       "    </tr>\n",
       "    <tr>\n",
       "      <th>2</th>\n",
       "      <td>2</td>\n",
       "      <td>1382</td>\n",
       "      <td>1550</td>\n",
       "      <td>1526</td>\n",
       "      <td>1538</td>\n",
       "      <td>1582</td>\n",
       "      <td>1544</td>\n",
       "      <td>1269</td>\n",
       "      <td>1598</td>\n",
       "    </tr>\n",
       "    <tr>\n",
       "      <th>3</th>\n",
       "      <td>3</td>\n",
       "      <td>1476</td>\n",
       "      <td>1561</td>\n",
       "      <td>1578</td>\n",
       "      <td>1629</td>\n",
       "      <td>1679</td>\n",
       "      <td>1562</td>\n",
       "      <td>1341</td>\n",
       "      <td>1552</td>\n",
       "    </tr>\n",
       "    <tr>\n",
       "      <th>4</th>\n",
       "      <td>4</td>\n",
       "      <td>1530</td>\n",
       "      <td>1634</td>\n",
       "      <td>1561</td>\n",
       "      <td>1618</td>\n",
       "      <td>1690</td>\n",
       "      <td>1556</td>\n",
       "      <td>1206</td>\n",
       "      <td>1668</td>\n",
       "    </tr>\n",
       "    <tr>\n",
       "      <th>5</th>\n",
       "      <td>5</td>\n",
       "      <td>1568</td>\n",
       "      <td>1492</td>\n",
       "      <td>1514</td>\n",
       "      <td>1633</td>\n",
       "      <td>1733</td>\n",
       "      <td>1503</td>\n",
       "      <td>1272</td>\n",
       "      <td>1688</td>\n",
       "    </tr>\n",
       "    <tr>\n",
       "      <th>6</th>\n",
       "      <td>6</td>\n",
       "      <td>1218</td>\n",
       "      <td>1371</td>\n",
       "      <td>1301</td>\n",
       "      <td>1341</td>\n",
       "      <td>1272</td>\n",
       "      <td>1210</td>\n",
       "      <td>1080</td>\n",
       "      <td>1255</td>\n",
       "    </tr>\n",
       "    <tr>\n",
       "      <th>7</th>\n",
       "      <td>7</td>\n",
       "      <td>1258</td>\n",
       "      <td>1355</td>\n",
       "      <td>1305</td>\n",
       "      <td>1453</td>\n",
       "      <td>1401</td>\n",
       "      <td>1414</td>\n",
       "      <td>1146</td>\n",
       "      <td>1363</td>\n",
       "    </tr>\n",
       "    <tr>\n",
       "      <th>8</th>\n",
       "      <td>8</td>\n",
       "      <td>1340</td>\n",
       "      <td>1429</td>\n",
       "      <td>1320</td>\n",
       "      <td>1460</td>\n",
       "      <td>1516</td>\n",
       "      <td>1436</td>\n",
       "      <td>1221</td>\n",
       "      <td>1448</td>\n",
       "    </tr>\n",
       "    <tr>\n",
       "      <th>9</th>\n",
       "      <td>9</td>\n",
       "      <td>1262</td>\n",
       "      <td>1453</td>\n",
       "      <td>1391</td>\n",
       "      <td>1426</td>\n",
       "      <td>1449</td>\n",
       "      <td>1421</td>\n",
       "      <td>1273</td>\n",
       "      <td>1379</td>\n",
       "    </tr>\n",
       "    <tr>\n",
       "      <th>10</th>\n",
       "      <td>10</td>\n",
       "      <td>1350</td>\n",
       "      <td>1477</td>\n",
       "      <td>1409</td>\n",
       "      <td>1488</td>\n",
       "      <td>1471</td>\n",
       "      <td>1500</td>\n",
       "      <td>1197</td>\n",
       "      <td>1451</td>\n",
       "    </tr>\n",
       "    <tr>\n",
       "      <th>11</th>\n",
       "      <td>11</td>\n",
       "      <td>1386</td>\n",
       "      <td>1457</td>\n",
       "      <td>1415</td>\n",
       "      <td>1456</td>\n",
       "      <td>1641</td>\n",
       "      <td>1398</td>\n",
       "      <td>1307</td>\n",
       "      <td>1548</td>\n",
       "    </tr>\n",
       "    <tr>\n",
       "      <th>12</th>\n",
       "      <td>12</td>\n",
       "      <td>1330</td>\n",
       "      <td>1570</td>\n",
       "      <td>1500</td>\n",
       "      <td>1477</td>\n",
       "      <td>1635</td>\n",
       "      <td>1507</td>\n",
       "      <td>1230</td>\n",
       "      <td>1427</td>\n",
       "    </tr>\n",
       "    <tr>\n",
       "      <th>13</th>\n",
       "      <td>13</td>\n",
       "      <td>1486</td>\n",
       "      <td>1428</td>\n",
       "      <td>1530</td>\n",
       "      <td>1561</td>\n",
       "      <td>1657</td>\n",
       "      <td>1546</td>\n",
       "      <td>1267</td>\n",
       "      <td>1574</td>\n",
       "    </tr>\n",
       "    <tr>\n",
       "      <th>14</th>\n",
       "      <td>14</td>\n",
       "      <td>1505</td>\n",
       "      <td>1415</td>\n",
       "      <td>1564</td>\n",
       "      <td>1573</td>\n",
       "      <td>1728</td>\n",
       "      <td>1588</td>\n",
       "      <td>1312</td>\n",
       "      <td>1752</td>\n",
       "    </tr>\n",
       "    <tr>\n",
       "      <th>15</th>\n",
       "      <td>15</td>\n",
       "      <td>1525</td>\n",
       "      <td>1514</td>\n",
       "      <td>1553</td>\n",
       "      <td>1648</td>\n",
       "      <td>1774</td>\n",
       "      <td>1708</td>\n",
       "      <td>1280</td>\n",
       "      <td>1570</td>\n",
       "    </tr>\n",
       "    <tr>\n",
       "      <th>16</th>\n",
       "      <td>16</td>\n",
       "      <td>1610</td>\n",
       "      <td>1639</td>\n",
       "      <td>1716</td>\n",
       "      <td>1578</td>\n",
       "      <td>1830</td>\n",
       "      <td>1688</td>\n",
       "      <td>1381</td>\n",
       "      <td>1659</td>\n",
       "    </tr>\n",
       "    <tr>\n",
       "      <th>17</th>\n",
       "      <td>17</td>\n",
       "      <td>1712</td>\n",
       "      <td>1560</td>\n",
       "      <td>1738</td>\n",
       "      <td>1575</td>\n",
       "      <td>1931</td>\n",
       "      <td>1805</td>\n",
       "      <td>1326</td>\n",
       "      <td>1755</td>\n",
       "    </tr>\n",
       "    <tr>\n",
       "      <th>18</th>\n",
       "      <td>18</td>\n",
       "      <td>1692</td>\n",
       "      <td>1526</td>\n",
       "      <td>1502</td>\n",
       "      <td>1581</td>\n",
       "      <td>1896</td>\n",
       "      <td>1712</td>\n",
       "      <td>1206</td>\n",
       "      <td>1745</td>\n",
       "    </tr>\n",
       "    <tr>\n",
       "      <th>19</th>\n",
       "      <td>19</td>\n",
       "      <td>1641</td>\n",
       "      <td>1478</td>\n",
       "      <td>1268</td>\n",
       "      <td>1493</td>\n",
       "      <td>1881</td>\n",
       "      <td>1582</td>\n",
       "      <td>1130</td>\n",
       "      <td>1535</td>\n",
       "    </tr>\n",
       "  </tbody>\n",
       "</table>\n",
       "</div>"
      ],
      "text/plain": [
       "batting_team  over   CSK    DC   KKR  KXIP    MI   RCB    RR   SRH\n",
       "0                0   902  1183  1273  1153  1169  1172   991  1228\n",
       "1                1  1190  1489  1419  1336  1351  1362  1072  1600\n",
       "2                2  1382  1550  1526  1538  1582  1544  1269  1598\n",
       "3                3  1476  1561  1578  1629  1679  1562  1341  1552\n",
       "4                4  1530  1634  1561  1618  1690  1556  1206  1668\n",
       "5                5  1568  1492  1514  1633  1733  1503  1272  1688\n",
       "6                6  1218  1371  1301  1341  1272  1210  1080  1255\n",
       "7                7  1258  1355  1305  1453  1401  1414  1146  1363\n",
       "8                8  1340  1429  1320  1460  1516  1436  1221  1448\n",
       "9                9  1262  1453  1391  1426  1449  1421  1273  1379\n",
       "10              10  1350  1477  1409  1488  1471  1500  1197  1451\n",
       "11              11  1386  1457  1415  1456  1641  1398  1307  1548\n",
       "12              12  1330  1570  1500  1477  1635  1507  1230  1427\n",
       "13              13  1486  1428  1530  1561  1657  1546  1267  1574\n",
       "14              14  1505  1415  1564  1573  1728  1588  1312  1752\n",
       "15              15  1525  1514  1553  1648  1774  1708  1280  1570\n",
       "16              16  1610  1639  1716  1578  1830  1688  1381  1659\n",
       "17              17  1712  1560  1738  1575  1931  1805  1326  1755\n",
       "18              18  1692  1526  1502  1581  1896  1712  1206  1745\n",
       "19              19  1641  1478  1268  1493  1881  1582  1130  1535"
      ]
     },
     "execution_count": 46,
     "metadata": {},
     "output_type": "execute_result"
    }
   ],
   "source": [
    "runs_per_over = ball_data.pivot_table(index=['over'],columns='batting_team',values='total_runs',aggfunc=sum)\n",
    "runs_per_over.reset_index(inplace=True)\n",
    "runs_per_over.drop(['KTK','PW','RPS','GL'],axis=1,inplace=True)\n",
    "runs_per_over.rename(columns={'batting_team':'over'})\n",
    "runs_per_over"
   ]
  },
  {
   "cell_type": "code",
   "execution_count": 47,
   "id": "1dd2b1ea",
   "metadata": {
    "execution": {
     "iopub.execute_input": "2022-09-22T00:22:27.487342Z",
     "iopub.status.busy": "2022-09-22T00:22:27.486368Z",
     "iopub.status.idle": "2022-09-22T00:22:27.993984Z",
     "shell.execute_reply": "2022-09-22T00:22:27.992519Z"
    },
    "papermill": {
     "duration": 0.551744,
     "end_time": "2022-09-22T00:22:27.997336",
     "exception": false,
     "start_time": "2022-09-22T00:22:27.445592",
     "status": "completed"
    },
    "tags": []
   },
   "outputs": [
    {
     "data": {
      "image/png": "[encoded data removed]",
      "text/plain": [
       "<Figure size 864x576 with 1 Axes>"
      ]
     },
     "metadata": {},
     "output_type": "display_data"
    }
   ],
   "source": [
    "plt.figure(figsize=(12,8))\n",
    "plt.title(\"Runs scored by teams across overs\",fontsize=15)\n",
    "sns.lineplot(data=runs_per_over,markers=False)\n",
    "plt.show()"
   ]
  },
  {
   "cell_type": "markdown",
   "id": "a0334003",
   "metadata": {
    "papermill": {
     "duration": 0.041192,
     "end_time": "2022-09-22T00:22:28.081018",
     "exception": false,
     "start_time": "2022-09-22T00:22:28.039826",
     "status": "completed"
    },
    "tags": []
   },
   "source": [
    "- **Mumbai Indians seems to have the best performance among teams in both the powerplay as well as death overs ,indicating that they have very strong batting line up**\n",
    "- All teams undergo a dip during the 7th over , as the powerplay ends.\n",
    "- **Rajasthan Royals certainly need to improve their middle order as they seem to have the lowest runs scored during the deathovers.**"
   ]
  },
  {
   "cell_type": "markdown",
   "id": "88a74422",
   "metadata": {
    "papermill": {
     "duration": 0.041542,
     "end_time": "2022-09-22T00:22:28.164778",
     "exception": false,
     "start_time": "2022-09-22T00:22:28.123236",
     "status": "completed"
    },
    "tags": []
   },
   "source": [
    "### <b>Average Runs scored during powerplay:</b>"
   ]
  },
  {
   "cell_type": "code",
   "execution_count": 48,
   "id": "61b5adc4",
   "metadata": {
    "execution": {
     "iopub.execute_input": "2022-09-22T00:22:28.250665Z",
     "iopub.status.busy": "2022-09-22T00:22:28.249765Z",
     "iopub.status.idle": "2022-09-22T00:22:28.746800Z",
     "shell.execute_reply": "2022-09-22T00:22:28.745530Z"
    },
    "papermill": {
     "duration": 0.543147,
     "end_time": "2022-09-22T00:22:28.749513",
     "exception": false,
     "start_time": "2022-09-22T00:22:28.206366",
     "status": "completed"
    },
    "tags": []
   },
   "outputs": [
    {
     "data": {
      "text/html": [
       "<div>\n",
       "<style scoped>\n",
       "    .dataframe tbody tr th:only-of-type {\n",
       "        vertical-align: middle;\n",
       "    }\n",
       "\n",
       "    .dataframe tbody tr th {\n",
       "        vertical-align: top;\n",
       "    }\n",
       "\n",
       "    .dataframe thead th {\n",
       "        text-align: right;\n",
       "    }\n",
       "</style>\n",
       "<table border=\"1\" class=\"dataframe\">\n",
       "  <thead>\n",
       "    <tr style=\"text-align: right;\">\n",
       "      <th></th>\n",
       "      <th>sum</th>\n",
       "      <th>sum</th>\n",
       "    </tr>\n",
       "    <tr>\n",
       "      <th>date</th>\n",
       "      <th></th>\n",
       "      <th></th>\n",
       "    </tr>\n",
       "  </thead>\n",
       "  <tbody>\n",
       "    <tr>\n",
       "      <th>2008</th>\n",
       "      <td>51.982759</td>\n",
       "      <td>54.672414</td>\n",
       "    </tr>\n",
       "    <tr>\n",
       "      <th>2009</th>\n",
       "      <td>49.912281</td>\n",
       "      <td>47.859649</td>\n",
       "    </tr>\n",
       "    <tr>\n",
       "      <th>2010</th>\n",
       "      <td>54.100000</td>\n",
       "      <td>55.150000</td>\n",
       "    </tr>\n",
       "    <tr>\n",
       "      <th>2011</th>\n",
       "      <td>47.698630</td>\n",
       "      <td>50.791667</td>\n",
       "    </tr>\n",
       "    <tr>\n",
       "      <th>2012</th>\n",
       "      <td>48.500000</td>\n",
       "      <td>51.094595</td>\n",
       "    </tr>\n",
       "    <tr>\n",
       "      <th>2013</th>\n",
       "      <td>47.789474</td>\n",
       "      <td>48.276316</td>\n",
       "    </tr>\n",
       "    <tr>\n",
       "      <th>2014</th>\n",
       "      <td>50.683333</td>\n",
       "      <td>53.600000</td>\n",
       "    </tr>\n",
       "    <tr>\n",
       "      <th>2015</th>\n",
       "      <td>53.338983</td>\n",
       "      <td>53.000000</td>\n",
       "    </tr>\n",
       "    <tr>\n",
       "      <th>2016</th>\n",
       "      <td>50.500000</td>\n",
       "      <td>55.466667</td>\n",
       "    </tr>\n",
       "    <tr>\n",
       "      <th>2017</th>\n",
       "      <td>54.271186</td>\n",
       "      <td>59.101695</td>\n",
       "    </tr>\n",
       "    <tr>\n",
       "      <th>2018</th>\n",
       "      <td>56.500000</td>\n",
       "      <td>58.500000</td>\n",
       "    </tr>\n",
       "    <tr>\n",
       "      <th>2019</th>\n",
       "      <td>52.666667</td>\n",
       "      <td>57.333333</td>\n",
       "    </tr>\n",
       "    <tr>\n",
       "      <th>2020</th>\n",
       "      <td>53.650000</td>\n",
       "      <td>52.433333</td>\n",
       "    </tr>\n",
       "  </tbody>\n",
       "</table>\n",
       "</div>"
      ],
      "text/plain": [
       "            sum        sum\n",
       "date                      \n",
       "2008  51.982759  54.672414\n",
       "2009  49.912281  47.859649\n",
       "2010  54.100000  55.150000\n",
       "2011  47.698630  50.791667\n",
       "2012  48.500000  51.094595\n",
       "2013  47.789474  48.276316\n",
       "2014  50.683333  53.600000\n",
       "2015  53.338983  53.000000\n",
       "2016  50.500000  55.466667\n",
       "2017  54.271186  59.101695\n",
       "2018  56.500000  58.500000\n",
       "2019  52.666667  57.333333\n",
       "2020  53.650000  52.433333"
      ]
     },
     "execution_count": 48,
     "metadata": {},
     "output_type": "execute_result"
    }
   ],
   "source": [
    "season=match_data[['id','date','winner']]\n",
    "complete_data=ball_data.merge(season,how='inner',left_on='id',right_on='id')\n",
    "powerplay_data=complete_data[complete_data['over']<=6]\n",
    "\n",
    "p1_avg=powerplay_data[powerplay_data['inning']==1].groupby(['date','id'])['total_runs'].agg(['sum'])\n",
    "p1_avg=p1_avg.reset_index().groupby('date')['sum'].mean()\n",
    "\n",
    "p2_avg=powerplay_data[powerplay_data['inning']==2].groupby(['date','id'])['total_runs'].agg(['sum'])\n",
    "p2_avg=p2_avg.reset_index().groupby('date')['sum'].mean()\n",
    "\n",
    "df2 = pd.concat([p1_avg,p2_avg],axis=1)\n",
    "df2.rename(columns={'sum':'Inn1','sum':'Inn2'})\n",
    "df2"
   ]
  },
  {
   "cell_type": "code",
   "execution_count": 49,
   "id": "d27f77b0",
   "metadata": {
    "execution": {
     "iopub.execute_input": "2022-09-22T00:22:28.837514Z",
     "iopub.status.busy": "2022-09-22T00:22:28.836045Z",
     "iopub.status.idle": "2022-09-22T00:22:29.187019Z",
     "shell.execute_reply": "2022-09-22T00:22:29.185836Z"
    },
    "papermill": {
     "duration": 0.397565,
     "end_time": "2022-09-22T00:22:29.189978",
     "exception": false,
     "start_time": "2022-09-22T00:22:28.792413",
     "status": "completed"
    },
    "tags": []
   },
   "outputs": [
    {
     "data": {
      "image/png": "[encoded data removed]",
      "text/plain": [
       "<Figure size 864x576 with 1 Axes>"
      ]
     },
     "metadata": {},
     "output_type": "display_data"
    }
   ],
   "source": [
    "df2.plot(kind='bar',figsize=(12,8),title=\"Average Runs scored by teams during powerplay over the years\",color=('blue','skyblue'))\n",
    "plt.show()"
   ]
  },
  {
   "cell_type": "markdown",
   "id": "9834b2dc",
   "metadata": {
    "papermill": {
     "duration": 0.042063,
     "end_time": "2022-09-22T00:22:29.273916",
     "exception": false,
     "start_time": "2022-09-22T00:22:29.231853",
     "status": "completed"
    },
    "tags": []
   },
   "source": [
    "- From the above plot we are able to understand that the **average runs scored in Innings 2 during powerplay is quite higher compared to Innings1**.\n",
    "- Runs scored during powerplay across both innings has also increased over the last few years."
   ]
  },
  {
   "cell_type": "markdown",
   "id": "d064c594",
   "metadata": {
    "papermill": {
     "duration": 0.041709,
     "end_time": "2022-09-22T00:22:29.357489",
     "exception": false,
     "start_time": "2022-09-22T00:22:29.315780",
     "status": "completed"
    },
    "tags": []
   },
   "source": [
    "### <b>Analysis on Batsman:</b>"
   ]
  },
  {
   "cell_type": "code",
   "execution_count": 50,
   "id": "eb10f36d",
   "metadata": {
    "execution": {
     "iopub.execute_input": "2022-09-22T00:22:29.445524Z",
     "iopub.status.busy": "2022-09-22T00:22:29.444238Z",
     "iopub.status.idle": "2022-09-22T00:22:29.547157Z",
     "shell.execute_reply": "2022-09-22T00:22:29.545822Z"
    },
    "papermill": {
     "duration": 0.149757,
     "end_time": "2022-09-22T00:22:29.550350",
     "exception": false,
     "start_time": "2022-09-22T00:22:29.400593",
     "status": "completed"
    },
    "tags": []
   },
   "outputs": [],
   "source": [
    "df_strikerate = ball_data.groupby(['batsman']).agg({'ball':'count','batsman_runs':'mean'}).sort_values(by='batsman_runs',ascending=False)\n",
    "df_strikerate.rename(columns ={'batsman_runs' : 'strike_rate'}, inplace=True)\n",
    "\n",
    "df_runs_per_match = ball_data.groupby(['batsman','id']).agg({'batsman_runs':'sum'})\n",
    "df_total_runs = df_runs_per_match.groupby(['batsman']).agg({'sum' ,'mean','count'})\n",
    "df_total_runs.rename(columns ={'sum' : 'batsman_run','count' : 'match_count','mean' :'average_score'}, inplace=True)\n",
    "df_total_runs.columns = df_total_runs.columns.droplevel()\n",
    "\n",
    "df_sixes = ball_data[['batsman','batsman_runs']][ball_data.batsman_runs==6].groupby(['batsman']).agg({'batsman_runs':'count'})\n",
    "df_four = ball_data[['batsman','batsman_runs']][ball_data.batsman_runs==4].groupby(['batsman']).agg({'batsman_runs':'count'})\n",
    "df_batsman_stats = pd.merge(pd.merge(pd.merge(df_strikerate,df_total_runs, left_index=True, right_index=True),\n",
    "                                    df_sixes, left_index=True, right_index=True),df_four, left_index=True, right_index=True)\n",
    "\n",
    "df_batsman_stats.rename(columns={'batsman_runs_x' :'six','batsman_runs_y':'four'},inplace=True)"
   ]
  },
  {
   "cell_type": "code",
   "execution_count": 51,
   "id": "67916e09",
   "metadata": {
    "execution": {
     "iopub.execute_input": "2022-09-22T00:22:29.638755Z",
     "iopub.status.busy": "2022-09-22T00:22:29.637314Z",
     "iopub.status.idle": "2022-09-22T00:22:29.662515Z",
     "shell.execute_reply": "2022-09-22T00:22:29.661495Z"
    },
    "papermill": {
     "duration": 0.071666,
     "end_time": "2022-09-22T00:22:29.664899",
     "exception": false,
     "start_time": "2022-09-22T00:22:29.593233",
     "status": "completed"
    },
    "tags": []
   },
   "outputs": [
    {
     "data": {
      "text/html": [
       "<div>\n",
       "<style scoped>\n",
       "    .dataframe tbody tr th:only-of-type {\n",
       "        vertical-align: middle;\n",
       "    }\n",
       "\n",
       "    .dataframe tbody tr th {\n",
       "        vertical-align: top;\n",
       "    }\n",
       "\n",
       "    .dataframe thead th {\n",
       "        text-align: right;\n",
       "    }\n",
       "</style>\n",
       "<table border=\"1\" class=\"dataframe\">\n",
       "  <thead>\n",
       "    <tr style=\"text-align: right;\">\n",
       "      <th></th>\n",
       "      <th>batsman</th>\n",
       "      <th>ball</th>\n",
       "      <th>strike_rate</th>\n",
       "      <th>batsman_run</th>\n",
       "      <th>average_score</th>\n",
       "      <th>match_count</th>\n",
       "      <th>six</th>\n",
       "      <th>four</th>\n",
       "    </tr>\n",
       "  </thead>\n",
       "  <tbody>\n",
       "    <tr>\n",
       "      <th>0</th>\n",
       "      <td>V Kohli</td>\n",
       "      <td>4609</td>\n",
       "      <td>127.533087</td>\n",
       "      <td>5878</td>\n",
       "      <td>31.945652</td>\n",
       "      <td>184</td>\n",
       "      <td>202</td>\n",
       "      <td>504</td>\n",
       "    </tr>\n",
       "    <tr>\n",
       "      <th>1</th>\n",
       "      <td>SK Raina</td>\n",
       "      <td>4041</td>\n",
       "      <td>132.838406</td>\n",
       "      <td>5368</td>\n",
       "      <td>28.402116</td>\n",
       "      <td>189</td>\n",
       "      <td>194</td>\n",
       "      <td>493</td>\n",
       "    </tr>\n",
       "    <tr>\n",
       "      <th>2</th>\n",
       "      <td>DA Warner</td>\n",
       "      <td>3819</td>\n",
       "      <td>137.575281</td>\n",
       "      <td>5254</td>\n",
       "      <td>37.000000</td>\n",
       "      <td>142</td>\n",
       "      <td>195</td>\n",
       "      <td>510</td>\n",
       "    </tr>\n",
       "    <tr>\n",
       "      <th>3</th>\n",
       "      <td>RG Sharma</td>\n",
       "      <td>4088</td>\n",
       "      <td>127.935421</td>\n",
       "      <td>5230</td>\n",
       "      <td>26.958763</td>\n",
       "      <td>194</td>\n",
       "      <td>214</td>\n",
       "      <td>458</td>\n",
       "    </tr>\n",
       "    <tr>\n",
       "      <th>4</th>\n",
       "      <td>S Dhawan</td>\n",
       "      <td>4208</td>\n",
       "      <td>123.502852</td>\n",
       "      <td>5197</td>\n",
       "      <td>29.697143</td>\n",
       "      <td>175</td>\n",
       "      <td>109</td>\n",
       "      <td>591</td>\n",
       "    </tr>\n",
       "    <tr>\n",
       "      <th>...</th>\n",
       "      <td>...</td>\n",
       "      <td>...</td>\n",
       "      <td>...</td>\n",
       "      <td>...</td>\n",
       "      <td>...</td>\n",
       "      <td>...</td>\n",
       "      <td>...</td>\n",
       "      <td>...</td>\n",
       "    </tr>\n",
       "    <tr>\n",
       "      <th>331</th>\n",
       "      <td>BJ Haddin</td>\n",
       "      <td>11</td>\n",
       "      <td>163.636364</td>\n",
       "      <td>18</td>\n",
       "      <td>18.000000</td>\n",
       "      <td>1</td>\n",
       "      <td>1</td>\n",
       "      <td>2</td>\n",
       "    </tr>\n",
       "    <tr>\n",
       "      <th>332</th>\n",
       "      <td>T Banton</td>\n",
       "      <td>22</td>\n",
       "      <td>81.818182</td>\n",
       "      <td>18</td>\n",
       "      <td>9.000000</td>\n",
       "      <td>2</td>\n",
       "      <td>1</td>\n",
       "      <td>1</td>\n",
       "    </tr>\n",
       "    <tr>\n",
       "      <th>333</th>\n",
       "      <td>SA Abbott</td>\n",
       "      <td>13</td>\n",
       "      <td>115.384615</td>\n",
       "      <td>15</td>\n",
       "      <td>7.500000</td>\n",
       "      <td>2</td>\n",
       "      <td>1</td>\n",
       "      <td>1</td>\n",
       "    </tr>\n",
       "    <tr>\n",
       "      <th>334</th>\n",
       "      <td>SD Lad</td>\n",
       "      <td>13</td>\n",
       "      <td>115.384615</td>\n",
       "      <td>15</td>\n",
       "      <td>15.000000</td>\n",
       "      <td>1</td>\n",
       "      <td>1</td>\n",
       "      <td>1</td>\n",
       "    </tr>\n",
       "    <tr>\n",
       "      <th>335</th>\n",
       "      <td>I Udana</td>\n",
       "      <td>11</td>\n",
       "      <td>136.363636</td>\n",
       "      <td>15</td>\n",
       "      <td>3.750000</td>\n",
       "      <td>4</td>\n",
       "      <td>1</td>\n",
       "      <td>1</td>\n",
       "    </tr>\n",
       "  </tbody>\n",
       "</table>\n",
       "<p>336 rows × 8 columns</p>\n",
       "</div>"
      ],
      "text/plain": [
       "       batsman  ball  strike_rate  batsman_run  average_score  match_count  \\\n",
       "0      V Kohli  4609   127.533087         5878      31.945652          184   \n",
       "1     SK Raina  4041   132.838406         5368      28.402116          189   \n",
       "2    DA Warner  3819   137.575281         5254      37.000000          142   \n",
       "3    RG Sharma  4088   127.935421         5230      26.958763          194   \n",
       "4     S Dhawan  4208   123.502852         5197      29.697143          175   \n",
       "..         ...   ...          ...          ...            ...          ...   \n",
       "331  BJ Haddin    11   163.636364           18      18.000000            1   \n",
       "332   T Banton    22    81.818182           18       9.000000            2   \n",
       "333  SA Abbott    13   115.384615           15       7.500000            2   \n",
       "334     SD Lad    13   115.384615           15      15.000000            1   \n",
       "335    I Udana    11   136.363636           15       3.750000            4   \n",
       "\n",
       "     six  four  \n",
       "0    202   504  \n",
       "1    194   493  \n",
       "2    195   510  \n",
       "3    214   458  \n",
       "4    109   591  \n",
       "..   ...   ...  \n",
       "331    1     2  \n",
       "332    1     1  \n",
       "333    1     1  \n",
       "334    1     1  \n",
       "335    1     1  \n",
       "\n",
       "[336 rows x 8 columns]"
      ]
     },
     "execution_count": 51,
     "metadata": {},
     "output_type": "execute_result"
    }
   ],
   "source": [
    "df_batsman_stats.rename(columns = {'ball' : 'ball', 'strike rate':'strike_rate','batsman run' : 'batsman_run',\n",
    "                                  'match count' : 'match_count','average score' : 'average_score' ,'batsman_runs_x' :'six',\n",
    "                                  'batsman_runs_y':'four'},inplace=True)\n",
    "df_batsman_stats['strike_rate'] = df_batsman_stats['strike_rate']*100\n",
    "df_batsman_stats.sort_values(by='batsman_run',ascending=False,inplace=True)\n",
    "df_batsman_stats.reset_index(inplace=True)\n",
    "df_batsman_stats"
   ]
  },
  {
   "cell_type": "markdown",
   "id": "38269712",
   "metadata": {
    "papermill": {
     "duration": 0.042231,
     "end_time": "2022-09-22T00:22:29.749726",
     "exception": false,
     "start_time": "2022-09-22T00:22:29.707495",
     "status": "completed"
    },
    "tags": []
   },
   "source": [
    "### <b>Orange cap Cap Holders for each year:</b>"
   ]
  },
  {
   "cell_type": "code",
   "execution_count": 52,
   "id": "36d5c9b1",
   "metadata": {
    "execution": {
     "iopub.execute_input": "2022-09-22T00:22:29.837621Z",
     "iopub.status.busy": "2022-09-22T00:22:29.836767Z",
     "iopub.status.idle": "2022-09-22T00:22:30.059019Z",
     "shell.execute_reply": "2022-09-22T00:22:30.057609Z"
    },
    "papermill": {
     "duration": 0.269475,
     "end_time": "2022-09-22T00:22:30.061810",
     "exception": false,
     "start_time": "2022-09-22T00:22:29.792335",
     "status": "completed"
    },
    "tags": []
   },
   "outputs": [
    {
     "data": {
      "text/html": [
       "<div>\n",
       "<style scoped>\n",
       "    .dataframe tbody tr th:only-of-type {\n",
       "        vertical-align: middle;\n",
       "    }\n",
       "\n",
       "    .dataframe tbody tr th {\n",
       "        vertical-align: top;\n",
       "    }\n",
       "\n",
       "    .dataframe thead th {\n",
       "        text-align: right;\n",
       "    }\n",
       "</style>\n",
       "<table border=\"1\" class=\"dataframe\">\n",
       "  <thead>\n",
       "    <tr style=\"text-align: right;\">\n",
       "      <th></th>\n",
       "      <th>date</th>\n",
       "      <th>batsman</th>\n",
       "      <th>batsman_runs</th>\n",
       "    </tr>\n",
       "  </thead>\n",
       "  <tbody>\n",
       "    <tr>\n",
       "      <th>115</th>\n",
       "      <td>2008</td>\n",
       "      <td>SE Marsh</td>\n",
       "      <td>616</td>\n",
       "    </tr>\n",
       "    <tr>\n",
       "      <th>229</th>\n",
       "      <td>2009</td>\n",
       "      <td>ML Hayden</td>\n",
       "      <td>572</td>\n",
       "    </tr>\n",
       "    <tr>\n",
       "      <th>446</th>\n",
       "      <td>2010</td>\n",
       "      <td>SR Tendulkar</td>\n",
       "      <td>618</td>\n",
       "    </tr>\n",
       "    <tr>\n",
       "      <th>502</th>\n",
       "      <td>2011</td>\n",
       "      <td>CH Gayle</td>\n",
       "      <td>608</td>\n",
       "    </tr>\n",
       "    <tr>\n",
       "      <th>684</th>\n",
       "      <td>2012</td>\n",
       "      <td>CH Gayle</td>\n",
       "      <td>733</td>\n",
       "    </tr>\n",
       "    <tr>\n",
       "      <th>910</th>\n",
       "      <td>2013</td>\n",
       "      <td>MEK Hussey</td>\n",
       "      <td>733</td>\n",
       "    </tr>\n",
       "    <tr>\n",
       "      <th>1088</th>\n",
       "      <td>2014</td>\n",
       "      <td>RV Uthappa</td>\n",
       "      <td>660</td>\n",
       "    </tr>\n",
       "    <tr>\n",
       "      <th>1148</th>\n",
       "      <td>2015</td>\n",
       "      <td>DA Warner</td>\n",
       "      <td>562</td>\n",
       "    </tr>\n",
       "    <tr>\n",
       "      <th>1383</th>\n",
       "      <td>2016</td>\n",
       "      <td>V Kohli</td>\n",
       "      <td>973</td>\n",
       "    </tr>\n",
       "    <tr>\n",
       "      <th>1422</th>\n",
       "      <td>2017</td>\n",
       "      <td>DA Warner</td>\n",
       "      <td>641</td>\n",
       "    </tr>\n",
       "    <tr>\n",
       "      <th>1594</th>\n",
       "      <td>2018</td>\n",
       "      <td>KS Williamson</td>\n",
       "      <td>735</td>\n",
       "    </tr>\n",
       "    <tr>\n",
       "      <th>1694</th>\n",
       "      <td>2019</td>\n",
       "      <td>DA Warner</td>\n",
       "      <td>692</td>\n",
       "    </tr>\n",
       "    <tr>\n",
       "      <th>1866</th>\n",
       "      <td>2020</td>\n",
       "      <td>KL Rahul</td>\n",
       "      <td>670</td>\n",
       "    </tr>\n",
       "  </tbody>\n",
       "</table>\n",
       "</div>"
      ],
      "text/plain": [
       "      date        batsman  batsman_runs\n",
       "115   2008       SE Marsh           616\n",
       "229   2009      ML Hayden           572\n",
       "446   2010   SR Tendulkar           618\n",
       "502   2011       CH Gayle           608\n",
       "684   2012       CH Gayle           733\n",
       "910   2013     MEK Hussey           733\n",
       "1088  2014     RV Uthappa           660\n",
       "1148  2015      DA Warner           562\n",
       "1383  2016        V Kohli           973\n",
       "1422  2017      DA Warner           641\n",
       "1594  2018  KS Williamson           735\n",
       "1694  2019      DA Warner           692\n",
       "1866  2020       KL Rahul           670"
      ]
     },
     "execution_count": 52,
     "metadata": {},
     "output_type": "execute_result"
    }
   ],
   "source": [
    "orange_cap=match_data[['id','date']]\n",
    "orange_cap=orange_cap.merge(ball_data,left_on='id',right_on='id',how='left')\n",
    "orange_cap=orange_cap.groupby(['date','batsman'])['batsman_runs'].sum().reset_index()\n",
    "orange_cap=orange_cap.sort_values('batsman_runs',ascending=0)\n",
    "orange_cap=orange_cap.drop_duplicates(subset=[\"date\"],keep=\"first\")\n",
    "orange_cap=orange_cap.sort_values('date',ascending=True)\n",
    "orange_cap"
   ]
  },
  {
   "cell_type": "markdown",
   "id": "f308dc86",
   "metadata": {
    "papermill": {
     "duration": 0.043181,
     "end_time": "2022-09-22T00:22:30.148144",
     "exception": false,
     "start_time": "2022-09-22T00:22:30.104963",
     "status": "completed"
    },
    "tags": []
   },
   "source": [
    "- **David Warner has the highest number of orange_cap caps(3).**\n",
    "- **Virat Kohli has the highest runs ever scored by a orange_cap cap holder(973)!**"
   ]
  },
  {
   "cell_type": "markdown",
   "id": "dc6233cc",
   "metadata": {
    "papermill": {
     "duration": 0.042624,
     "end_time": "2022-09-22T00:22:30.233760",
     "exception": false,
     "start_time": "2022-09-22T00:22:30.191136",
     "status": "completed"
    },
    "tags": []
   },
   "source": [
    "### <b>Highest average runs scored by batsman who have played more than 50 matches:</b>"
   ]
  },
  {
   "cell_type": "code",
   "execution_count": 53,
   "id": "3e738047",
   "metadata": {
    "execution": {
     "iopub.execute_input": "2022-09-22T00:22:30.324803Z",
     "iopub.status.busy": "2022-09-22T00:22:30.323960Z",
     "iopub.status.idle": "2022-09-22T00:22:30.342655Z",
     "shell.execute_reply": "2022-09-22T00:22:30.341377Z"
    },
    "papermill": {
     "duration": 0.066665,
     "end_time": "2022-09-22T00:22:30.345121",
     "exception": false,
     "start_time": "2022-09-22T00:22:30.278456",
     "status": "completed"
    },
    "tags": []
   },
   "outputs": [
    {
     "data": {
      "text/html": [
       "<div>\n",
       "<style scoped>\n",
       "    .dataframe tbody tr th:only-of-type {\n",
       "        vertical-align: middle;\n",
       "    }\n",
       "\n",
       "    .dataframe tbody tr th {\n",
       "        vertical-align: top;\n",
       "    }\n",
       "\n",
       "    .dataframe thead th {\n",
       "        text-align: right;\n",
       "    }\n",
       "</style>\n",
       "<table border=\"1\" class=\"dataframe\">\n",
       "  <thead>\n",
       "    <tr style=\"text-align: right;\">\n",
       "      <th></th>\n",
       "      <th>batsman</th>\n",
       "      <th>ball</th>\n",
       "      <th>strike_rate</th>\n",
       "      <th>batsman_run</th>\n",
       "      <th>average_score</th>\n",
       "      <th>match_count</th>\n",
       "      <th>six</th>\n",
       "      <th>four</th>\n",
       "    </tr>\n",
       "  </thead>\n",
       "  <tbody>\n",
       "    <tr>\n",
       "      <th>2</th>\n",
       "      <td>DA Warner</td>\n",
       "      <td>3819</td>\n",
       "      <td>137.575281</td>\n",
       "      <td>5254</td>\n",
       "      <td>37.000000</td>\n",
       "      <td>142</td>\n",
       "      <td>195</td>\n",
       "      <td>510</td>\n",
       "    </tr>\n",
       "    <tr>\n",
       "      <th>21</th>\n",
       "      <td>KL Rahul</td>\n",
       "      <td>1990</td>\n",
       "      <td>133.015075</td>\n",
       "      <td>2647</td>\n",
       "      <td>36.763889</td>\n",
       "      <td>72</td>\n",
       "      <td>104</td>\n",
       "      <td>234</td>\n",
       "    </tr>\n",
       "    <tr>\n",
       "      <th>6</th>\n",
       "      <td>CH Gayle</td>\n",
       "      <td>3342</td>\n",
       "      <td>142.788749</td>\n",
       "      <td>4772</td>\n",
       "      <td>36.427481</td>\n",
       "      <td>131</td>\n",
       "      <td>349</td>\n",
       "      <td>384</td>\n",
       "    </tr>\n",
       "    <tr>\n",
       "      <th>24</th>\n",
       "      <td>SE Marsh</td>\n",
       "      <td>1908</td>\n",
       "      <td>129.821803</td>\n",
       "      <td>2477</td>\n",
       "      <td>35.898551</td>\n",
       "      <td>69</td>\n",
       "      <td>78</td>\n",
       "      <td>266</td>\n",
       "    </tr>\n",
       "    <tr>\n",
       "      <th>39</th>\n",
       "      <td>MEK Hussey</td>\n",
       "      <td>1648</td>\n",
       "      <td>119.963592</td>\n",
       "      <td>1977</td>\n",
       "      <td>34.086207</td>\n",
       "      <td>58</td>\n",
       "      <td>52</td>\n",
       "      <td>198</td>\n",
       "    </tr>\n",
       "    <tr>\n",
       "      <th>0</th>\n",
       "      <td>V Kohli</td>\n",
       "      <td>4609</td>\n",
       "      <td>127.533087</td>\n",
       "      <td>5878</td>\n",
       "      <td>31.945652</td>\n",
       "      <td>184</td>\n",
       "      <td>202</td>\n",
       "      <td>504</td>\n",
       "    </tr>\n",
       "    <tr>\n",
       "      <th>48</th>\n",
       "      <td>KS Williamson</td>\n",
       "      <td>1222</td>\n",
       "      <td>132.487725</td>\n",
       "      <td>1619</td>\n",
       "      <td>31.134615</td>\n",
       "      <td>52</td>\n",
       "      <td>54</td>\n",
       "      <td>137</td>\n",
       "    </tr>\n",
       "    <tr>\n",
       "      <th>5</th>\n",
       "      <td>AB de Villiers</td>\n",
       "      <td>3264</td>\n",
       "      <td>148.560049</td>\n",
       "      <td>4849</td>\n",
       "      <td>31.083333</td>\n",
       "      <td>156</td>\n",
       "      <td>235</td>\n",
       "      <td>390</td>\n",
       "    </tr>\n",
       "    <tr>\n",
       "      <th>33</th>\n",
       "      <td>RR Pant</td>\n",
       "      <td>1416</td>\n",
       "      <td>146.822034</td>\n",
       "      <td>2079</td>\n",
       "      <td>30.573529</td>\n",
       "      <td>68</td>\n",
       "      <td>103</td>\n",
       "      <td>184</td>\n",
       "    </tr>\n",
       "    <tr>\n",
       "      <th>43</th>\n",
       "      <td>JC Buttler</td>\n",
       "      <td>1184</td>\n",
       "      <td>144.763514</td>\n",
       "      <td>1714</td>\n",
       "      <td>30.070175</td>\n",
       "      <td>57</td>\n",
       "      <td>77</td>\n",
       "      <td>167</td>\n",
       "    </tr>\n",
       "  </tbody>\n",
       "</table>\n",
       "</div>"
      ],
      "text/plain": [
       "           batsman  ball  strike_rate  batsman_run  average_score  \\\n",
       "2        DA Warner  3819   137.575281         5254      37.000000   \n",
       "21        KL Rahul  1990   133.015075         2647      36.763889   \n",
       "6         CH Gayle  3342   142.788749         4772      36.427481   \n",
       "24        SE Marsh  1908   129.821803         2477      35.898551   \n",
       "39      MEK Hussey  1648   119.963592         1977      34.086207   \n",
       "0          V Kohli  4609   127.533087         5878      31.945652   \n",
       "48   KS Williamson  1222   132.487725         1619      31.134615   \n",
       "5   AB de Villiers  3264   148.560049         4849      31.083333   \n",
       "33         RR Pant  1416   146.822034         2079      30.573529   \n",
       "43      JC Buttler  1184   144.763514         1714      30.070175   \n",
       "\n",
       "    match_count  six  four  \n",
       "2           142  195   510  \n",
       "21           72  104   234  \n",
       "6           131  349   384  \n",
       "24           69   78   266  \n",
       "39           58   52   198  \n",
       "0           184  202   504  \n",
       "48           52   54   137  \n",
       "5           156  235   390  \n",
       "33           68  103   184  \n",
       "43           57   77   167  "
      ]
     },
     "execution_count": 53,
     "metadata": {},
     "output_type": "execute_result"
    }
   ],
   "source": [
    "average_score=df_batsman_stats.sort_values(by='average_score',ascending=False)\n",
    "average_score=average_score[average_score['match_count']>50].head(10)\n",
    "average_score"
   ]
  },
  {
   "cell_type": "markdown",
   "id": "bbcd6cc4",
   "metadata": {
    "papermill": {
     "duration": 0.042857,
     "end_time": "2022-09-22T00:22:30.431202",
     "exception": false,
     "start_time": "2022-09-22T00:22:30.388345",
     "status": "completed"
    },
    "tags": []
   },
   "source": [
    "- **Highest average belongs to David Warner closely followed by KL Rahul and Chris Gayle**\n",
    "- Kane williamson is the only player in the list to have played just above 50 games and have better average score compared to veteran Ab de villiers."
   ]
  },
  {
   "cell_type": "markdown",
   "id": "fc7825d0",
   "metadata": {
    "papermill": {
     "duration": 0.043326,
     "end_time": "2022-09-22T00:22:30.518519",
     "exception": false,
     "start_time": "2022-09-22T00:22:30.475193",
     "status": "completed"
    },
    "tags": []
   },
   "source": [
    "### <b>Highest Strike rate of batsman who have played more than 50 matches:</b>"
   ]
  },
  {
   "cell_type": "code",
   "execution_count": 54,
   "id": "5ca1cf36",
   "metadata": {
    "execution": {
     "iopub.execute_input": "2022-09-22T00:22:30.609229Z",
     "iopub.status.busy": "2022-09-22T00:22:30.608317Z",
     "iopub.status.idle": "2022-09-22T00:22:30.627733Z",
     "shell.execute_reply": "2022-09-22T00:22:30.626357Z"
    },
    "papermill": {
     "duration": 0.069022,
     "end_time": "2022-09-22T00:22:30.630476",
     "exception": false,
     "start_time": "2022-09-22T00:22:30.561454",
     "status": "completed"
    },
    "tags": []
   },
   "outputs": [
    {
     "data": {
      "text/html": [
       "<div>\n",
       "<style scoped>\n",
       "    .dataframe tbody tr th:only-of-type {\n",
       "        vertical-align: middle;\n",
       "    }\n",
       "\n",
       "    .dataframe tbody tr th {\n",
       "        vertical-align: top;\n",
       "    }\n",
       "\n",
       "    .dataframe thead th {\n",
       "        text-align: right;\n",
       "    }\n",
       "</style>\n",
       "<table border=\"1\" class=\"dataframe\">\n",
       "  <thead>\n",
       "    <tr style=\"text-align: right;\">\n",
       "      <th></th>\n",
       "      <th>batsman</th>\n",
       "      <th>ball</th>\n",
       "      <th>strike_rate</th>\n",
       "      <th>batsman_run</th>\n",
       "      <th>average_score</th>\n",
       "      <th>match_count</th>\n",
       "      <th>six</th>\n",
       "      <th>four</th>\n",
       "    </tr>\n",
       "  </thead>\n",
       "  <tbody>\n",
       "    <tr>\n",
       "      <th>50</th>\n",
       "      <td>AD Russell</td>\n",
       "      <td>882</td>\n",
       "      <td>171.995465</td>\n",
       "      <td>1517</td>\n",
       "      <td>24.868852</td>\n",
       "      <td>61</td>\n",
       "      <td>129</td>\n",
       "      <td>105</td>\n",
       "    </tr>\n",
       "    <tr>\n",
       "      <th>82</th>\n",
       "      <td>SP Narine</td>\n",
       "      <td>573</td>\n",
       "      <td>155.671902</td>\n",
       "      <td>892</td>\n",
       "      <td>14.158730</td>\n",
       "      <td>63</td>\n",
       "      <td>52</td>\n",
       "      <td>103</td>\n",
       "    </tr>\n",
       "    <tr>\n",
       "      <th>58</th>\n",
       "      <td>HH Pandya</td>\n",
       "      <td>897</td>\n",
       "      <td>150.390190</td>\n",
       "      <td>1349</td>\n",
       "      <td>18.229730</td>\n",
       "      <td>74</td>\n",
       "      <td>93</td>\n",
       "      <td>86</td>\n",
       "    </tr>\n",
       "    <tr>\n",
       "      <th>20</th>\n",
       "      <td>V Sehwag</td>\n",
       "      <td>1833</td>\n",
       "      <td>148.827059</td>\n",
       "      <td>2728</td>\n",
       "      <td>26.230769</td>\n",
       "      <td>104</td>\n",
       "      <td>106</td>\n",
       "      <td>334</td>\n",
       "    </tr>\n",
       "    <tr>\n",
       "      <th>51</th>\n",
       "      <td>GJ Maxwell</td>\n",
       "      <td>1013</td>\n",
       "      <td>148.568608</td>\n",
       "      <td>1505</td>\n",
       "      <td>19.294872</td>\n",
       "      <td>78</td>\n",
       "      <td>91</td>\n",
       "      <td>119</td>\n",
       "    </tr>\n",
       "    <tr>\n",
       "      <th>5</th>\n",
       "      <td>AB de Villiers</td>\n",
       "      <td>3264</td>\n",
       "      <td>148.560049</td>\n",
       "      <td>4849</td>\n",
       "      <td>31.083333</td>\n",
       "      <td>156</td>\n",
       "      <td>235</td>\n",
       "      <td>390</td>\n",
       "    </tr>\n",
       "    <tr>\n",
       "      <th>33</th>\n",
       "      <td>RR Pant</td>\n",
       "      <td>1416</td>\n",
       "      <td>146.822034</td>\n",
       "      <td>2079</td>\n",
       "      <td>30.573529</td>\n",
       "      <td>68</td>\n",
       "      <td>103</td>\n",
       "      <td>184</td>\n",
       "    </tr>\n",
       "    <tr>\n",
       "      <th>43</th>\n",
       "      <td>JC Buttler</td>\n",
       "      <td>1184</td>\n",
       "      <td>144.763514</td>\n",
       "      <td>1714</td>\n",
       "      <td>30.070175</td>\n",
       "      <td>57</td>\n",
       "      <td>77</td>\n",
       "      <td>167</td>\n",
       "    </tr>\n",
       "    <tr>\n",
       "      <th>16</th>\n",
       "      <td>KA Pollard</td>\n",
       "      <td>2107</td>\n",
       "      <td>143.474134</td>\n",
       "      <td>3023</td>\n",
       "      <td>20.993056</td>\n",
       "      <td>144</td>\n",
       "      <td>198</td>\n",
       "      <td>196</td>\n",
       "    </tr>\n",
       "    <tr>\n",
       "      <th>6</th>\n",
       "      <td>CH Gayle</td>\n",
       "      <td>3342</td>\n",
       "      <td>142.788749</td>\n",
       "      <td>4772</td>\n",
       "      <td>36.427481</td>\n",
       "      <td>131</td>\n",
       "      <td>349</td>\n",
       "      <td>384</td>\n",
       "    </tr>\n",
       "  </tbody>\n",
       "</table>\n",
       "</div>"
      ],
      "text/plain": [
       "           batsman  ball  strike_rate  batsman_run  average_score  \\\n",
       "50      AD Russell   882   171.995465         1517      24.868852   \n",
       "82       SP Narine   573   155.671902          892      14.158730   \n",
       "58       HH Pandya   897   150.390190         1349      18.229730   \n",
       "20        V Sehwag  1833   148.827059         2728      26.230769   \n",
       "51      GJ Maxwell  1013   148.568608         1505      19.294872   \n",
       "5   AB de Villiers  3264   148.560049         4849      31.083333   \n",
       "33         RR Pant  1416   146.822034         2079      30.573529   \n",
       "43      JC Buttler  1184   144.763514         1714      30.070175   \n",
       "16      KA Pollard  2107   143.474134         3023      20.993056   \n",
       "6         CH Gayle  3342   142.788749         4772      36.427481   \n",
       "\n",
       "    match_count  six  four  \n",
       "50           61  129   105  \n",
       "82           63   52   103  \n",
       "58           74   93    86  \n",
       "20          104  106   334  \n",
       "51           78   91   119  \n",
       "5           156  235   390  \n",
       "33           68  103   184  \n",
       "43           57   77   167  \n",
       "16          144  198   196  \n",
       "6           131  349   384  "
      ]
     },
     "execution_count": 54,
     "metadata": {},
     "output_type": "execute_result"
    }
   ],
   "source": [
    "average_score=df_batsman_stats.sort_values(by='strike_rate',ascending=False)\n",
    "average_score=average_score[average_score['match_count']>50].head(10)\n",
    "average_score"
   ]
  },
  {
   "cell_type": "markdown",
   "id": "7481f11f",
   "metadata": {
    "papermill": {
     "duration": 0.043309,
     "end_time": "2022-09-22T00:22:30.719012",
     "exception": false,
     "start_time": "2022-09-22T00:22:30.675703",
     "status": "completed"
    },
    "tags": []
   },
   "source": [
    "- **Andre Russel** has the highest strike rate(nearly 172!) among the batsman.\n",
    "- Ironically neither David warner nor KL rahul who had the highest averages have high strike rates."
   ]
  },
  {
   "cell_type": "markdown",
   "id": "8a87920d",
   "metadata": {
    "papermill": {
     "duration": 0.043883,
     "end_time": "2022-09-22T00:22:30.806794",
     "exception": false,
     "start_time": "2022-09-22T00:22:30.762911",
     "status": "completed"
    },
    "tags": []
   },
   "source": [
    "### <b>Top 10 Batsman who has scored the highest sixes and fours:</b>"
   ]
  },
  {
   "cell_type": "code",
   "execution_count": 55,
   "id": "1412e9f6",
   "metadata": {
    "execution": {
     "iopub.execute_input": "2022-09-22T00:22:30.897708Z",
     "iopub.status.busy": "2022-09-22T00:22:30.897217Z",
     "iopub.status.idle": "2022-09-22T00:22:30.940204Z",
     "shell.execute_reply": "2022-09-22T00:22:30.938914Z"
    },
    "papermill": {
     "duration": 0.092197,
     "end_time": "2022-09-22T00:22:30.943234",
     "exception": false,
     "start_time": "2022-09-22T00:22:30.851037",
     "status": "completed"
    },
    "tags": []
   },
   "outputs": [],
   "source": [
    "best_players = ball_data.groupby(['batsman','batsman_runs'])['total_runs'].count().reset_index()\n",
    "best_players=best_players.pivot('batsman','batsman_runs','total_runs')\n",
    "best_players.reset_index(inplace=True)\n",
    "\n",
    "top_6 = best_players.sort_values(6,ascending=False).head(10)\n",
    "top_4 = best_players.sort_values(4,ascending=False).head(10)"
   ]
  },
  {
   "cell_type": "code",
   "execution_count": 56,
   "id": "01960553",
   "metadata": {
    "execution": {
     "iopub.execute_input": "2022-09-22T00:22:31.033103Z",
     "iopub.status.busy": "2022-09-22T00:22:31.032626Z",
     "iopub.status.idle": "2022-09-22T00:22:31.047104Z",
     "shell.execute_reply": "2022-09-22T00:22:31.045894Z"
    },
    "papermill": {
     "duration": 0.062821,
     "end_time": "2022-09-22T00:22:31.049741",
     "exception": false,
     "start_time": "2022-09-22T00:22:30.986920",
     "status": "completed"
    },
    "tags": []
   },
   "outputs": [
    {
     "data": {
      "text/html": [
       "<div>\n",
       "<style scoped>\n",
       "    .dataframe tbody tr th:only-of-type {\n",
       "        vertical-align: middle;\n",
       "    }\n",
       "\n",
       "    .dataframe tbody tr th {\n",
       "        vertical-align: top;\n",
       "    }\n",
       "\n",
       "    .dataframe thead th {\n",
       "        text-align: right;\n",
       "    }\n",
       "</style>\n",
       "<table border=\"1\" class=\"dataframe\">\n",
       "  <thead>\n",
       "    <tr style=\"text-align: right;\">\n",
       "      <th>batsman_runs</th>\n",
       "      <th>batsman</th>\n",
       "      <th>6</th>\n",
       "    </tr>\n",
       "  </thead>\n",
       "  <tbody>\n",
       "    <tr>\n",
       "      <th>96</th>\n",
       "      <td>CH Gayle</td>\n",
       "      <td>349.0</td>\n",
       "    </tr>\n",
       "    <tr>\n",
       "      <th>24</th>\n",
       "      <td>AB de Villiers</td>\n",
       "      <td>235.0</td>\n",
       "    </tr>\n",
       "    <tr>\n",
       "      <th>301</th>\n",
       "      <td>MS Dhoni</td>\n",
       "      <td>216.0</td>\n",
       "    </tr>\n",
       "    <tr>\n",
       "      <th>379</th>\n",
       "      <td>RG Sharma</td>\n",
       "      <td>214.0</td>\n",
       "    </tr>\n",
       "    <tr>\n",
       "      <th>505</th>\n",
       "      <td>V Kohli</td>\n",
       "      <td>202.0</td>\n",
       "    </tr>\n",
       "    <tr>\n",
       "      <th>220</th>\n",
       "      <td>KA Pollard</td>\n",
       "      <td>198.0</td>\n",
       "    </tr>\n",
       "    <tr>\n",
       "      <th>116</th>\n",
       "      <td>DA Warner</td>\n",
       "      <td>195.0</td>\n",
       "    </tr>\n",
       "    <tr>\n",
       "      <th>438</th>\n",
       "      <td>SK Raina</td>\n",
       "      <td>194.0</td>\n",
       "    </tr>\n",
       "    <tr>\n",
       "      <th>456</th>\n",
       "      <td>SR Watson</td>\n",
       "      <td>190.0</td>\n",
       "    </tr>\n",
       "    <tr>\n",
       "      <th>398</th>\n",
       "      <td>RV Uthappa</td>\n",
       "      <td>163.0</td>\n",
       "    </tr>\n",
       "  </tbody>\n",
       "</table>\n",
       "</div>"
      ],
      "text/plain": [
       "batsman_runs         batsman      6\n",
       "96                  CH Gayle  349.0\n",
       "24            AB de Villiers  235.0\n",
       "301                 MS Dhoni  216.0\n",
       "379                RG Sharma  214.0\n",
       "505                  V Kohli  202.0\n",
       "220               KA Pollard  198.0\n",
       "116                DA Warner  195.0\n",
       "438                 SK Raina  194.0\n",
       "456                SR Watson  190.0\n",
       "398               RV Uthappa  163.0"
      ]
     },
     "execution_count": 56,
     "metadata": {},
     "output_type": "execute_result"
    }
   ],
   "source": [
    "top_6[['batsman',6]]"
   ]
  },
  {
   "cell_type": "markdown",
   "id": "d4c6993f",
   "metadata": {
    "papermill": {
     "duration": 0.043371,
     "end_time": "2022-09-22T00:22:31.136628",
     "exception": false,
     "start_time": "2022-09-22T00:22:31.093257",
     "status": "completed"
    },
    "tags": []
   },
   "source": [
    "- Chris Gayle has scored the highest number of sixes across all the season of IPL.\n",
    "- AB de Villiers trails behind Gayle by a whopping 114 sixes."
   ]
  },
  {
   "cell_type": "code",
   "execution_count": 57,
   "id": "a3cc11db",
   "metadata": {
    "execution": {
     "iopub.execute_input": "2022-09-22T00:22:31.226951Z",
     "iopub.status.busy": "2022-09-22T00:22:31.226416Z",
     "iopub.status.idle": "2022-09-22T00:22:31.240880Z",
     "shell.execute_reply": "2022-09-22T00:22:31.239651Z"
    },
    "papermill": {
     "duration": 0.062966,
     "end_time": "2022-09-22T00:22:31.243142",
     "exception": false,
     "start_time": "2022-09-22T00:22:31.180176",
     "status": "completed"
    },
    "tags": []
   },
   "outputs": [
    {
     "data": {
      "text/html": [
       "<div>\n",
       "<style scoped>\n",
       "    .dataframe tbody tr th:only-of-type {\n",
       "        vertical-align: middle;\n",
       "    }\n",
       "\n",
       "    .dataframe tbody tr th {\n",
       "        vertical-align: top;\n",
       "    }\n",
       "\n",
       "    .dataframe thead th {\n",
       "        text-align: right;\n",
       "    }\n",
       "</style>\n",
       "<table border=\"1\" class=\"dataframe\">\n",
       "  <thead>\n",
       "    <tr style=\"text-align: right;\">\n",
       "      <th>batsman_runs</th>\n",
       "      <th>batsman</th>\n",
       "      <th>4</th>\n",
       "    </tr>\n",
       "  </thead>\n",
       "  <tbody>\n",
       "    <tr>\n",
       "      <th>407</th>\n",
       "      <td>S Dhawan</td>\n",
       "      <td>591.0</td>\n",
       "    </tr>\n",
       "    <tr>\n",
       "      <th>116</th>\n",
       "      <td>DA Warner</td>\n",
       "      <td>510.0</td>\n",
       "    </tr>\n",
       "    <tr>\n",
       "      <th>505</th>\n",
       "      <td>V Kohli</td>\n",
       "      <td>504.0</td>\n",
       "    </tr>\n",
       "    <tr>\n",
       "      <th>438</th>\n",
       "      <td>SK Raina</td>\n",
       "      <td>493.0</td>\n",
       "    </tr>\n",
       "    <tr>\n",
       "      <th>154</th>\n",
       "      <td>G Gambhir</td>\n",
       "      <td>492.0</td>\n",
       "    </tr>\n",
       "    <tr>\n",
       "      <th>379</th>\n",
       "      <td>RG Sharma</td>\n",
       "      <td>458.0</td>\n",
       "    </tr>\n",
       "    <tr>\n",
       "      <th>398</th>\n",
       "      <td>RV Uthappa</td>\n",
       "      <td>454.0</td>\n",
       "    </tr>\n",
       "    <tr>\n",
       "      <th>42</th>\n",
       "      <td>AM Rahane</td>\n",
       "      <td>416.0</td>\n",
       "    </tr>\n",
       "    <tr>\n",
       "      <th>24</th>\n",
       "      <td>AB de Villiers</td>\n",
       "      <td>390.0</td>\n",
       "    </tr>\n",
       "    <tr>\n",
       "      <th>96</th>\n",
       "      <td>CH Gayle</td>\n",
       "      <td>384.0</td>\n",
       "    </tr>\n",
       "  </tbody>\n",
       "</table>\n",
       "</div>"
      ],
      "text/plain": [
       "batsman_runs         batsman      4\n",
       "407                 S Dhawan  591.0\n",
       "116                DA Warner  510.0\n",
       "505                  V Kohli  504.0\n",
       "438                 SK Raina  493.0\n",
       "154                G Gambhir  492.0\n",
       "379                RG Sharma  458.0\n",
       "398               RV Uthappa  454.0\n",
       "42                 AM Rahane  416.0\n",
       "24            AB de Villiers  390.0\n",
       "96                  CH Gayle  384.0"
      ]
     },
     "execution_count": 57,
     "metadata": {},
     "output_type": "execute_result"
    }
   ],
   "source": [
    "top_4[['batsman',4]]"
   ]
  },
  {
   "cell_type": "markdown",
   "id": "e6c41577",
   "metadata": {
    "papermill": {
     "duration": 0.043346,
     "end_time": "2022-09-22T00:22:31.330582",
     "exception": false,
     "start_time": "2022-09-22T00:22:31.287236",
     "status": "completed"
    },
    "tags": []
   },
   "source": [
    "- Shikar Dhawan has scored the highest number of fours followed by David Warner."
   ]
  },
  {
   "cell_type": "markdown",
   "id": "ce64c94b",
   "metadata": {
    "papermill": {
     "duration": 0.04336,
     "end_time": "2022-09-22T00:22:31.417664",
     "exception": false,
     "start_time": "2022-09-22T00:22:31.374304",
     "status": "completed"
    },
    "tags": []
   },
   "source": [
    "### <b>Analysis on Bowlers:</b>"
   ]
  },
  {
   "cell_type": "code",
   "execution_count": 58,
   "id": "081a6e34",
   "metadata": {
    "execution": {
     "iopub.execute_input": "2022-09-22T00:22:31.508227Z",
     "iopub.status.busy": "2022-09-22T00:22:31.507323Z",
     "iopub.status.idle": "2022-09-22T00:22:31.586561Z",
     "shell.execute_reply": "2022-09-22T00:22:31.585230Z"
    },
    "papermill": {
     "duration": 0.128365,
     "end_time": "2022-09-22T00:22:31.589622",
     "exception": false,
     "start_time": "2022-09-22T00:22:31.461257",
     "status": "completed"
    },
    "tags": []
   },
   "outputs": [],
   "source": [
    "bowlers=ball_data.groupby('bowler').sum().reset_index()\n",
    "bowl_name=ball_data['bowler'].value_counts().reset_index()\n",
    "bowlers=bowlers.merge(bowl_name,left_on='bowler',right_on='index',how='left')\n",
    "bowlers=bowlers[['bowler_x','total_runs','bowler_y']]\n",
    "bowlers.rename({'bowler_x':'bowler','total_runs':'runs_given','bowler_y':'balls'},axis=1,inplace=True)\n",
    "bowlers['overs']=(bowlers['balls']//6)"
   ]
  },
  {
   "cell_type": "code",
   "execution_count": 59,
   "id": "45387ccf",
   "metadata": {
    "execution": {
     "iopub.execute_input": "2022-09-22T00:22:31.679781Z",
     "iopub.status.busy": "2022-09-22T00:22:31.679312Z",
     "iopub.status.idle": "2022-09-22T00:22:31.694115Z",
     "shell.execute_reply": "2022-09-22T00:22:31.692890Z"
    },
    "papermill": {
     "duration": 0.062637,
     "end_time": "2022-09-22T00:22:31.696449",
     "exception": false,
     "start_time": "2022-09-22T00:22:31.633812",
     "status": "completed"
    },
    "tags": []
   },
   "outputs": [
    {
     "data": {
      "text/html": [
       "<div>\n",
       "<style scoped>\n",
       "    .dataframe tbody tr th:only-of-type {\n",
       "        vertical-align: middle;\n",
       "    }\n",
       "\n",
       "    .dataframe tbody tr th {\n",
       "        vertical-align: top;\n",
       "    }\n",
       "\n",
       "    .dataframe thead th {\n",
       "        text-align: right;\n",
       "    }\n",
       "</style>\n",
       "<table border=\"1\" class=\"dataframe\">\n",
       "  <thead>\n",
       "    <tr style=\"text-align: right;\">\n",
       "      <th></th>\n",
       "      <th>bowler</th>\n",
       "      <th>runs_given</th>\n",
       "      <th>balls</th>\n",
       "      <th>overs</th>\n",
       "    </tr>\n",
       "  </thead>\n",
       "  <tbody>\n",
       "    <tr>\n",
       "      <th>0</th>\n",
       "      <td>A Ashish Reddy</td>\n",
       "      <td>400</td>\n",
       "      <td>270</td>\n",
       "      <td>45</td>\n",
       "    </tr>\n",
       "    <tr>\n",
       "      <th>1</th>\n",
       "      <td>A Chandila</td>\n",
       "      <td>245</td>\n",
       "      <td>234</td>\n",
       "      <td>39</td>\n",
       "    </tr>\n",
       "    <tr>\n",
       "      <th>2</th>\n",
       "      <td>A Choudhary</td>\n",
       "      <td>144</td>\n",
       "      <td>108</td>\n",
       "      <td>18</td>\n",
       "    </tr>\n",
       "    <tr>\n",
       "      <th>3</th>\n",
       "      <td>A Dananjaya</td>\n",
       "      <td>47</td>\n",
       "      <td>25</td>\n",
       "      <td>4</td>\n",
       "    </tr>\n",
       "    <tr>\n",
       "      <th>4</th>\n",
       "      <td>A Flintoff</td>\n",
       "      <td>106</td>\n",
       "      <td>66</td>\n",
       "      <td>11</td>\n",
       "    </tr>\n",
       "    <tr>\n",
       "      <th>...</th>\n",
       "      <td>...</td>\n",
       "      <td>...</td>\n",
       "      <td>...</td>\n",
       "      <td>...</td>\n",
       "    </tr>\n",
       "    <tr>\n",
       "      <th>415</th>\n",
       "      <td>YA Abdulla</td>\n",
       "      <td>311</td>\n",
       "      <td>222</td>\n",
       "      <td>37</td>\n",
       "    </tr>\n",
       "    <tr>\n",
       "      <th>416</th>\n",
       "      <td>YK Pathan</td>\n",
       "      <td>1443</td>\n",
       "      <td>1184</td>\n",
       "      <td>197</td>\n",
       "    </tr>\n",
       "    <tr>\n",
       "      <th>417</th>\n",
       "      <td>YS Chahal</td>\n",
       "      <td>2782</td>\n",
       "      <td>2188</td>\n",
       "      <td>364</td>\n",
       "    </tr>\n",
       "    <tr>\n",
       "      <th>418</th>\n",
       "      <td>Yuvraj Singh</td>\n",
       "      <td>1091</td>\n",
       "      <td>882</td>\n",
       "      <td>147</td>\n",
       "    </tr>\n",
       "    <tr>\n",
       "      <th>419</th>\n",
       "      <td>Z Khan</td>\n",
       "      <td>2860</td>\n",
       "      <td>2276</td>\n",
       "      <td>379</td>\n",
       "    </tr>\n",
       "  </tbody>\n",
       "</table>\n",
       "<p>420 rows × 4 columns</p>\n",
       "</div>"
      ],
      "text/plain": [
       "             bowler  runs_given  balls  overs\n",
       "0    A Ashish Reddy         400    270     45\n",
       "1        A Chandila         245    234     39\n",
       "2       A Choudhary         144    108     18\n",
       "3       A Dananjaya          47     25      4\n",
       "4        A Flintoff         106     66     11\n",
       "..              ...         ...    ...    ...\n",
       "415      YA Abdulla         311    222     37\n",
       "416       YK Pathan        1443   1184    197\n",
       "417       YS Chahal        2782   2188    364\n",
       "418    Yuvraj Singh        1091    882    147\n",
       "419          Z Khan        2860   2276    379\n",
       "\n",
       "[420 rows x 4 columns]"
      ]
     },
     "execution_count": 59,
     "metadata": {},
     "output_type": "execute_result"
    }
   ],
   "source": [
    "bowlers"
   ]
  },
  {
   "cell_type": "code",
   "execution_count": 60,
   "id": "357aa17c",
   "metadata": {
    "execution": {
     "iopub.execute_input": "2022-09-22T00:22:31.790578Z",
     "iopub.status.busy": "2022-09-22T00:22:31.789988Z",
     "iopub.status.idle": "2022-09-22T00:22:31.843575Z",
     "shell.execute_reply": "2022-09-22T00:22:31.842334Z"
    },
    "papermill": {
     "duration": 0.104306,
     "end_time": "2022-09-22T00:22:31.846523",
     "exception": false,
     "start_time": "2022-09-22T00:22:31.742217",
     "status": "completed"
    },
    "tags": []
   },
   "outputs": [
    {
     "data": {
      "text/html": [
       "<div>\n",
       "<style scoped>\n",
       "    .dataframe tbody tr th:only-of-type {\n",
       "        vertical-align: middle;\n",
       "    }\n",
       "\n",
       "    .dataframe tbody tr th {\n",
       "        vertical-align: top;\n",
       "    }\n",
       "\n",
       "    .dataframe thead th {\n",
       "        text-align: right;\n",
       "    }\n",
       "</style>\n",
       "<table border=\"1\" class=\"dataframe\">\n",
       "  <thead>\n",
       "    <tr style=\"text-align: right;\">\n",
       "      <th></th>\n",
       "      <th>bowler</th>\n",
       "      <th>runs_given</th>\n",
       "      <th>overs</th>\n",
       "      <th>wickets</th>\n",
       "      <th>avg_economy</th>\n",
       "    </tr>\n",
       "  </thead>\n",
       "  <tbody>\n",
       "    <tr>\n",
       "      <th>0</th>\n",
       "      <td>A Ashish Reddy</td>\n",
       "      <td>400</td>\n",
       "      <td>45</td>\n",
       "      <td>18.0</td>\n",
       "      <td>8.888889</td>\n",
       "    </tr>\n",
       "    <tr>\n",
       "      <th>1</th>\n",
       "      <td>A Chandila</td>\n",
       "      <td>245</td>\n",
       "      <td>39</td>\n",
       "      <td>11.0</td>\n",
       "      <td>6.282051</td>\n",
       "    </tr>\n",
       "    <tr>\n",
       "      <th>2</th>\n",
       "      <td>A Choudhary</td>\n",
       "      <td>144</td>\n",
       "      <td>18</td>\n",
       "      <td>5.0</td>\n",
       "      <td>8.000000</td>\n",
       "    </tr>\n",
       "    <tr>\n",
       "      <th>4</th>\n",
       "      <td>A Flintoff</td>\n",
       "      <td>106</td>\n",
       "      <td>11</td>\n",
       "      <td>2.0</td>\n",
       "      <td>9.636364</td>\n",
       "    </tr>\n",
       "    <tr>\n",
       "      <th>5</th>\n",
       "      <td>A Kumble</td>\n",
       "      <td>1089</td>\n",
       "      <td>163</td>\n",
       "      <td>45.0</td>\n",
       "      <td>6.680982</td>\n",
       "    </tr>\n",
       "    <tr>\n",
       "      <th>...</th>\n",
       "      <td>...</td>\n",
       "      <td>...</td>\n",
       "      <td>...</td>\n",
       "      <td>...</td>\n",
       "      <td>...</td>\n",
       "    </tr>\n",
       "    <tr>\n",
       "      <th>415</th>\n",
       "      <td>YA Abdulla</td>\n",
       "      <td>311</td>\n",
       "      <td>37</td>\n",
       "      <td>15.0</td>\n",
       "      <td>8.405405</td>\n",
       "    </tr>\n",
       "    <tr>\n",
       "      <th>416</th>\n",
       "      <td>YK Pathan</td>\n",
       "      <td>1443</td>\n",
       "      <td>197</td>\n",
       "      <td>42.0</td>\n",
       "      <td>7.324873</td>\n",
       "    </tr>\n",
       "    <tr>\n",
       "      <th>417</th>\n",
       "      <td>YS Chahal</td>\n",
       "      <td>2782</td>\n",
       "      <td>364</td>\n",
       "      <td>121.0</td>\n",
       "      <td>7.642857</td>\n",
       "    </tr>\n",
       "    <tr>\n",
       "      <th>418</th>\n",
       "      <td>Yuvraj Singh</td>\n",
       "      <td>1091</td>\n",
       "      <td>147</td>\n",
       "      <td>36.0</td>\n",
       "      <td>7.421769</td>\n",
       "    </tr>\n",
       "    <tr>\n",
       "      <th>419</th>\n",
       "      <td>Z Khan</td>\n",
       "      <td>2860</td>\n",
       "      <td>379</td>\n",
       "      <td>102.0</td>\n",
       "      <td>7.546174</td>\n",
       "    </tr>\n",
       "  </tbody>\n",
       "</table>\n",
       "<p>360 rows × 5 columns</p>\n",
       "</div>"
      ],
      "text/plain": [
       "             bowler  runs_given  overs  wickets  avg_economy\n",
       "0    A Ashish Reddy         400     45     18.0     8.888889\n",
       "1        A Chandila         245     39     11.0     6.282051\n",
       "2       A Choudhary         144     18      5.0     8.000000\n",
       "4        A Flintoff         106     11      2.0     9.636364\n",
       "5          A Kumble        1089    163     45.0     6.680982\n",
       "..              ...         ...    ...      ...          ...\n",
       "415      YA Abdulla         311     37     15.0     8.405405\n",
       "416       YK Pathan        1443    197     42.0     7.324873\n",
       "417       YS Chahal        2782    364    121.0     7.642857\n",
       "418    Yuvraj Singh        1091    147     36.0     7.421769\n",
       "419          Z Khan        2860    379    102.0     7.546174\n",
       "\n",
       "[360 rows x 5 columns]"
      ]
     },
     "execution_count": 60,
     "metadata": {},
     "output_type": "execute_result"
    }
   ],
   "source": [
    "dismissal_kinds = [\"bowled\", \"caught\", \"lbw\", \"stumped\", \"caught and bowled\", \"hit wicket\"]  \n",
    "ct=ball_data[ball_data[\"dismissal_kind\"].isin(dismissal_kinds)]\n",
    "ct=ct['bowler'].value_counts().reset_index()\n",
    "bowlers=bowlers.merge(ct,left_on='bowler',right_on='index',how='left').dropna()\n",
    "bowlers=bowlers[['bowler_x','runs_given','overs','bowler_y']]\n",
    "bowlers.rename({'bowler_x':'bowler','bowler_y':'wickets'},axis=1,inplace=True)\n",
    "bowlers['avg_economy']=(bowlers['runs_given']/bowlers['overs'])\n",
    "bowlers"
   ]
  },
  {
   "cell_type": "markdown",
   "id": "d58b75c7",
   "metadata": {
    "papermill": {
     "duration": 0.045681,
     "end_time": "2022-09-22T00:22:31.936768",
     "exception": false,
     "start_time": "2022-09-22T00:22:31.891087",
     "status": "completed"
    },
    "tags": []
   },
   "source": [
    "### <b>Purple Cap Holders:</b>"
   ]
  },
  {
   "cell_type": "code",
   "execution_count": 61,
   "id": "a40c78cc",
   "metadata": {
    "execution": {
     "iopub.execute_input": "2022-09-22T00:22:32.029066Z",
     "iopub.status.busy": "2022-09-22T00:22:32.028621Z",
     "iopub.status.idle": "2022-09-22T00:22:32.093600Z",
     "shell.execute_reply": "2022-09-22T00:22:32.092244Z"
    },
    "papermill": {
     "duration": 0.114829,
     "end_time": "2022-09-22T00:22:32.096683",
     "exception": false,
     "start_time": "2022-09-22T00:22:31.981854",
     "status": "completed"
    },
    "tags": []
   },
   "outputs": [
    {
     "data": {
      "text/html": [
       "<div>\n",
       "<style scoped>\n",
       "    .dataframe tbody tr th:only-of-type {\n",
       "        vertical-align: middle;\n",
       "    }\n",
       "\n",
       "    .dataframe tbody tr th {\n",
       "        vertical-align: top;\n",
       "    }\n",
       "\n",
       "    .dataframe thead th {\n",
       "        text-align: right;\n",
       "    }\n",
       "</style>\n",
       "<table border=\"1\" class=\"dataframe\">\n",
       "  <thead>\n",
       "    <tr style=\"text-align: right;\">\n",
       "      <th></th>\n",
       "      <th>date</th>\n",
       "      <th>bowler</th>\n",
       "      <th>wickets</th>\n",
       "    </tr>\n",
       "  </thead>\n",
       "  <tbody>\n",
       "    <tr>\n",
       "      <th>75</th>\n",
       "      <td>2008</td>\n",
       "      <td>Sohail Tanvir</td>\n",
       "      <td>22</td>\n",
       "    </tr>\n",
       "    <tr>\n",
       "      <th>152</th>\n",
       "      <td>2009</td>\n",
       "      <td>RP Singh</td>\n",
       "      <td>23</td>\n",
       "    </tr>\n",
       "    <tr>\n",
       "      <th>241</th>\n",
       "      <td>2010</td>\n",
       "      <td>PP Ojha</td>\n",
       "      <td>21</td>\n",
       "    </tr>\n",
       "    <tr>\n",
       "      <th>367</th>\n",
       "      <td>2011</td>\n",
       "      <td>SL Malinga</td>\n",
       "      <td>28</td>\n",
       "    </tr>\n",
       "    <tr>\n",
       "      <th>437</th>\n",
       "      <td>2012</td>\n",
       "      <td>M Morkel</td>\n",
       "      <td>25</td>\n",
       "    </tr>\n",
       "    <tr>\n",
       "      <th>509</th>\n",
       "      <td>2013</td>\n",
       "      <td>DJ Bravo</td>\n",
       "      <td>32</td>\n",
       "    </tr>\n",
       "    <tr>\n",
       "      <th>639</th>\n",
       "      <td>2014</td>\n",
       "      <td>MM Sharma</td>\n",
       "      <td>23</td>\n",
       "    </tr>\n",
       "    <tr>\n",
       "      <th>695</th>\n",
       "      <td>2015</td>\n",
       "      <td>DJ Bravo</td>\n",
       "      <td>26</td>\n",
       "    </tr>\n",
       "    <tr>\n",
       "      <th>774</th>\n",
       "      <td>2016</td>\n",
       "      <td>B Kumar</td>\n",
       "      <td>23</td>\n",
       "    </tr>\n",
       "    <tr>\n",
       "      <th>861</th>\n",
       "      <td>2017</td>\n",
       "      <td>B Kumar</td>\n",
       "      <td>26</td>\n",
       "    </tr>\n",
       "    <tr>\n",
       "      <th>943</th>\n",
       "      <td>2018</td>\n",
       "      <td>AJ Tye</td>\n",
       "      <td>24</td>\n",
       "    </tr>\n",
       "    <tr>\n",
       "      <th>1049</th>\n",
       "      <td>2019</td>\n",
       "      <td>Imran Tahir</td>\n",
       "      <td>26</td>\n",
       "    </tr>\n",
       "    <tr>\n",
       "      <th>1142</th>\n",
       "      <td>2020</td>\n",
       "      <td>K Rabada</td>\n",
       "      <td>30</td>\n",
       "    </tr>\n",
       "  </tbody>\n",
       "</table>\n",
       "</div>"
      ],
      "text/plain": [
       "      date         bowler  wickets\n",
       "75    2008  Sohail Tanvir       22\n",
       "152   2009       RP Singh       23\n",
       "241   2010        PP Ojha       21\n",
       "367   2011     SL Malinga       28\n",
       "437   2012       M Morkel       25\n",
       "509   2013       DJ Bravo       32\n",
       "639   2014      MM Sharma       23\n",
       "695   2015       DJ Bravo       26\n",
       "774   2016        B Kumar       23\n",
       "861   2017        B Kumar       26\n",
       "943   2018         AJ Tye       24\n",
       "1049  2019    Imran Tahir       26\n",
       "1142  2020       K Rabada       30"
      ]
     },
     "execution_count": 61,
     "metadata": {},
     "output_type": "execute_result"
    }
   ],
   "source": [
    "dismissal_kinds = [\"bowled\", \"caught\", \"lbw\", \"stumped\", \"caught and bowled\", \"hit wicket\"] \n",
    "purple_cap=ball_data[ball_data[\"dismissal_kind\"].isin(dismissal_kinds)]\n",
    "purple_cap=purple_cap.merge(match_data,left_on='id',right_on='id',how='outer')\n",
    "purple_cap=purple_cap.groupby(['date','bowler'])['dismissal_kind'].count().reset_index()\n",
    "purple_cap=purple_cap.sort_values('dismissal_kind',ascending=False)\n",
    "purple_cap=purple_cap.drop_duplicates('date',keep='first').sort_values(by='date')\n",
    "purple_cap.rename({'dismissal_kind':'wickets'},axis=1,inplace=True)\n",
    "purple_cap"
   ]
  },
  {
   "cell_type": "markdown",
   "id": "42eb7c10",
   "metadata": {
    "papermill": {
     "duration": 0.045011,
     "end_time": "2022-09-22T00:22:32.187546",
     "exception": false,
     "start_time": "2022-09-22T00:22:32.142535",
     "status": "completed"
    },
    "tags": []
   },
   "source": [
    "### <b>Highest Wicket Takers:</b>"
   ]
  },
  {
   "cell_type": "code",
   "execution_count": 62,
   "id": "3466c6c7",
   "metadata": {
    "execution": {
     "iopub.execute_input": "2022-09-22T00:22:32.279565Z",
     "iopub.status.busy": "2022-09-22T00:22:32.279038Z",
     "iopub.status.idle": "2022-09-22T00:22:32.287177Z",
     "shell.execute_reply": "2022-09-22T00:22:32.285900Z"
    },
    "papermill": {
     "duration": 0.057049,
     "end_time": "2022-09-22T00:22:32.289692",
     "exception": false,
     "start_time": "2022-09-22T00:22:32.232643",
     "status": "completed"
    },
    "tags": []
   },
   "outputs": [],
   "source": [
    "bowlers_top=bowlers.sort_values(by='runs_given',ascending=False)\n",
    "bowlers_top=bowlers_top.head(20)\n",
    "bowlers_top=bowlers_top.sort_values(['wickets'],ascending=False)"
   ]
  },
  {
   "cell_type": "code",
   "execution_count": 63,
   "id": "6220f7b6",
   "metadata": {
    "execution": {
     "iopub.execute_input": "2022-09-22T00:22:32.381677Z",
     "iopub.status.busy": "2022-09-22T00:22:32.381179Z",
     "iopub.status.idle": "2022-09-22T00:22:32.915324Z",
     "shell.execute_reply": "2022-09-22T00:22:32.914263Z"
    },
    "papermill": {
     "duration": 0.582905,
     "end_time": "2022-09-22T00:22:32.917660",
     "exception": false,
     "start_time": "2022-09-22T00:22:32.334755",
     "status": "completed"
    },
    "tags": []
   },
   "outputs": [
    {
     "data": {
      "image/png": "[encoded data removed]",
      "text/plain": [
       "<Figure size 864x864 with 1 Axes>"
      ]
     },
     "metadata": {},
     "output_type": "display_data"
    }
   ],
   "source": [
    "plt.figure(figsize=(12,12))\n",
    "c1 = sns.barplot(data = bowlers_top,y=\"bowler\", x=\"wickets\",palette = 'mako')\n",
    "c1.bar_label(c1.containers[0],size = 15)\n",
    "plt.ylabel('Bowlers',fontsize=12)\n",
    "plt.xlabel('No of wickets',fontsize=12)\n",
    "plt.title('Top 20 Wicket Takers of all time',fontsize=15)\n",
    "plt.show()"
   ]
  },
  {
   "cell_type": "markdown",
   "id": "41eb7309",
   "metadata": {
    "papermill": {
     "duration": 0.045357,
     "end_time": "2022-09-22T00:22:33.008824",
     "exception": false,
     "start_time": "2022-09-22T00:22:32.963467",
     "status": "completed"
    },
    "tags": []
   },
   "source": [
    "- **Lasith Malinga is the highest wicket taker with 170 wickets over his entire IPL career.**\n"
   ]
  },
  {
   "cell_type": "markdown",
   "id": "e73b73ba",
   "metadata": {
    "papermill": {
     "duration": 0.044897,
     "end_time": "2022-09-22T00:22:33.099530",
     "exception": false,
     "start_time": "2022-09-22T00:22:33.054633",
     "status": "completed"
    },
    "tags": []
   },
   "source": [
    "### <b>Highest number of dot balls bowled ever:</b>"
   ]
  },
  {
   "cell_type": "code",
   "execution_count": 64,
   "id": "fb1cc7bf",
   "metadata": {
    "execution": {
     "iopub.execute_input": "2022-09-22T00:22:33.192962Z",
     "iopub.status.busy": "2022-09-22T00:22:33.192468Z",
     "iopub.status.idle": "2022-09-22T00:22:33.604321Z",
     "shell.execute_reply": "2022-09-22T00:22:33.603229Z"
    },
    "papermill": {
     "duration": 0.461728,
     "end_time": "2022-09-22T00:22:33.606871",
     "exception": false,
     "start_time": "2022-09-22T00:22:33.145143",
     "status": "completed"
    },
    "tags": []
   },
   "outputs": [
    {
     "data": {
      "image/png": "[encoded data removed]",
      "text/plain": [
       "<Figure size 864x720 with 1 Axes>"
      ]
     },
     "metadata": {},
     "output_type": "display_data"
    }
   ],
   "source": [
    "plt.figure(figsize=(12,10))\n",
    "plt.title(\"Maximum Dot Balls bowled\")\n",
    "data = ball_data[ball_data['total_runs'] == 0].groupby('bowler').count()['id'].sort_values(ascending=False)[:10]\n",
    "c1=sns.barplot(y=data.index,x=data,palette=\"mako\")\n",
    "c1.bar_label(c1.containers[0],size = 15)\n",
    "plt.xlabel('Dot Balls')\n",
    "plt.ylabel('bowler')\n",
    "plt.show()"
   ]
  },
  {
   "cell_type": "markdown",
   "id": "96a5a8df",
   "metadata": {
    "papermill": {
     "duration": 0.045934,
     "end_time": "2022-09-22T00:22:33.699820",
     "exception": false,
     "start_time": "2022-09-22T00:22:33.653886",
     "status": "completed"
    },
    "tags": []
   },
   "source": [
    "- **Harbhajan Singh** has bowled the highest number of dot balls ever(1244 balls) i.e hasnt conceded a run.\n",
    "- Followed by Ashwin and Bhuvaneshwar Kumar respectively"
   ]
  },
  {
   "cell_type": "markdown",
   "id": "f072e500",
   "metadata": {
    "papermill": {
     "duration": 0.046748,
     "end_time": "2022-09-22T00:22:33.793309",
     "exception": false,
     "start_time": "2022-09-22T00:22:33.746561",
     "status": "completed"
    },
    "tags": []
   },
   "source": [
    "### <b>Teams which have highest number of runs conceded as extras:</b>"
   ]
  },
  {
   "cell_type": "code",
   "execution_count": 65,
   "id": "7b8b8dba",
   "metadata": {
    "execution": {
     "iopub.execute_input": "2022-09-22T00:22:33.890257Z",
     "iopub.status.busy": "2022-09-22T00:22:33.889418Z",
     "iopub.status.idle": "2022-09-22T00:22:34.270261Z",
     "shell.execute_reply": "2022-09-22T00:22:34.269071Z"
    },
    "papermill": {
     "duration": 0.432964,
     "end_time": "2022-09-22T00:22:34.273240",
     "exception": false,
     "start_time": "2022-09-22T00:22:33.840276",
     "status": "completed"
    },
    "tags": []
   },
   "outputs": [
    {
     "data": {
      "image/png": "[encoded data removed]",
      "text/plain": [
       "<Figure size 864x720 with 1 Axes>"
      ]
     },
     "metadata": {},
     "output_type": "display_data"
    }
   ],
   "source": [
    "plt.figure(figsize=(12,10))\n",
    "plt.title(\"Runs conceeded as extras\")\n",
    "data = ball_data.groupby(['batting_team'])['extra_runs'].agg('sum').sort_values(ascending=False)\n",
    "c1=sns.barplot(y=data.index,x=data,palette=\"mako\")\n",
    "c1.bar_label(c1.containers[0],size = 15)\n",
    "plt.xlabel('Runs')\n",
    "plt.ylabel('Teams')\n",
    "plt.show()"
   ]
  },
  {
   "cell_type": "markdown",
   "id": "ddbc9fe4",
   "metadata": {
    "papermill": {
     "duration": 0.047841,
     "end_time": "2022-09-22T00:22:34.368880",
     "exception": false,
     "start_time": "2022-09-22T00:22:34.321039",
     "status": "completed"
    },
    "tags": []
   },
   "source": [
    "### <b>Winners Analysis:</b>"
   ]
  },
  {
   "cell_type": "markdown",
   "id": "2da435ac",
   "metadata": {
    "papermill": {
     "duration": 0.046398,
     "end_time": "2022-09-22T00:22:34.462026",
     "exception": false,
     "start_time": "2022-09-22T00:22:34.415628",
     "status": "completed"
    },
    "tags": []
   },
   "source": [
    "### <b>Teams been to finals multiple times:</b>"
   ]
  },
  {
   "cell_type": "code",
   "execution_count": 66,
   "id": "687f23a2",
   "metadata": {
    "execution": {
     "iopub.execute_input": "2022-09-22T00:22:34.558531Z",
     "iopub.status.busy": "2022-09-22T00:22:34.557615Z",
     "iopub.status.idle": "2022-09-22T00:22:34.577416Z",
     "shell.execute_reply": "2022-09-22T00:22:34.576119Z"
    },
    "papermill": {
     "duration": 0.071015,
     "end_time": "2022-09-22T00:22:34.580128",
     "exception": false,
     "start_time": "2022-09-22T00:22:34.509113",
     "status": "completed"
    },
    "tags": []
   },
   "outputs": [
    {
     "data": {
      "text/html": [
       "<div>\n",
       "<style scoped>\n",
       "    .dataframe tbody tr th:only-of-type {\n",
       "        vertical-align: middle;\n",
       "    }\n",
       "\n",
       "    .dataframe tbody tr th {\n",
       "        vertical-align: top;\n",
       "    }\n",
       "\n",
       "    .dataframe thead th {\n",
       "        text-align: right;\n",
       "    }\n",
       "</style>\n",
       "<table border=\"1\" class=\"dataframe\">\n",
       "  <thead>\n",
       "    <tr style=\"text-align: right;\">\n",
       "      <th></th>\n",
       "      <th>team</th>\n",
       "      <th>count</th>\n",
       "    </tr>\n",
       "  </thead>\n",
       "  <tbody>\n",
       "    <tr>\n",
       "      <th>0</th>\n",
       "      <td>CSK</td>\n",
       "      <td>8</td>\n",
       "    </tr>\n",
       "    <tr>\n",
       "      <th>1</th>\n",
       "      <td>MI</td>\n",
       "      <td>6</td>\n",
       "    </tr>\n",
       "    <tr>\n",
       "      <th>2</th>\n",
       "      <td>RCB</td>\n",
       "      <td>3</td>\n",
       "    </tr>\n",
       "    <tr>\n",
       "      <th>3</th>\n",
       "      <td>SRH</td>\n",
       "      <td>3</td>\n",
       "    </tr>\n",
       "    <tr>\n",
       "      <th>4</th>\n",
       "      <td>KKR</td>\n",
       "      <td>2</td>\n",
       "    </tr>\n",
       "    <tr>\n",
       "      <th>5</th>\n",
       "      <td>DC</td>\n",
       "      <td>1</td>\n",
       "    </tr>\n",
       "    <tr>\n",
       "      <th>6</th>\n",
       "      <td>RR</td>\n",
       "      <td>1</td>\n",
       "    </tr>\n",
       "    <tr>\n",
       "      <th>7</th>\n",
       "      <td>KXIP</td>\n",
       "      <td>1</td>\n",
       "    </tr>\n",
       "    <tr>\n",
       "      <th>8</th>\n",
       "      <td>RPS</td>\n",
       "      <td>1</td>\n",
       "    </tr>\n",
       "  </tbody>\n",
       "</table>\n",
       "</div>"
      ],
      "text/plain": [
       "   team  count\n",
       "0   CSK      8\n",
       "1    MI      6\n",
       "2   RCB      3\n",
       "3   SRH      3\n",
       "4   KKR      2\n",
       "5    DC      1\n",
       "6    RR      1\n",
       "7  KXIP      1\n",
       "8   RPS      1"
      ]
     },
     "execution_count": 66,
     "metadata": {},
     "output_type": "execute_result"
    }
   ],
   "source": [
    "finals=match_data.drop_duplicates(subset=['date'],keep='last')\n",
    "finals=finals[['date','city','team1','team2','toss_winner','toss_decision','winner']]\n",
    "most_finals=pd.concat([finals['team1'],finals['team2']]).value_counts().reset_index()\n",
    "most_finals.rename({'index':'team',0:'count'},axis=1,inplace=True)\n",
    "most_finals"
   ]
  },
  {
   "cell_type": "markdown",
   "id": "e8ed96bd",
   "metadata": {
    "papermill": {
     "duration": 0.046749,
     "end_time": "2022-09-22T00:22:34.673771",
     "exception": false,
     "start_time": "2022-09-22T00:22:34.627022",
     "status": "completed"
    },
    "tags": []
   },
   "source": [
    "- **CSK has been to the finals 8 times followed by MI (6 times).**"
   ]
  },
  {
   "cell_type": "code",
   "execution_count": 67,
   "id": "9202e3c5",
   "metadata": {
    "execution": {
     "iopub.execute_input": "2022-09-22T00:22:34.774755Z",
     "iopub.status.busy": "2022-09-22T00:22:34.774299Z",
     "iopub.status.idle": "2022-09-22T00:22:34.792520Z",
     "shell.execute_reply": "2022-09-22T00:22:34.791187Z"
    },
    "papermill": {
     "duration": 0.071432,
     "end_time": "2022-09-22T00:22:34.795294",
     "exception": false,
     "start_time": "2022-09-22T00:22:34.723862",
     "status": "completed"
    },
    "tags": []
   },
   "outputs": [
    {
     "data": {
      "text/html": [
       "<div>\n",
       "<style scoped>\n",
       "    .dataframe tbody tr th:only-of-type {\n",
       "        vertical-align: middle;\n",
       "    }\n",
       "\n",
       "    .dataframe tbody tr th {\n",
       "        vertical-align: top;\n",
       "    }\n",
       "\n",
       "    .dataframe thead th {\n",
       "        text-align: right;\n",
       "    }\n",
       "</style>\n",
       "<table border=\"1\" class=\"dataframe\">\n",
       "  <thead>\n",
       "    <tr style=\"text-align: right;\">\n",
       "      <th></th>\n",
       "      <th>team</th>\n",
       "      <th>winner</th>\n",
       "    </tr>\n",
       "  </thead>\n",
       "  <tbody>\n",
       "    <tr>\n",
       "      <th>0</th>\n",
       "      <td>MI</td>\n",
       "      <td>5</td>\n",
       "    </tr>\n",
       "    <tr>\n",
       "      <th>1</th>\n",
       "      <td>CSK</td>\n",
       "      <td>3</td>\n",
       "    </tr>\n",
       "    <tr>\n",
       "      <th>2</th>\n",
       "      <td>SRH</td>\n",
       "      <td>2</td>\n",
       "    </tr>\n",
       "    <tr>\n",
       "      <th>3</th>\n",
       "      <td>KKR</td>\n",
       "      <td>2</td>\n",
       "    </tr>\n",
       "    <tr>\n",
       "      <th>4</th>\n",
       "      <td>RR</td>\n",
       "      <td>1</td>\n",
       "    </tr>\n",
       "  </tbody>\n",
       "</table>\n",
       "</div>"
      ],
      "text/plain": [
       "  team  winner\n",
       "0   MI       5\n",
       "1  CSK       3\n",
       "2  SRH       2\n",
       "3  KKR       2\n",
       "4   RR       1"
      ]
     },
     "execution_count": 67,
     "metadata": {},
     "output_type": "execute_result"
    }
   ],
   "source": [
    "ipl_winners=match_data.drop_duplicates(subset=['date'], keep='last')[['date','winner']].reset_index(drop=True)\n",
    "ipl_winners = ipl_winners['winner'].value_counts()\n",
    "\n",
    "ipl_winners = ipl_winners.to_frame()\n",
    "ipl_winners.reset_index(inplace=True)\n",
    "ipl_winners.rename(columns={'index':'team'},inplace=True)\n",
    "ipl_winners"
   ]
  },
  {
   "cell_type": "markdown",
   "id": "a0b2a8a4",
   "metadata": {
    "papermill": {
     "duration": 0.047635,
     "end_time": "2022-09-22T00:22:34.890650",
     "exception": false,
     "start_time": "2022-09-22T00:22:34.843015",
     "status": "completed"
    },
    "tags": []
   },
   "source": [
    "- **MI has been the most successful team by winning around 5 out of the 6 finals they have been too.**"
   ]
  },
  {
   "cell_type": "markdown",
   "id": "2d5f8576",
   "metadata": {
    "papermill": {
     "duration": 0.046827,
     "end_time": "2022-09-22T00:22:34.985734",
     "exception": false,
     "start_time": "2022-09-22T00:22:34.938907",
     "status": "completed"
    },
    "tags": []
   },
   "source": [
    "### <b>Team's decision after they win the toss during finals?</b>"
   ]
  },
  {
   "cell_type": "code",
   "execution_count": 68,
   "id": "913df7a3",
   "metadata": {
    "execution": {
     "iopub.execute_input": "2022-09-22T00:22:35.083496Z",
     "iopub.status.busy": "2022-09-22T00:22:35.082251Z",
     "iopub.status.idle": "2022-09-22T00:22:35.288816Z",
     "shell.execute_reply": "2022-09-22T00:22:35.287777Z"
    },
    "papermill": {
     "duration": 0.258261,
     "end_time": "2022-09-22T00:22:35.291380",
     "exception": false,
     "start_time": "2022-09-22T00:22:35.033119",
     "status": "completed"
    },
    "tags": []
   },
   "outputs": [
    {
     "data": {
      "image/png": "[encoded data removed]",
      "text/plain": [
       "<Figure size 576x576 with 1 Axes>"
      ]
     },
     "metadata": {},
     "output_type": "display_data"
    }
   ],
   "source": [
    "winners_ipl=match_data.drop_duplicates(subset=['date'], keep='last')[['date','winner','toss_decision','result','result_margin']]\n",
    "final_toss_decision = match_data['toss_decision'].value_counts().head(10)\n",
    "plt.figure(figsize=(8,8))\n",
    "c1 = sns.countplot(x='toss_decision',order=final_toss_decision.index,data = winners_ipl,palette = 'mako')\n",
    "c1.bar_label(c1.containers[0],size = 15)\n",
    "plt.ylabel('Venues',fontsize=12)\n",
    "plt.xlabel('No: of matches',fontsize=12)\n",
    "plt.title('Toss Decision made at finals',fontsize=15)\n",
    "plt.show()"
   ]
  },
  {
   "cell_type": "markdown",
   "id": "6b86c805",
   "metadata": {
    "papermill": {
     "duration": 0.055461,
     "end_time": "2022-09-22T00:22:35.394537",
     "exception": false,
     "start_time": "2022-09-22T00:22:35.339076",
     "status": "completed"
    },
    "tags": []
   },
   "source": [
    "- **Predominantly most of the teams which win the toss at finals elect to bat first !**"
   ]
  },
  {
   "cell_type": "markdown",
   "id": "13646780",
   "metadata": {
    "papermill": {
     "duration": 0.050554,
     "end_time": "2022-09-22T00:22:35.499205",
     "exception": false,
     "start_time": "2022-09-22T00:22:35.448651",
     "status": "completed"
    },
    "tags": []
   },
   "source": [
    "### <b>Win Rate of the Toss Decision taken during Finals:</b>"
   ]
  },
  {
   "cell_type": "code",
   "execution_count": 69,
   "id": "a917ec30",
   "metadata": {
    "execution": {
     "iopub.execute_input": "2022-09-22T00:22:35.617695Z",
     "iopub.status.busy": "2022-09-22T00:22:35.616580Z",
     "iopub.status.idle": "2022-09-22T00:22:35.637955Z",
     "shell.execute_reply": "2022-09-22T00:22:35.636686Z"
    },
    "papermill": {
     "duration": 0.076042,
     "end_time": "2022-09-22T00:22:35.640832",
     "exception": false,
     "start_time": "2022-09-22T00:22:35.564790",
     "status": "completed"
    },
    "tags": []
   },
   "outputs": [
    {
     "data": {
      "text/html": [
       "<div>\n",
       "<style scoped>\n",
       "    .dataframe tbody tr th:only-of-type {\n",
       "        vertical-align: middle;\n",
       "    }\n",
       "\n",
       "    .dataframe tbody tr th {\n",
       "        vertical-align: top;\n",
       "    }\n",
       "\n",
       "    .dataframe thead th {\n",
       "        text-align: right;\n",
       "    }\n",
       "</style>\n",
       "<table border=\"1\" class=\"dataframe\">\n",
       "  <thead>\n",
       "    <tr style=\"text-align: right;\">\n",
       "      <th></th>\n",
       "      <th>date</th>\n",
       "      <th>city</th>\n",
       "      <th>team1</th>\n",
       "      <th>team2</th>\n",
       "      <th>toss_winner</th>\n",
       "      <th>toss_decision</th>\n",
       "      <th>winner</th>\n",
       "    </tr>\n",
       "  </thead>\n",
       "  <tbody>\n",
       "    <tr>\n",
       "      <th>57</th>\n",
       "      <td>2008</td>\n",
       "      <td>Mumbai</td>\n",
       "      <td>CSK</td>\n",
       "      <td>RR</td>\n",
       "      <td>RR</td>\n",
       "      <td>field</td>\n",
       "      <td>RR</td>\n",
       "    </tr>\n",
       "    <tr>\n",
       "      <th>114</th>\n",
       "      <td>2009</td>\n",
       "      <td>Johannesburg</td>\n",
       "      <td>RCB</td>\n",
       "      <td>SRH</td>\n",
       "      <td>RCB</td>\n",
       "      <td>field</td>\n",
       "      <td>SRH</td>\n",
       "    </tr>\n",
       "    <tr>\n",
       "      <th>174</th>\n",
       "      <td>2010</td>\n",
       "      <td>Mumbai</td>\n",
       "      <td>CSK</td>\n",
       "      <td>MI</td>\n",
       "      <td>CSK</td>\n",
       "      <td>bat</td>\n",
       "      <td>CSK</td>\n",
       "    </tr>\n",
       "    <tr>\n",
       "      <th>247</th>\n",
       "      <td>2011</td>\n",
       "      <td>Chennai</td>\n",
       "      <td>CSK</td>\n",
       "      <td>RCB</td>\n",
       "      <td>CSK</td>\n",
       "      <td>bat</td>\n",
       "      <td>CSK</td>\n",
       "    </tr>\n",
       "    <tr>\n",
       "      <th>321</th>\n",
       "      <td>2012</td>\n",
       "      <td>Chennai</td>\n",
       "      <td>KKR</td>\n",
       "      <td>CSK</td>\n",
       "      <td>CSK</td>\n",
       "      <td>bat</td>\n",
       "      <td>KKR</td>\n",
       "    </tr>\n",
       "    <tr>\n",
       "      <th>397</th>\n",
       "      <td>2013</td>\n",
       "      <td>Kolkata</td>\n",
       "      <td>CSK</td>\n",
       "      <td>MI</td>\n",
       "      <td>MI</td>\n",
       "      <td>bat</td>\n",
       "      <td>MI</td>\n",
       "    </tr>\n",
       "    <tr>\n",
       "      <th>457</th>\n",
       "      <td>2014</td>\n",
       "      <td>Bangalore</td>\n",
       "      <td>KKR</td>\n",
       "      <td>KXIP</td>\n",
       "      <td>KKR</td>\n",
       "      <td>field</td>\n",
       "      <td>KKR</td>\n",
       "    </tr>\n",
       "    <tr>\n",
       "      <th>516</th>\n",
       "      <td>2015</td>\n",
       "      <td>Kolkata</td>\n",
       "      <td>MI</td>\n",
       "      <td>CSK</td>\n",
       "      <td>CSK</td>\n",
       "      <td>field</td>\n",
       "      <td>MI</td>\n",
       "    </tr>\n",
       "    <tr>\n",
       "      <th>576</th>\n",
       "      <td>2016</td>\n",
       "      <td>Bangalore</td>\n",
       "      <td>RCB</td>\n",
       "      <td>SRH</td>\n",
       "      <td>SRH</td>\n",
       "      <td>bat</td>\n",
       "      <td>SRH</td>\n",
       "    </tr>\n",
       "    <tr>\n",
       "      <th>635</th>\n",
       "      <td>2017</td>\n",
       "      <td>Hyderabad</td>\n",
       "      <td>MI</td>\n",
       "      <td>RPS</td>\n",
       "      <td>MI</td>\n",
       "      <td>bat</td>\n",
       "      <td>MI</td>\n",
       "    </tr>\n",
       "    <tr>\n",
       "      <th>695</th>\n",
       "      <td>2018</td>\n",
       "      <td>Mumbai</td>\n",
       "      <td>CSK</td>\n",
       "      <td>SRH</td>\n",
       "      <td>CSK</td>\n",
       "      <td>field</td>\n",
       "      <td>CSK</td>\n",
       "    </tr>\n",
       "    <tr>\n",
       "      <th>755</th>\n",
       "      <td>2019</td>\n",
       "      <td>Hyderabad</td>\n",
       "      <td>MI</td>\n",
       "      <td>CSK</td>\n",
       "      <td>MI</td>\n",
       "      <td>bat</td>\n",
       "      <td>MI</td>\n",
       "    </tr>\n",
       "    <tr>\n",
       "      <th>815</th>\n",
       "      <td>2020</td>\n",
       "      <td>Dubai</td>\n",
       "      <td>DC</td>\n",
       "      <td>MI</td>\n",
       "      <td>DC</td>\n",
       "      <td>bat</td>\n",
       "      <td>MI</td>\n",
       "    </tr>\n",
       "  </tbody>\n",
       "</table>\n",
       "</div>"
      ],
      "text/plain": [
       "     date          city team1 team2 toss_winner toss_decision winner\n",
       "57   2008        Mumbai   CSK    RR          RR         field     RR\n",
       "114  2009  Johannesburg   RCB   SRH         RCB         field    SRH\n",
       "174  2010        Mumbai   CSK    MI         CSK           bat    CSK\n",
       "247  2011       Chennai   CSK   RCB         CSK           bat    CSK\n",
       "321  2012       Chennai   KKR   CSK         CSK           bat    KKR\n",
       "397  2013       Kolkata   CSK    MI          MI           bat     MI\n",
       "457  2014     Bangalore   KKR  KXIP         KKR         field    KKR\n",
       "516  2015       Kolkata    MI   CSK         CSK         field     MI\n",
       "576  2016     Bangalore   RCB   SRH         SRH           bat    SRH\n",
       "635  2017     Hyderabad    MI   RPS          MI           bat     MI\n",
       "695  2018        Mumbai   CSK   SRH         CSK         field    CSK\n",
       "755  2019     Hyderabad    MI   CSK          MI           bat     MI\n",
       "815  2020         Dubai    DC    MI          DC           bat     MI"
      ]
     },
     "execution_count": 69,
     "metadata": {},
     "output_type": "execute_result"
    }
   ],
   "source": [
    "finals"
   ]
  },
  {
   "cell_type": "code",
   "execution_count": 70,
   "id": "b38358d7",
   "metadata": {
    "execution": {
     "iopub.execute_input": "2022-09-22T00:22:35.754790Z",
     "iopub.status.busy": "2022-09-22T00:22:35.753853Z",
     "iopub.status.idle": "2022-09-22T00:22:35.948493Z",
     "shell.execute_reply": "2022-09-22T00:22:35.947214Z"
    },
    "papermill": {
     "duration": 0.257484,
     "end_time": "2022-09-22T00:22:35.952540",
     "exception": false,
     "start_time": "2022-09-22T00:22:35.695056",
     "status": "completed"
    },
    "tags": []
   },
   "outputs": [
    {
     "data": {
      "image/png": "[encoded data removed]",
      "text/plain": [
       "<Figure size 432x288 with 1 Axes>"
      ]
     },
     "metadata": {},
     "output_type": "display_data"
    }
   ],
   "source": [
    "df=finals[finals['toss_winner']==finals['winner']]\n",
    "slices=[len(df),(len(finals)-len(df))]\n",
    "labels=['yes','no']\n",
    "colors = ['#66b3ff','#205bc0','#94b5ef']\n",
    " \n",
    "fig1, ax1 = plt.subplots()\n",
    "ax1.pie(slices, colors = colors, labels=labels, autopct='%1.1f%%', startangle=90)\n",
    "plt.title(\"Win Rate of the toss decision taken during finals\",fontsize=15)\n",
    "centre_circle = plt.Circle((0,0),0.70,fc='white')\n",
    "fig = plt.gcf()\n",
    "fig.gca().add_artist(centre_circle)\n",
    "ax1.axis('equal')  \n",
    "plt.tight_layout()\n",
    "plt.show()"
   ]
  },
  {
   "cell_type": "markdown",
   "id": "901af2fd",
   "metadata": {
    "papermill": {
     "duration": 0.048715,
     "end_time": "2022-09-22T00:22:36.074419",
     "exception": false,
     "start_time": "2022-09-22T00:22:36.025704",
     "status": "completed"
    },
    "tags": []
   },
   "source": [
    "- **Around 69 percent of the toss decision's taken during finals has been succesfull.**"
   ]
  },
  {
   "cell_type": "markdown",
   "id": "9eebaf5c",
   "metadata": {
    "papermill": {
     "duration": 0.049779,
     "end_time": "2022-09-22T00:22:36.174478",
     "exception": false,
     "start_time": "2022-09-22T00:22:36.124699",
     "status": "completed"
    },
    "tags": []
   },
   "source": [
    "## **Thanks for viewing the notebook , feel free to upvote if you find it useful!!**"
   ]
  }
 ],
 "metadata": {
  "kernelspec": {
   "display_name": "Python 3 (ipykernel)",
   "language": "python",
   "name": "python3"
  },
  "language_info": {
   "codemirror_mode": {
    "name": "ipython",
    "version": 3
   },
   "file_extension": ".py",
   "mimetype": "text/x-python",
   "name": "python",
   "nbconvert_exporter": "python",
   "pygments_lexer": "ipython3",
   "version": "3.9.7"
  },
  "papermill": {
   "default_parameters": {},
   "duration": 34.795193,
   "end_time": "2022-09-22T00:22:37.249398",
   "environment_variables": {},
   "exception": null,
   "input_path": "__notebook__.ipynb",
   "output_path": "__notebook__.ipynb",
   "parameters": {},
   "start_time": "2022-09-22T00:22:02.454205",
   "version": "2.3.4"
  }
 },
 "nbformat": 4,
 "nbformat_minor": 5
}
